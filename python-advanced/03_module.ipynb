{
 "cells": [
  {
   "cell_type": "markdown",
   "metadata": {},
   "source": [
    "# 03. Module\n",
    "\n",
    "> 1. Library collection of functions or variables<br>\n",
    "&nbsp; The way to share external python code\n",
    "\n",
    "> 2. How to use module <br>\n",
    "2-1. Extension of module: py <br>\n",
    "2-2. Syntax<br>\n",
    "  &nbsp;&nbsp;&nbsp; a. import {file_name} <br>\n",
    "  &nbsp;&nbsp;&nbsp; b. from {file_name} import {function_name}<br>\n"
   ]
  },
  {
   "cell_type": "code",
   "execution_count": 8,
   "metadata": {},
   "outputs": [
    {
     "name": "stdout",
     "output_type": "stream",
     "text": [
      "Overwriting fibo.py\n"
     ]
    }
   ],
   "source": [
    "%%writefile fibo.py\n",
    "\n",
    "# fibonacci sequence module\n",
    "def fib(n):\n",
    "    a, b = 0, 1\n",
    "    while b < n:\n",
    "        print(b, end=' ')\n",
    "        a, b = b, a + b\n",
    "\n",
    "# skipped if imported fibo.py externally\n",
    "if __name__ == \"__main__\":\n",
    "    print(\"area called if python file is directly executed\")\n",
    "    print(__name__)"
   ]
  },
  {
   "cell_type": "code",
   "execution_count": 9,
   "metadata": {},
   "outputs": [
    {
     "name": "stdout",
     "output_type": "stream",
     "text": [
      "1 1 2 3 5 8 13 21 34 55 89 "
     ]
    }
   ],
   "source": [
    "# module import\n",
    "import fibo\n",
    "\n",
    "fibo.fib(100)"
   ]
  },
  {
   "cell_type": "code",
   "execution_count": 11,
   "metadata": {},
   "outputs": [
    {
     "name": "stdout",
     "output_type": "stream",
     "text": [
      "area called if python file is directly executed\n",
      "__main__\n"
     ]
    }
   ],
   "source": [
    "# how to execute python file\n",
    "# python {file_name}.py\n",
    "!python3 fibo.py"
   ]
  },
  {
   "cell_type": "code",
   "execution_count": 12,
   "metadata": {},
   "outputs": [
    {
     "name": "stdout",
     "output_type": "stream",
     "text": [
      "1 1 2 3 5 8 "
     ]
    }
   ],
   "source": [
    "# add alias to module\n",
    "import fibo as f\n",
    "\n",
    "f.fib(10)"
   ]
  },
  {
   "cell_type": "code",
   "execution_count": 13,
   "metadata": {},
   "outputs": [
    {
     "name": "stdout",
     "output_type": "stream",
     "text": [
      "1 1 2 3 5 8 "
     ]
    }
   ],
   "source": [
    "# from {module} import {function}\n",
    "from fibo import fib\n",
    "\n",
    "fib(10)"
   ]
  },
  {
   "cell_type": "code",
   "execution_count": 14,
   "metadata": {},
   "outputs": [
    {
     "name": "stdout",
     "output_type": "stream",
     "text": [
      "1 1 2 3 5 8 13 "
     ]
    }
   ],
   "source": [
    "# not recommended way, except using many function in a module\n",
    "from fibo import *\n",
    "\n",
    "fib(20)"
   ]
  },
  {
   "cell_type": "code",
   "execution_count": 15,
   "metadata": {},
   "outputs": [
    {
     "name": "stdout",
     "output_type": "stream",
     "text": [
      "Writing mymath.py\n"
     ]
    }
   ],
   "source": [
    "%%writefile mymath.py\n",
    "\n",
    "mypi = 3.14\n",
    "def add(a,b):\n",
    "    return a+b\n",
    "\n",
    "def area(r):\n",
    "    return r*r*mypi"
   ]
  },
  {
   "cell_type": "code",
   "execution_count": 16,
   "metadata": {},
   "outputs": [
    {
     "name": "stdout",
     "output_type": "stream",
     "text": [
      "30\n"
     ]
    }
   ],
   "source": [
    "from mymath import add\n",
    "\n",
    "print(add(10, 20))"
   ]
  },
  {
   "cell_type": "code",
   "execution_count": 17,
   "metadata": {},
   "outputs": [],
   "source": [
    "# absolute import: import by order defined in 'sys.path' variable\n",
    "# relative import: find importing module by relative location \n",
    "import math  #math is module name\n",
    "from math import sin, cos, pi # import some package name in 'math' module to current namespace\n",
    "from math import *\n",
    "\n",
    "# add alias (recommended name exists)\n",
    "import numpy as np # when using module with another name. module name is too long or conflited \n",
    "from math import factorial as fact # when using other package name defined in module  \n",
    "from math import factorial as fact, sqrt as sq"
   ]
  },
  {
   "cell_type": "code",
   "execution_count": 18,
   "metadata": {},
   "outputs": [
    {
     "data": {
      "text/plain": [
       "'math'"
      ]
     },
     "execution_count": 18,
     "metadata": {},
     "output_type": "execute_result"
    }
   ],
   "source": [
    "import math\n",
    "math.__name__"
   ]
  },
  {
   "cell_type": "code",
   "execution_count": 19,
   "metadata": {},
   "outputs": [
    {
     "data": {
      "text/plain": [
       "'factorial'"
      ]
     },
     "execution_count": 19,
     "metadata": {},
     "output_type": "execute_result"
    }
   ],
   "source": [
    "from math import factorial as fact\n",
    "fact.__name__"
   ]
  },
  {
   "cell_type": "code",
   "execution_count": null,
   "metadata": {},
   "outputs": [],
   "source": []
  }
 ],
 "metadata": {
  "kernelspec": {
   "display_name": "Python 3",
   "language": "python",
   "name": "python3"
  },
  "language_info": {
   "codemirror_mode": {
    "name": "ipython",
    "version": 3
   },
   "file_extension": ".py",
   "mimetype": "text/x-python",
   "name": "python",
   "nbconvert_exporter": "python",
   "pygments_lexer": "ipython3",
   "version": "3.6.8"
  }
 },
 "nbformat": 4,
 "nbformat_minor": 4
}
