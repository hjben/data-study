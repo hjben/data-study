{
 "cells": [
  {
   "cell_type": "markdown",
   "metadata": {},
   "source": [
    "# 01. Web scraping basics"
   ]
  },
  {
   "cell_type": "markdown",
   "metadata": {},
   "source": [
    "###  1. Robotparser\n",
    "\n",
    "1. A file introducing if the web page is crawled\n",
    "   - file name: robots.txt\n",
    "   - url address: http://ip(domain):80/robots.txt\n",
    "\n",
    "2. Related python library: robotparser"
   ]
  },
  {
   "cell_type": "code",
   "execution_count": 1,
   "metadata": {},
   "outputs": [],
   "source": [
    "import urllib.robotparser\n",
    "\n",
    "rp = urllib.robotparser.RobotFileParser()"
   ]
  },
  {
   "cell_type": "code",
   "execution_count": 2,
   "metadata": {},
   "outputs": [
    {
     "name": "stdout",
     "output_type": "stream",
     "text": [
      "False\n"
     ]
    }
   ],
   "source": [
    "# wikibook\n",
    "rp.set_url(\"http://wikibook.co.kr/robots.txt\")\n",
    "rp.read()\n",
    "\n",
    "data = rp.can_fetch(\"mybot\", \"http://wikibook.co.kr\")\n",
    "print(data)"
   ]
  },
  {
   "cell_type": "code",
   "execution_count": 3,
   "metadata": {},
   "outputs": [
    {
     "name": "stdout",
     "output_type": "stream",
     "text": [
      "False\n"
     ]
    }
   ],
   "source": [
    "# google\n",
    "rp.set_url(\"http://www.google.com/robots.txt\")\n",
    "rp.read()\n",
    "\n",
    "data = rp.can_fetch(\"mybot\", \"http://www.google.com\")\n",
    "print(data)"
   ]
  },
  {
   "cell_type": "markdown",
   "metadata": {},
   "source": [
    "### 2. Usage of Regex"
   ]
  },
  {
   "cell_type": "code",
   "execution_count": 4,
   "metadata": {},
   "outputs": [],
   "source": [
    "import re\n",
    "  \n",
    "# test data - tag structure of 'http://www.hanbit.co.kr' \n",
    "data = '<td class=\"left\"><a href=\"/store/books/look.php?p_code=B7198274060\">book info</a></td>'"
   ]
  },
  {
   "cell_type": "code",
   "execution_count": 5,
   "metadata": {},
   "outputs": [
    {
     "data": {
      "text/plain": [
       "'/store/books/look.php?p_code=B7198274060'"
      ]
     },
     "execution_count": 5,
     "metadata": {},
     "output_type": "execute_result"
    }
   ],
   "source": [
    "# extract ''/store/books/look.php?p_code=B7198274060' from data  \n",
    "d1 = re.search(r'<a href=\"(.*)\">', data).group(1)\n",
    "d1"
   ]
  },
  {
   "cell_type": "code",
   "execution_count": 6,
   "metadata": {},
   "outputs": [
    {
     "data": {
      "text/plain": [
       "'book info'"
      ]
     },
     "execution_count": 6,
     "metadata": {},
     "output_type": "execute_result"
    }
   ],
   "source": [
    "# extract 'book_info' from data\n",
    "d2 = re.sub(r'<.*?>', '', data)\n",
    "d2"
   ]
  },
  {
   "cell_type": "code",
   "execution_count": 7,
   "metadata": {},
   "outputs": [
    {
     "data": {
      "text/plain": [
       "'B7198274060'"
      ]
     },
     "execution_count": 7,
     "metadata": {},
     "output_type": "execute_result"
    }
   ],
   "source": [
    "# B7198274060\n",
    "d3 = re.search(r'p_code=(.*)', d1).group(1)\n",
    "d3 \n",
    "   "
   ]
  },
  {
   "cell_type": "markdown",
   "metadata": {},
   "source": [
    "- 'a\\nb' is not matched if the regular expression is 'a.b', because \\n is not matched to meta character(.)  \n",
    "- You could use re.DOTALL option to match with \\n character"
   ]
  },
  {
   "cell_type": "markdown",
   "metadata": {},
   "source": [
    "### 3. Introduction to request"
   ]
  },
  {
   "cell_type": "markdown",
   "metadata": {},
   "source": [
    "- Getting web response informations with 'requests' library"
   ]
  },
  {
   "cell_type": "code",
   "execution_count": 8,
   "metadata": {},
   "outputs": [],
   "source": [
    "import requests"
   ]
  },
  {
   "cell_type": "code",
   "execution_count": 9,
   "metadata": {},
   "outputs": [],
   "source": [
    "r = requests.get('http://hanbit.co.kr')"
   ]
  },
  {
   "cell_type": "code",
   "execution_count": 10,
   "metadata": {},
   "outputs": [
    {
     "data": {
      "text/plain": [
       "200"
      ]
     },
     "execution_count": 10,
     "metadata": {},
     "output_type": "execute_result"
    }
   ],
   "source": [
    "# http status code\n",
    "r.status_code"
   ]
  },
  {
   "cell_type": "code",
   "execution_count": 11,
   "metadata": {},
   "outputs": [
    {
     "data": {
      "text/plain": [
       "{'Date': 'Thu, 02 Sep 2021 11:02:59 GMT', 'Server': 'Apache', 'X-Powered-By': 'PHP/5.3.3', 'Set-Cookie': 'PHPSESSID=m4e17kf9dpljf9onjkc1k9b345; path=/, PHPSESSID=m4e17kf9dpljf9onjkc1k9b345; path=/; secure; SameSite=None', 'Expires': 'Thu, 19 Nov 1981 08:52:00 GMT', 'Cache-Control': 'no-store, no-cache, must-revalidate, post-check=0, pre-check=0', 'Pragma': 'no-cache', 'Connection': 'close', 'Transfer-Encoding': 'chunked', 'Content-Type': 'text/html; charset=UTF-8'}"
      ]
     },
     "execution_count": 11,
     "metadata": {},
     "output_type": "execute_result"
    }
   ],
   "source": [
    "# check all header information from response\n",
    "r.headers"
   ]
  },
  {
   "cell_type": "code",
   "execution_count": 12,
   "metadata": {},
   "outputs": [
    {
     "data": {
      "text/plain": [
       "'text/html; charset=UTF-8'"
      ]
     },
     "execution_count": 12,
     "metadata": {},
     "output_type": "execute_result"
    }
   ],
   "source": [
    "# extract content-type information from header\n",
    "r.headers['content-type']"
   ]
  },
  {
   "cell_type": "markdown",
   "metadata": {},
   "source": [
    "1. Requests to 'http://www.naver.com/' -> Response data is Korean\n",
    "    : Encodings for Korean character\n",
    "        utf-8/cp949/euc-kr\n",
    "2. Requests to 'http://www.yahoo.com/' -> Response data is English\n",
    "    : Encodings for Alphabets\n",
    "        ascii/cp037/cp437"
   ]
  },
  {
   "cell_type": "code",
   "execution_count": 13,
   "metadata": {},
   "outputs": [
    {
     "data": {
      "text/plain": [
       "'UTF-8'"
      ]
     },
     "execution_count": 13,
     "metadata": {},
     "output_type": "execute_result"
    }
   ],
   "source": [
    "# encoding information based on HTTP header\n",
    "r.encoding"
   ]
  },
  {
   "cell_type": "markdown",
   "metadata": {},
   "source": [
    "- Opening URL"
   ]
  },
  {
   "cell_type": "code",
   "execution_count": 14,
   "metadata": {},
   "outputs": [],
   "source": [
    "from urllib.request import urlopen"
   ]
  },
  {
   "cell_type": "code",
   "execution_count": 15,
   "metadata": {},
   "outputs": [
    {
     "name": "stdout",
     "output_type": "stream",
     "text": [
      "b'<html>\\n<head>\\n<title>A Useful Page</title>\\n</head>\\n<body>\\n<h1>An Interesting Title</h1>\\n<div>\\nLorem ipsum dolor sit amet, consectetur adipisicing elit, sed do eiusmod tempor incididunt ut labore et dolore magna aliqua. Ut enim ad minim veniam, quis nostrud exercitation ullamco laboris nisi ut aliquip ex ea commodo consequat. Duis aute irure dolor in reprehenderit in voluptate velit esse cillum dolore eu fugiat nulla pariatur. Excepteur sint occaecat cupidatat non proident, sunt in culpa qui officia deserunt mollit anim id est laborum.\\n</div>\\n</body>\\n</html>\\n'\n"
     ]
    }
   ],
   "source": [
    "html = urlopen(\"http://pythonscraping.com/pages/page1.html\")\n",
    "print(html.read())"
   ]
  },
  {
   "cell_type": "markdown",
   "metadata": {},
   "source": [
    "### 4. Simple scraping with SQLite"
   ]
  },
  {
   "cell_type": "markdown",
   "metadata": {},
   "source": [
    "http://www.hanbit.co.kr/store/books/full_book_list.html\n",
    "\n",
    "1. Understanding flow of scraping with python\n",
    "   - All books list page -> Scrape link information of each book -> Save to DB\n",
    "    \n",
    "\n",
    "2. Saved information\n",
    "   - Book title\n",
    "   - Hyperlink url of a book\n",
    "  \n",
    "3. Process\n",
    "   - Extract web page : fetch()\n",
    "   - Scrape html : scrape()\n",
    "   - Save data to DB : save()\n",
    "\n",
    "4. Sample data to extract  \n",
    "url : http://www.hanbit.co.kr/store/books/look.php?p_code=B7198274060  \n",
    "title :  재미있고 빠른 한글 1권 : 기본 모음과 자음"
   ]
  },
  {
   "cell_type": "code",
   "execution_count": 16,
   "metadata": {},
   "outputs": [],
   "source": [
    "import re\n",
    "import sqlite3\n",
    "import ssl\n",
    "from urllib.parse import urljoin\n",
    "from urllib.request import urlopen\n",
    "from html import unescape"
   ]
  },
  {
   "cell_type": "code",
   "execution_count": 17,
   "metadata": {},
   "outputs": [],
   "source": [
    "def fetch(url):\n",
    "    \"\"\"\n",
    "    extracts web page from 'url' parameter\n",
    "    encoding is extracted from Content-Type header\n",
    "    returns: HTML with 'str' type\n",
    "    \"\"\"\n",
    "    context = ssl._create_unverified_context()\n",
    "    f = urlopen(url, context=context)\n",
    "    \n",
    "    encoding = f.info().get_content_charset(failobj=\"utf-8\")\n",
    "    print(\"Encoding : \", encoding)\n",
    "    \n",
    "    # decode characters based on extracted encoding\n",
    "    html = f.read().decode(encoding)\n",
    "    \n",
    "    print(\"All document scrapped\")\n",
    "\n",
    "    return html\n",
    "    \n",
    "\n",
    "def scrape(html):\n",
    "    \"\"\"\n",
    "    extracts book informations from html document with regex\n",
    "    returns: book list(dict type)\n",
    "    \"\"\"\n",
    "    books = list()\n",
    "\n",
    "    for partial_html in re.findall(r'<td class=\"left\"><a.*?</td>', html, re.DOTALL):\n",
    "        url = re.search(r'<a href=\"(.*?)\"', partial_html).group(1)\n",
    "        url = urljoin(\"http://www.hanbit.co.kr\", url)\n",
    "\n",
    "        title = re.sub(r'<.*?>', '', partial_html)\n",
    "        title = unescape(title)\n",
    "\n",
    "        print(\"Extracted url : \", url)\n",
    "        print(\"Title : \", title)\n",
    "        \n",
    "        books.append({'url':url, 'title':title})\n",
    "\n",
    "    return books\n",
    "   \n",
    "\n",
    "def save(db_path, books):\n",
    "    \"\"\"\n",
    "    save book list to SQList database\n",
    "    returns: None\n",
    "    \"\"\"\n",
    "    conn = sqlite3.connect(db_path)\n",
    "\n",
    "    c = conn.cursor()\n",
    "\n",
    "    c.execute('DROP TABLE IF EXISTS books')\n",
    "    c.execute('CREATE TABLE books(title text, url text)')\n",
    "    c.executemany('INSERT INTO books VALUES (:title, :url)', books)\n",
    "\n",
    "    conn.commit()\n",
    "    conn.close()"
   ]
  },
  {
   "cell_type": "code",
   "execution_count": 18,
   "metadata": {},
   "outputs": [
    {
     "name": "stdout",
     "output_type": "stream",
     "text": [
      "Encoding :  utf-8\n",
      "All document scrapped\n",
      "Extracted url :  http://www.hanbit.co.kr/store/books/look.php?p_code=B4448108740\n",
      "Title :  웹 브라우저 속 머신러닝 TensorFlow.js\n",
      "Extracted url :  http://www.hanbit.co.kr/store/books/look.php?p_code=B6434597961\n",
      "Title :  IT CookBook, 처음 만나는 전기기기(2판)\n",
      "Extracted url :  http://www.hanbit.co.kr/store/books/look.php?p_code=B9923613168\n",
      "Title :  모바일 UX/UI 디자인 강의 with Adobe XD\n",
      "Extracted url :  http://www.hanbit.co.kr/store/books/look.php?p_code=B9575488572\n",
      "Title :  처음 배우는 플라스크 웹 프로그래밍\n",
      "Extracted url :  http://www.hanbit.co.kr/store/books/look.php?p_code=B9234684497\n",
      "Title :  인문학 거저보기 : 서양철학 편\n",
      "Extracted url :  http://www.hanbit.co.kr/store/books/look.php?p_code=B4633012179\n",
      "Title :  IT CookBook, 현대 센서공학(5판)\n",
      "Extracted url :  http://www.hanbit.co.kr/store/books/look.php?p_code=B9037188841\n",
      "Title :  방구석 심리학 실험실\n",
      "Extracted url :  http://www.hanbit.co.kr/store/books/look.php?p_code=B1265976064\n",
      "Title :  IT CookBook, 모바일 웹 서비스 구현을 위한 JSP 웹 프로그래밍\n",
      "Extracted url :  http://www.hanbit.co.kr/store/books/look.php?p_code=B6220676898\n",
      "Title :  혼자서도 척척 접는 종이접기\n",
      "Extracted url :  http://www.hanbit.co.kr/store/books/look.php?p_code=B9134095146\n",
      "Title :  혼자서도 척척 접는 종이접기 플러스\n",
      "Extracted url :  http://www.hanbit.co.kr/store/books/look.php?p_code=B6156831644\n",
      "Title :  혼자서도 척척 접는 종이접기 2권 세트\n",
      "Extracted url :  http://www.hanbit.co.kr/store/books/look.php?p_code=B8955111301\n",
      "Title :  스파크를 이용한 자연어 처리\n",
      "Extracted url :  http://www.hanbit.co.kr/store/books/look.php?p_code=B6758255857\n",
      "Title :  클라우드 네이티브를 위한 데이터 센터 네트워크 구축\n",
      "Extracted url :  http://www.hanbit.co.kr/store/books/look.php?p_code=B9824309282\n",
      "Title :  어른을 위한 두뇌 놀이 책\n",
      "Extracted url :  http://www.hanbit.co.kr/store/books/look.php?p_code=B9737048306\n",
      "Title :  감으로만 일하던 김 팀장은 어떻게 데이터 좀 아는 팀장이 되었나\n",
      "Extracted url :  http://www.hanbit.co.kr/store/books/look.php?p_code=B1833400260\n",
      "Title :  쉽게 배우고 익히는 회계원리[객관식/학습문제 해답](4판)\n",
      "Extracted url :  http://www.hanbit.co.kr/store/books/look.php?p_code=B9009516784\n",
      "Title :  미래조직을 위한 조직설계의 이해(4판)\n",
      "Extracted url :  http://www.hanbit.co.kr/store/books/look.php?p_code=B7533828722\n",
      "Title :  쉽게 배우고 익히는 회계원리(4판)\n",
      "Extracted url :  http://www.hanbit.co.kr/store/books/look.php?p_code=B7970422863\n",
      "Title :  fastai와 파이토치가 만나 꽃피운 딥러닝\n",
      "Extracted url :  http://www.hanbit.co.kr/store/books/look.php?p_code=B8128498093\n",
      "Title :  스케치업 & V-Ray 트레이닝 북(개정판)\n",
      "Extracted url :  http://www.hanbit.co.kr/store/books/look.php?p_code=B6993093151\n",
      "Title :  IT CookBook, 짧고 굵게 배우는 JSP 웹 프로그래밍과 스프링 프레임워크\n",
      "Extracted url :  http://www.hanbit.co.kr/store/books/look.php?p_code=B7030127165\n",
      "Title :  생각과 말로 글을 늘리는 초등 10분 글쓰기\n",
      "Extracted url :  http://www.hanbit.co.kr/store/books/look.php?p_code=B7628794939\n",
      "Title :  만들면서 배우는 파이토치 딥러닝\n",
      "Extracted url :  http://www.hanbit.co.kr/store/books/look.php?p_code=B9949658683\n",
      "Title :  데이터베이스 시스템(7판)\n",
      "Extracted url :  http://www.hanbit.co.kr/store/books/look.php?p_code=B9783423109\n",
      "Title :  실리콘밸리 리더십\n",
      "Extracted url :  http://www.hanbit.co.kr/store/books/look.php?p_code=B1598189984\n",
      "Title :  처음 시작하는 마이크로서비스\n",
      "Extracted url :  http://www.hanbit.co.kr/store/books/look.php?p_code=B7123382765\n",
      "Title :  눈 떠보니 선진국\n",
      "Extracted url :  http://www.hanbit.co.kr/store/books/look.php?p_code=B2354289186\n",
      "Title :  텐서플로 라이트를 활용한 안드로이드 딥러닝\n",
      "Extracted url :  http://www.hanbit.co.kr/store/books/look.php?p_code=B9934227624\n",
      "Title :  회사에서 바로 통하는  오토캐드 AutoCAD 2022\n",
      "Extracted url :  http://www.hanbit.co.kr/store/books/look.php?p_code=B3464803426\n",
      "Title :  5리터의 피\n",
      "Extracted url :  http://www.hanbit.co.kr/store/books/look.php?p_code=B4332804661\n",
      "Title :  미국주식 스팩투자법\n",
      "Extracted url :  http://www.hanbit.co.kr/store/books/look.php?p_code=B3130478771\n",
      "Title :  재미있고 빠른 숫자 쓰기 1권 : 0부터 50까지\n",
      "Extracted url :  http://www.hanbit.co.kr/store/books/look.php?p_code=B8498015749\n",
      "Title :  재미있고 빠른 숫자 쓰기 2권 : 0부터 100까지\n",
      "Extracted url :  http://www.hanbit.co.kr/store/books/look.php?p_code=B9329914886\n",
      "Title :  재미있고 빠른 알파벳 쓰기\n",
      "Extracted url :  http://www.hanbit.co.kr/store/books/look.php?p_code=B3467206212\n",
      "Title :  이기적이라 살아남았습니다\n",
      "Extracted url :  http://www.hanbit.co.kr/store/books/look.php?p_code=B2179952545\n",
      "Title :  비즈니스 애널리틱스\n",
      "Extracted url :  http://www.hanbit.co.kr/store/books/look.php?p_code=B1047091568\n",
      "Title :  스벨트 앤 새퍼 인 액션\n",
      "Extracted url :  http://www.hanbit.co.kr/store/books/look.php?p_code=B2499110389\n",
      "Title :  STEM CookBook, 문제 해결력을 키우는 정역학\n",
      "Extracted url :  http://www.hanbit.co.kr/store/books/look.php?p_code=B7623190015\n",
      "Title :  최신 관리회계\n",
      "Extracted url :  http://www.hanbit.co.kr/store/books/look.php?p_code=B4300598719\n",
      "Title :  리눅스 입문자를 위한 명령어 사전\n",
      "Extracted url :  http://www.hanbit.co.kr/store/books/look.php?p_code=B9108907099\n",
      "Title :  파타고니아 이야기\n",
      "Extracted url :  http://www.hanbit.co.kr/store/books/look.php?p_code=B7015117381\n",
      "Title :  풀스택 서버리스 :  리액트, AWS, 그래프QL을 이용한 최신 애플리케이션 개발\n",
      "Extracted url :  http://www.hanbit.co.kr/store/books/look.php?p_code=B7448632539\n",
      "Title :  한 권으로 배우는 작고 예쁜 꽃자수\n",
      "Extracted url :  http://www.hanbit.co.kr/store/books/look.php?p_code=B3148701816\n",
      "Title :  IT CookBook, 처음 만나는 회로이론(2판)\n",
      "Extracted url :  http://www.hanbit.co.kr/store/books/look.php?p_code=B2591303726\n",
      "Title :  안전필수 시스템 제어 설계\n",
      "Extracted url :  http://www.hanbit.co.kr/store/books/look.php?p_code=B7468885216\n",
      "Title :  러닝 리액트(2판)\n",
      "Extracted url :  http://www.hanbit.co.kr/store/books/look.php?p_code=B9354330938\n",
      "Title :  업무에 바로 쓰는 SQL 튜닝\n",
      "Extracted url :  http://www.hanbit.co.kr/store/books/look.php?p_code=B9602652686\n",
      "Title :  데이터 스토리\n",
      "Extracted url :  http://www.hanbit.co.kr/store/books/look.php?p_code=B1108557246\n",
      "Title :  상식의 재구성\n",
      "Extracted url :  http://www.hanbit.co.kr/store/books/look.php?p_code=B3573121629\n",
      "Title :  처음 배우는 네트워크 보안\n"
     ]
    }
   ],
   "source": [
    "# calls fetch(), scrape(), save() function\n",
    "html = fetch('http://www.hanbit.co.kr/store/books/full_book_list.html')\n",
    "\n",
    "books = scrape(html)\n",
    "save('books.db', books)"
   ]
  },
  {
   "cell_type": "markdown",
   "metadata": {},
   "source": [
    "### 5. HTML handling"
   ]
  },
  {
   "cell_type": "markdown",
   "metadata": {},
   "source": [
    "1. HTML has a tree structure\n",
    "   - root -> html tag\n",
    "   - tag is named as 'element'\n",
    "   - all child tag could be managed with 'html' tag\n",
    "   \n",
    "2. lxml.html: An api to deal with tree of html document"
   ]
  },
  {
   "cell_type": "code",
   "execution_count": 19,
   "metadata": {},
   "outputs": [],
   "source": [
    "import requests\n",
    "import lxml.html"
   ]
  },
  {
   "cell_type": "markdown",
   "metadata": {},
   "source": [
    "Topic of sample scraping: Extract permant links and table of contents from 'new book list' page\n",
    "\n",
    "- First page: http://www.hanbit.co.kr/store/books/new_book_list.html\n",
    "- Detail page: http://www.hanbit.co.kr/store/books/look.php?p_code=B2417558084\n",
    "- Table of contents: http://www.hanbit.co.kr/store/books/look.php?p_code=B2417558084  "
   ]
  },
  {
   "cell_type": "code",
   "execution_count": 20,
   "metadata": {},
   "outputs": [
    {
     "data": {
      "text/plain": [
       "<Response [200]>"
      ]
     },
     "execution_count": 20,
     "metadata": {},
     "output_type": "execute_result"
    }
   ],
   "source": [
    "response = requests.get(\"http://www.hanbit.co.kr/store/books/new_book_list.html\")\n",
    "response"
   ]
  },
  {
   "cell_type": "code",
   "execution_count": 21,
   "metadata": {},
   "outputs": [
    {
     "data": {
      "text/plain": [
       "b'<!DOCTYPE html>\\r\\n<html lang=\"ko\">\\r\\n<head>\\r\\n<!--[if lte IE 8]>\\r\\n<script>\\r\\n  location.replace(\\'/support/explorer_upgrade.html\\');\\r\\n</script>\\r\\n<![endif]-->\\r\\n<meta charset=\"utf-8\"/>\\r\\n<title>\\xed\\x95\\x9c\\xeb\\xb9\\x9b\\xec\\xb6\\x9c\\xed\\x8c\\x90\\xeb\\x84\\xa4\\xed\\x8a\\xb8\\xec\\x9b\\x8c\\xed\\x81\\xac</title>\\r\\n<link rel=\"shortcut icon\" href=\"https://www.hanbit.co.kr/images/common/hanbit.ico\"> \\r\\n<meta http-equiv=\"X-UA-Compatible\" content=\"IE=Edge\" />\\r\\n<meta property=\"og:type\" content=\"website\"/>\\r\\n<meta property=\"og:title\" content=\"\\xed\\x95\\x9c\\xeb\\xb9\\x9b\\xec\\xb6\\x9c\\xed\\x8c\\x90\\xeb\\x84\\xa4\\xed\\x8a\\xb8\\xec\\x9b\\x8c\\xed\\x81\\xac\"/>\\r\\n<meta property=\"og:description\" content=\"\\xeb\\x8d\\x94 \\xeb\\x84\\x93\\xec\\x9d\\x80 \\xec\\x84\\xb8\\xec\\x83\\x81, \\xeb\\x8d\\x94 \\xeb\\x82\\x98\\xec\\x9d\\x80 \\xeb\\xaf\\xb8\\xeb\\x9e\\x98\\xeb\\xa5\\xbc \\xec\\x9c\\x84\\xed\\x95\\x9c \\xec\\x95\\x84\\xec\\x8b\\x9c\\xec\\x95\\x84 \\xec\\xb6\\x9c\\xed\\x8c\\x90 \\xeb\\x84\\xa4\\xed\\x8a\\xb8\\xec\\x9b\\x8c\\xed\\x81\\xac :: \\xed\\x95\\x9c\\xeb\\xb9\\x9b\\xeb\\xaf\\xb8\\xeb\\x94\\x94\\xec\\x96\\xb4, \\xed\\x95\\x9c\\xeb\\xb9\\x9b\\xec\\x95\\x84\\xec\\xb9\\xb4\\xeb\\x8d\\xb0\\xeb\\xaf\\xb8, \\xed\\x95\\x9c\\xeb\\xb9\\x9b\\xeb\\xb9\\x84\\xec\\xa6\\x88, \\xed\\x95\\x9c\\xeb\\xb9\\x9b\\xeb\\x9d\\xbc\\xec\\x9d\\xb4\\xed\\x94\\x84, \\xed\\x95\\x9c\\xeb\\xb9\\x9b\\xec\\x97\\x90\\xeb\\x93\\x80\"/>\\r\\n<meta property=\"og:image\" content=\"https://www.hanbit.co.kr/images/hanbitpubnet_logo.jpg\" />\\r\\n<meta property=\"og:url\" content=\"https://www.hanbit.co.kr/store/books/new_book_list.html\"/>\\r\\n<link rel=\"canonical\" href=\"https://www.hanbit.co.kr/store/books/new_book_list.html\" />\\r\\n<meta name=\"keywords\" content=\"\\xed\\x95\\x9c\\xeb\\xb9\\x9b\\xeb\\xaf\\xb8\\xeb\\x94\\x94\\xec\\x96\\xb4,\\xed\\x95\\x9c\\xeb\\xb9\\x9b\\xec\\x95\\x84\\xec\\xb9\\xb4\\xeb\\x8d\\xb0\\xeb\\xaf\\xb8,\\xed\\x95\\x9c\\xeb\\xb9\\x9b\\xeb\\xb9\\x84\\xec\\xa6\\x88,\\xed\\x95\\x9c\\xeb\\xb9\\x9b\\xeb\\x9d\\xbc\\xec\\x9d\\xb4\\xed\\x94\\x84,\\xed\\x95\\x9c\\xeb\\xb9\\x9b\\xec\\x97\\x90\\xeb\\x93\\x80,\\xeb\\xa6\\xac\\xec\\x96\\xbc\\xed\\x83\\x80\\xec\\x9e\\x84,\\xeb\\x8c\\x80\\xea\\xb4\\x80\\xec\\x84\\x9c\\xeb\\xb9\\x84\\xec\\x8a\\xa4,\\xec\\xb1\\x85,\\xec\\xb6\\x9c\\xed\\x8c\\x90\\xec\\x82\\xac,IT\\xec\\xa0\\x84\\xeb\\xac\\xb8\\xec\\x84\\x9c,IT\\xed\\x99\\x9c\\xec\\x9a\\xa9\\xec\\x84\\x9c,\\xeb\\x8c\\x80\\xed\\x95\\x99\\xea\\xb5\\x90\\xec\\x9e\\xac,\\xea\\xb2\\xbd\\xec\\xa0\\x9c\\xea\\xb2\\xbd\\xec\\x98\\x81,\\xec\\x96\\xb4\\xeb\\xa6\\xb0\\xec\\x9d\\xb4/\\xec\\x9c\\xa0\\xec\\x95\\x84,\\xec\\x8b\\xa4\\xec\\x9a\\xa9/\\xec\\x97\\xac\\xed\\x96\\x89,\\xec\\xa0\\x84\\xec\\x9e\\x90\\xec\\xb1\\x85,\\xec\\x9e\\x90\\xea\\xb2\\xa9\\xec\\xa6\\x9d,\\xea\\xb5\\x90\\xec\\x9c\\xa1,\\xec\\x84\\xb8\\xeb\\xaf\\xb8\\xeb\\x82\\x98,\\xea\\xb0\\x95\\xec\\x9d\\x98,ebook,\\xec\\xa0\\x95\\xeb\\xb3\\xb4\\xea\\xb5\\x90\\xea\\xb3\\xbc\\xec\\x84\\x9c\" />\\r\\n<meta name=\"description\" content=\"\\xeb\\x8d\\x94 \\xeb\\x84\\x93\\xec\\x9d\\x80 \\xec\\x84\\xb8\\xec\\x83\\x81, \\xeb\\x8d\\x94 \\xeb\\x82\\x98\\xec\\x9d\\x80 \\xeb\\xaf\\xb8\\xeb\\x9e\\x98\\xeb\\xa5\\xbc \\xec\\x9c\\x84\\xed\\x95\\x9c \\xec\\x95\\x84\\xec\\x8b\\x9c\\xec\\x95\\x84 \\xec\\xb6\\x9c\\xed\\x8c\\x90 \\xeb\\x84\\xa4\\xed\\x8a\\xb8\\xec\\x9b\\x8c\\xed\\x81\\xac :: \\xed\\x95\\x9c\\xeb\\xb9\\x9b\\xeb\\xaf\\xb8\\xeb\\x94\\x94\\xec\\x96\\xb4, \\xed\\x95\\x9c\\xeb\\xb9\\x9b\\xec\\x95\\x84\\xec\\xb9\\xb4\\xeb\\x8d\\xb0\\xeb\\xaf\\xb8, \\xed\\x95\\x9c\\xeb\\xb9\\x9b\\xeb\\xb9\\x84\\xec\\xa6\\x88, \\xed\\x95\\x9c\\xeb\\xb9\\x9b\\xeb\\x9d\\xbc\\xec\\x9d\\xb4\\xed\\x94\\x84, \\xed\\x95\\x9c\\xeb\\xb9\\x9b\\xec\\x97\\x90\\xeb\\x93\\x80\" />\\r\\n<meta name=\"viewport\" content=\"width=device-width,initial-scale=1.0,minimum-scale=1.0,maximum-scale=1.0\">\\r\\n<meta name=\"viewport\" content=\"width=1260\">\\r\\n<meta name=\"apple-mobile-web-app-capable\" content=\"yes\" />\\r\\n<meta name=\"naver-site-verification\" content=\"01c29ed1852aecca7a48ac0c3e0869627bc512d8\"/>\\r\\n<link rel=\"stylesheet\" href=\"/css/common.css?20210603093421\" />\\r\\n<link href=\"/css/hover.css\" rel=\"stylesheet\" media=\"all\">\\r\\n<link rel=\"stylesheet\" href=\"/js/jquery.raty.css\" />\\r\\n<script type=\"text/javascript\" src=\"/js/jquery-latest.js\"></script>\\r\\n<script type=\"text/javascript\" src=\"/js/jquery-ui.js\"></script>\\r\\n<script type=\"text/javascript\" src=\"/js/jquery.event.drag-1.5.min.js\"></script>\\r\\n<script type=\"text/javascript\" src=\"/js/jquery.touchSlider.js\"></script>\\r\\n<script type=\"text/javascript\" src=\"/js/jquery.raty.js\"></script>\\r\\n<script type=\"text/javascript\" src=\"/js/main.js\"></script>\\r\\n<script type=\"text/javascript\" src=\"/lib/cheditor/cheditor.js\"></script>\\r\\n<script type=\"text/javascript\" src=\"/js/jquery.ui.datepicker-ko.js\"></script>\\r\\n<script type=\"text/javascript\" src=\"/js/engine.js\"></script>\\r\\n<script type=\"text/javascript\" src=\"/js/vue.js\"></script>\\r\\n\\r\\n<!-- Google Analytics -->\\r\\n<script>\\r\\n(function(i,s,o,g,r,a,m){i[\\'GoogleAnalyticsObject\\']=r;i[r]=i[r]||function(){\\r\\n(i[r].q=i[r].q||[]).push(arguments)},i[r].l=1*new Date();a=s.createElement(o),\\r\\nm=s.getElementsByTagName(o)[0];a.async=1;a.src=g;m.parentNode.insertBefore(a,m)\\r\\n})(window,document,\\'script\\',\\'//www.google-analytics.com/analytics.js\\',\\'ga\\');\\r\\nga(\\'create\\', \\'UA-47080738-1\\', \\'hanbit.co.kr\\');\\r\\nga(\\'require\\', \\'linkid\\', \\'linkid.js\\');\\r\\nga(\\'send\\', \\'pageview\\');\\r\\n</script>\\r\\n<!-- Google Analytics -->\\r\\n\\r\\n<!-- Facebook Pixel Code -->\\r\\n<script>\\r\\n  !function(f,b,e,v,n,t,s)\\r\\n  {if(f.fbq)return;n=f.fbq=function(){n.callMethod?\\r\\n  n.callMethod.apply(n,arguments):n.queue.push(arguments)};\\r\\n  if(!f._fbq)f._fbq=n;n.push=n;n.loaded=!0;n.version=\\'2.0\\';\\r\\n  n.queue=[];t=b.createElement(e);t.async=!0;\\r\\n  t.src=v;s=b.getElementsByTagName(e)[0];\\r\\n  s.parentNode.insertBefore(t,s)}(window, document,\\'script\\',\\r\\n  \\'https://connect.facebook.net/en_US/fbevents.js\\');\\r\\n  fbq(\\'init\\', \\'406459623338891\\');\\r\\n  fbq(\\'track\\', \\'PageView\\');\\r\\n</script>\\r\\n<noscript><img height=\"1\" width=\"1\" style=\"display:none\"\\r\\n  src=\"https://www.facebook.com/tr?id=406459623338891&ev=PageView&noscript=1\"\\r\\n/></noscript>\\r\\n<!-- End Facebook Pixel Code -->\\r\\n\\r\\n<!-- Kakao Pixel Code -->\\r\\n<script type=\"text/javascript\" charset=\"UTF-8\" src=\"//t1.daumcdn.net/adfit/static/kp.js\"></script>\\r\\n<script type=\"text/javascript\">\\r\\n  kakaoPixel(\\'3011392806152551233\\').pageView();\\r\\n</script>\\r\\n<!-- //Kakao Pixel Code -->\\r\\n</head>\\r\\n<body>\\r\\n<!-- Google Tag Manager (noscript) -->\\r\\n<noscript><iframe src=\"https://www.googletagmanager.com/ns.html?id=GTM-W9D5PM3\"\\r\\nheight=\"0\" width=\"0\" style=\"display:none;visibility:hidden\"></iframe></noscript>\\r\\n<!-- End Google Tag Manager (noscript) -->\\r\\n<link rel=\"stylesheet\" href=\"/css/layout-hanbit.css?202107291450\" />\\r\\n<link rel=\"stylesheet\" href=\"/css/layout-member.css\" />\\r\\n<link rel=\"stylesheet\" href=\"/css/layout-network.css\" />\\r\\n<link rel=\"stylesheet\" href=\"/css/layout-store.css\" />\\r\\n<link rel=\"stylesheet\" href=\"/css/layout-myhanbit.css\" />\\r\\n<link rel=\"stylesheet\" href=\"/css/layout-event.css\" />\\r\\n<!-- \\xeb\\xa9\\x94\\xeb\\x89\\xb4 \\xeb\\xb0\\x94\\xeb\\xa1\\x9c\\xea\\xb0\\x80\\xea\\xb8\\xb0 -->\\r\\n<div id=\"quick_skip_menu\">\\r\\n  <a href=\"#gnb\" onclick=\"document.getElementById(\\'gnb\\').tabIndex = -1;document.getElementById(\\'gnb\\').focus();return false;\"><span>\\xeb\\xa9\\x94\\xeb\\x89\\xb4 \\xeb\\xb0\\x94\\xeb\\xa1\\x9c\\xea\\xb0\\x80\\xea\\xb8\\xb0</span></a>\\r\\n  <a href=\"#top_search\" onclick=\"view_hover(\\'main_search_area\\',\\'\\',\\'show\\'), document.getElementById(\\'top_search\\').tabIndex = -1;document.getElementById(\\'top_search\\').focus();return false;\"><span>\\xea\\xb2\\x80\\xec\\x83\\x89 \\xeb\\xb0\\x8f \\xec\\xb9\\xb4\\xed\\x85\\x8c\\xea\\xb3\\xa0\\xeb\\xa6\\xac \\xeb\\xb0\\x94\\xeb\\xa1\\x9c\\xea\\xb0\\x80\\xea\\xb8\\xb0</span></a>\\r\\n    <a href=\"#container\" onclick=\"document.getElementById(\\'container\\').tabIndex = -1;document.getElementById(\\'container\\').focus();return false;\"><span>\\xeb\\xb3\\xb8\\xeb\\xac\\xb8 \\xeb\\xb0\\x94\\xeb\\xa1\\x9c\\xea\\xb0\\x80\\xea\\xb8\\xb0</span></a>\\r\\n  </div>\\r\\n<!-- //\\xeb\\xa9\\x94\\xeb\\x89\\xb4 \\xeb\\xb0\\x94\\xeb\\xa1\\x9c\\xea\\xb0\\x80\\xea\\xb8\\xb0 -->\\r\\n\\r\\n<!-- header -->\\r\\n<header>\\r\\n  <!-- top menu -->\\r\\n    <nav>\\r\\n    <div id=\"wrap_nav\">\\r\\n      <ul class=\"top_brand\">\\r\\n        <li><a href=\"https://www.hanbit.co.kr/index.html\" name=\"hanbit_network\"><span>HOME</span></a></li>\\r\\n        <li><a href=\"https://www.hanbit.co.kr/media/\">\\xed\\x95\\x9c\\xeb\\xb9\\x9b\\xeb\\xaf\\xb8\\xeb\\x94\\x94\\xec\\x96\\xb4</a></li>\\r\\n        <li><a href=\"https://www.hanbit.co.kr/academy/\">\\xed\\x95\\x9c\\xeb\\xb9\\x9b\\xec\\x95\\x84\\xec\\xb9\\xb4\\xeb\\x8d\\xb0\\xeb\\xaf\\xb8</a></li>\\r\\n        <li><a href=\"https://www.hanbit.co.kr/biz/\">\\xed\\x95\\x9c\\xeb\\xb9\\x9b\\xeb\\xb9\\x84\\xec\\xa6\\x88</a></li>\\r\\n        <li><a href=\"https://www.hanbit.co.kr/life/\">\\xed\\x95\\x9c\\xeb\\xb9\\x9b\\xeb\\x9d\\xbc\\xec\\x9d\\xb4\\xed\\x94\\x84</a></li>\\r\\n        <li><a href=\"https://www.hanbit.co.kr/edu/\">\\xed\\x95\\x9c\\xeb\\xb9\\x9b\\xec\\x97\\x90\\xeb\\x93\\x80</a></li>\\r\\n        <li><a href=\"https://www.hanbit.co.kr/realtime/\">\\xeb\\xa6\\xac\\xec\\x96\\xbc\\xed\\x83\\x80\\xec\\x9e\\x84</a></li>\\r\\n        <li><a href=\"https://www.hanbit.co.kr/textbook/\" target=\"_blank\">\\xed\\x95\\x9c\\xeb\\xb9\\x9b\\xec\\xa0\\x95\\xeb\\xb3\\xb4\\xea\\xb5\\x90\\xea\\xb3\\xbc\\xec\\x84\\x9c</a></li>\\r\\n        <li><a href=\"https://www.hanbit.co.kr/rent/\" target=\"_blank\">\\xed\\x95\\x9c\\xeb\\xb9\\x9b\\xeb\\x8c\\x80\\xea\\xb4\\x80\\xec\\x84\\x9c\\xeb\\xb9\\x84\\xec\\x8a\\xa4</a></li>\\r\\n      </ul>\\r\\n      \\r\\n      <ul class=\"top_menu\">\\r\\n                <li><a href=\"https://www.hanbit.co.kr/member/login.html\" class=\"login\">\\xeb\\xa1\\x9c\\xea\\xb7\\xb8\\xec\\x9d\\xb8</a></li>\\r\\n        <li><a href=\"https://www.hanbit.co.kr/member/member_agree.html\" class=\"join\">\\xed\\x9a\\x8c\\xec\\x9b\\x90\\xea\\xb0\\x80\\xec\\x9e\\x85</a></li>\\r\\n        <li><a href=\"https://www.hanbit.co.kr/myhanbit/myhanbit.html\" class=\"myhanbit\">\\xeb\\xa7\\x88\\xec\\x9d\\xb4\\xed\\x95\\x9c\\xeb\\xb9\\x9b</a></li>\\r\\n        <li><a href=\"https://www.hanbit.co.kr/myhanbit/cart.html\" class=\"cart\">\\xec\\x9e\\xa5\\xeb\\xb0\\x94\\xea\\xb5\\xac\\xeb\\x8b\\x88</a></li>\\r\\n                    <li class=\"top_menu_store\"><a href=\"https://www.hanbit.co.kr/publisher/foreignrights.html?lang=e\" target=\"_blank\">ENGLISH</a></li>\\r\\n      </ul>\\r\\n    </div>\\r\\n  </nav>\\r\\n  <!-- //top menu -->\\r\\n\\r\\n  <div id=\"wrap_gnb\">\\r\\n    <!-- logo -->\\r\\n    <h1><a href=\"https://www.hanbit.co.kr/index.html\">\\xed\\x95\\x9c\\xeb\\xb9\\x9b\\xec\\xb6\\x9c\\xed\\x8c\\x90\\xeb\\x84\\xa4\\xed\\x8a\\xb8\\xec\\x9b\\x8c\\xed\\x81\\xac</a></h1>\\r\\n    <!-- //logo -->\\r\\n\\r\\n    <!-- Menu -->\\r\\n    <div id=\"gnb\" name=\"gnb\">\\r\\n      <ul>\\r\\n        <li><a href=\"https://www.hanbit.co.kr/brand/brand_submain.html\" class=\"\">BRAND</a></li>\\r\\n        <li><a href=\"https://www.hanbit.co.kr/channel/channel_submain.html\" class=\"\">Channel.H</a></li>\\r\\n        <li><a href=\"https://www.hanbit.co.kr/store/store_submain.html\" class=\"curr\">STORE</a></li>\\r\\n        <li><a href=\"https://www.hanbit.co.kr/support/help_info.html\" class=\"\">SUPPORT</a></li>\\r\\n        <li><a href=\"https://www.hanbit.co.kr/event/current/current_event_list.html\" class=\"\">EVENT</a></li>\\r\\n        \\r\\n        <li><a href=\"https://www.hanbit.co.kr/publisher/foreignrights.html?lang=e\" class=\"\" target=\"_blank\">RIGHTS</a></li>\\r\\n        \\r\\n        <li id=\"top_search\" class=\"search\"><a href=\"javascript:;\" onClick=\"view_hover(\\'main_search_area\\',\\'\\',\\'show\\'); $(\\'#keyword_str\\').focus();\"><span>SEARCH</span></a></li>\\r\\n      </ul>\\r\\n    </div>\\r\\n    <!-- //Menu -->\\r\\n    \\r\\n    <!-- lnb -->\\r\\n    <div class=\"lnb\" style=\"top:92px;\">\\r\\n      <div class=\"lnb_area\">\\r\\n      <!-- BRAND -->\\r\\n            <ul class=\"lnb_depth1_category\">\\r\\n        <li onmouseover=\"view_hover(\\'category_store\\',\\'\\',\\'show\\')\" onMouseOut=\"view_hover(\\'category_store\\',\\'\\',\\'hide\\')\"><a href=\"#\" onFocus=\"view_hover(\\'category_store\\',\\'\\',\\'show\\')\" class=\"gnb_category\">\\xec\\xb9\\xb4\\xed\\x85\\x8c\\xea\\xb3\\xa0\\xeb\\xa6\\xac</a>\\r\\n          <ul id=\"category_store\">\\r\\n\\r\\n                          <li onmouseover=\"view_hover(\\'category_store1\\',\\'\\',\\'show\\')\" onMouseOut=\"view_hover(\\'category_store1\\',\\'\\',\\'hide\\')\"><a href=\"/store/books/category_list.html?cate_cd=001\" onFocus=\"view_hover(\\'category_store1\\',\\'\\',\\'show\\')\">IT/\\xeb\\xaa\\xa8\\xeb\\xb0\\x94\\xec\\x9d\\xbc</a>\\r\\n                <ul id=\"category_store1\">\\r\\n                              <li><a href=\"/store/books/category_list.html?cate_cd=001001\">\\xed\\x94\\x84\\xeb\\xa1\\x9c\\xea\\xb7\\xb8\\xeb\\x9e\\x98\\xeb\\xb0\\x8d</a></li>      \\r\\n                              <li><a href=\"/store/books/category_list.html?cate_cd=001002\">\\xec\\x9b\\xb9</a></li>      \\r\\n                              <li><a href=\"/store/books/category_list.html?cate_cd=001003\">\\xeb\\xaa\\xa8\\xeb\\xb0\\x94\\xec\\x9d\\xbc/\\xec\\x8a\\xa4\\xeb\\xa7\\x88\\xed\\x8a\\xb8\\xea\\xb8\\xb0\\xea\\xb8\\xb0</a></li>      \\r\\n                              <li><a href=\"/store/books/category_list.html?cate_cd=001013\">\\xeb\\x8d\\xb0\\xec\\x9d\\xb4\\xed\\x84\\xb0\\xeb\\xb2\\xa0\\xec\\x9d\\xb4\\xec\\x8a\\xa4</a></li>      \\r\\n                              <li><a href=\"/store/books/category_list.html?cate_cd=001005\">\\xec\\x9a\\xb4\\xec\\x98\\x81\\xec\\xb2\\xb4\\xec\\xa0\\x9c</a></li>      \\r\\n                              <li><a href=\"/store/books/category_list.html?cate_cd=001014\">\\xed\\x95\\x98\\xeb\\x93\\x9c\\xec\\x9b\\xa8\\xec\\x96\\xb4</a></li>      \\r\\n                              <li><a href=\"/store/books/category_list.html?cate_cd=001015\">\\xec\\x8b\\x9c\\xec\\x8a\\xa4\\xed\\x85\\x9c/\\xeb\\x84\\xa4\\xed\\x8a\\xb8\\xec\\x9b\\x8c\\xed\\x81\\xac</a></li>      \\r\\n                              <li><a href=\"/store/books/category_list.html?cate_cd=001016\">\\xeb\\xb3\\xb4\\xec\\x95\\x88</a></li>      \\r\\n                              <li><a href=\"/store/books/category_list.html?cate_cd=001009\">\\xeb\\xb9\\x84\\xec\\xa6\\x88\\xeb\\x8b\\x88\\xec\\x8a\\xa4/\\xeb\\xac\\xb8\\xed\\x99\\x94</a></li>      \\r\\n                              <li><a href=\"/store/books/category_list.html?cate_cd=001010\">\\xea\\xb2\\x8c\\xec\\x9e\\x84</a></li>      \\r\\n                              <li><a href=\"/store/books/category_list.html?cate_cd=001017\">IT\\xec\\x97\\x90\\xec\\x84\\xb8\\xec\\x9d\\xb4</a></li>      \\r\\n                              <li><a href=\"/store/books/category_list.html?cate_cd=001012\">\\xec\\x9e\\x90\\xea\\xb2\\xa9\\xec\\xa6\\x9d</a></li>      \\r\\n                              <li><a href=\"/store/books/category_list.html?cate_cd=001018\">\\xec\\x9d\\xb8\\xea\\xb3\\xb5\\xec\\xa7\\x80\\xeb\\x8a\\xa5/\\xeb\\x8d\\xb0\\xec\\x9d\\xb4\\xed\\x84\\xb0\\xea\\xb3\\xbc\\xed\\x95\\x99</a></li>      \\r\\n              </ul></li>              <li onmouseover=\"view_hover(\\'category_store2\\',\\'\\',\\'show\\')\" onMouseOut=\"view_hover(\\'category_store2\\',\\'\\',\\'hide\\')\"><a href=\"/store/books/category_list.html?cate_cd=002\" onFocus=\"view_hover(\\'category_store2\\',\\'\\',\\'show\\')\">MAKE</a>\\r\\n                <ul id=\"category_store2\">\\r\\n                              <li><a href=\"/store/books/category_list.html?cate_cd=002002\">Make \\xed\\x94\\x84\\xeb\\xa1\\x9c\\xec\\xa0\\x9d\\xed\\x8a\\xb8 \\xeb\\xb6\\x81</a></li>      \\r\\n              </ul></li>              <li onmouseover=\"view_hover(\\'category_store3\\',\\'\\',\\'show\\')\" onMouseOut=\"view_hover(\\'category_store3\\',\\'\\',\\'hide\\')\"><a href=\"/store/books/category_list.html?cate_cd=003\" onFocus=\"view_hover(\\'category_store3\\',\\'\\',\\'show\\')\">IT\\xed\\x99\\x9c\\xec\\x9a\\xa9</a>\\r\\n                <ul id=\"category_store3\">\\r\\n                              <li><a href=\"/store/books/category_list.html?cate_cd=003001\">\\xec\\x98\\xa4\\xed\\x94\\xbc\\xec\\x8a\\xa4/OA</a></li>      \\r\\n                              <li><a href=\"/store/books/category_list.html?cate_cd=003002\">\\xea\\xb7\\xb8\\xeb\\x9e\\x98\\xed\\x94\\xbd/\\xeb\\xa9\\x80\\xed\\x8b\\xb0\\xeb\\xaf\\xb8\\xeb\\x94\\x94\\xec\\x96\\xb4</a></li>      \\r\\n                              <li><a href=\"/store/books/category_list.html?cate_cd=003003\">\\xec\\x82\\xac\\xec\\xa7\\x84/\\xec\\x98\\x88\\xec\\x88\\xa0</a></li>      \\r\\n                              <li><a href=\"/store/books/category_list.html?cate_cd=003004\">\\xec\\xbb\\xb4\\xed\\x93\\xa8\\xed\\x84\\xb0\\xec\\x9e\\x85\\xeb\\xac\\xb8/IT\\xea\\xb5\\x90\\xec\\x96\\x91</a></li>      \\r\\n              </ul></li>              <li onmouseover=\"view_hover(\\'category_store4\\',\\'\\',\\'show\\')\" onMouseOut=\"view_hover(\\'category_store4\\',\\'\\',\\'hide\\')\"><a href=\"/store/books/category_list.html?cate_cd=004\" onFocus=\"view_hover(\\'category_store4\\',\\'\\',\\'show\\')\">\\xeb\\x8c\\x80\\xed\\x95\\x99\\xea\\xb5\\x90\\xec\\x9e\\xac</a>\\r\\n                <ul id=\"category_store4\">\\r\\n                              <li><a href=\"/store/books/category_list.html?cate_cd=004003\">\\xec\\x88\\x98\\xed\\x95\\x99/\\xed\\x86\\xb5\\xea\\xb3\\x84</a></li>      \\r\\n                              <li><a href=\"/store/books/category_list.html?cate_cd=004010\">\\xea\\xb3\\xbc\\xed\\x95\\x99/\\xea\\xb3\\xb5\\xed\\x95\\x99\\xec\\x9d\\xbc\\xeb\\xb0\\x98</a></li>      \\r\\n                              <li><a href=\"/store/books/category_list.html?cate_cd=004007\">\\xec\\xbb\\xb4\\xed\\x93\\xa8\\xed\\x84\\xb0\\xea\\xb3\\xb5\\xed\\x95\\x99</a></li>      \\r\\n                              <li><a href=\"/store/books/category_list.html?cate_cd=004004\">\\xed\\x94\\x84\\xeb\\xa1\\x9c\\xea\\xb7\\xb8\\xeb\\x9e\\x98\\xeb\\xb0\\x8d</a></li>      \\r\\n                              <li><a href=\"/store/books/category_list.html?cate_cd=004011\">\\xeb\\x8d\\xb0\\xec\\x9d\\xb4\\xed\\x84\\xb0\\xea\\xb3\\xbc\\xed\\x95\\x99/\\xec\\x9d\\xb8\\xea\\xb3\\xb5\\xec\\xa7\\x80\\xeb\\x8a\\xa5</a></li>      \\r\\n                              <li><a href=\"/store/books/category_list.html?cate_cd=004008\">\\xec\\xa0\\x84\\xea\\xb8\\xb0/\\xec\\xa0\\x84\\xec\\x9e\\x90</a></li>      \\r\\n                              <li><a href=\"/store/books/category_list.html?cate_cd=004009\">\\xea\\xb8\\xb0\\xea\\xb3\\x84/\\xec\\x9e\\x90\\xeb\\x8f\\x99\\xec\\xb0\\xa8</a></li>      \\r\\n                              <li><a href=\"/store/books/category_list.html?cate_cd=004006\">OA/\\xea\\xb7\\xb8\\xeb\\x9e\\x98\\xed\\x94\\xbd</a></li>      \\r\\n                              <li><a href=\"/store/books/category_list.html?cate_cd=004012\">\\xea\\xb2\\xbd\\xec\\x98\\x81/\\xea\\xb2\\xbd\\xec\\xa0\\x9c</a></li>      \\r\\n                              <li><a href=\"/store/books/category_list.html?cate_cd=004005\">\\xeb\\x85\\xbc\\xeb\\xac\\xb8</a></li>      \\r\\n              </ul></li>              <li onmouseover=\"view_hover(\\'category_store5\\',\\'\\',\\'show\\')\" onMouseOut=\"view_hover(\\'category_store5\\',\\'\\',\\'hide\\')\"><a href=\"/store/books/category_list.html?cate_cd=006\" onFocus=\"view_hover(\\'category_store5\\',\\'\\',\\'show\\')\">\\xec\\x8b\\xa4\\xec\\x9a\\xa9\\xec\\x84\\x9c</a>\\r\\n                <ul id=\"category_store5\">\\r\\n                              <li><a href=\"/store/books/category_list.html?cate_cd=006001\">\\xec\\xb7\\xa8\\xeb\\xaf\\xb8/\\xec\\x8b\\xa4\\xec\\x9a\\xa9</a></li>      \\r\\n                              <li><a href=\"/store/books/category_list.html?cate_cd=006002\">\\xec\\x97\\xac\\xed\\x96\\x89</a></li>      \\r\\n                              <li><a href=\"/store/books/category_list.html?cate_cd=006003\">\\xea\\xb1\\xb4\\xea\\xb0\\x95</a></li>      \\r\\n                              <li><a href=\"/store/books/category_list.html?cate_cd=006004\">\\xec\\x9c\\xa0\\xec\\x95\\x84/\\xec\\x9c\\xa1\\xec\\x95\\x84</a></li>      \\r\\n              </ul></li>              <li onmouseover=\"view_hover(\\'category_store6\\',\\'\\',\\'show\\')\" onMouseOut=\"view_hover(\\'category_store6\\',\\'\\',\\'hide\\')\"><a href=\"/store/books/category_list.html?cate_cd=007\" onFocus=\"view_hover(\\'category_store6\\',\\'\\',\\'show\\')\">\\xea\\xb2\\xbd\\xec\\xa0\\x9c/\\xea\\xb2\\xbd\\xec\\x98\\x81/\\xec\\x9d\\xb8\\xeb\\xac\\xb8</a>\\r\\n                <ul id=\"category_store6\">\\r\\n                              <li><a href=\"/store/books/category_list.html?cate_cd=007001\">\\xea\\xb2\\xbd\\xec\\xa0\\x9c/\\xea\\xb2\\xbd\\xec\\x98\\x81</a></li>      \\r\\n                              <li><a href=\"/store/books/category_list.html?cate_cd=007002\">\\xec\\x9e\\x90\\xea\\xb8\\xb0\\xea\\xb3\\x84\\xeb\\xb0\\x9c</a></li>      \\r\\n                              <li><a href=\"/store/books/category_list.html?cate_cd=007003\">\\xec\\x9d\\xb8\\xeb\\xac\\xb8/\\xea\\xb5\\x90\\xec\\x96\\x91</a></li>      \\r\\n                              <li><a href=\"/store/books/category_list.html?cate_cd=007004\">\\xeb\\xa7\\x88\\xec\\xbc\\x80\\xed\\x8c\\x85</a></li>      \\r\\n                              <li><a href=\"/store/books/category_list.html?cate_cd=007005\">\\xec\\x97\\x90\\xec\\x84\\xb8\\xec\\x9d\\xb4</a></li>      \\r\\n              </ul></li>              <li onmouseover=\"view_hover(\\'category_store7\\',\\'\\',\\'show\\')\" onMouseOut=\"view_hover(\\'category_store7\\',\\'\\',\\'hide\\')\"><a href=\"/store/books/category_list.html?cate_cd=008\" onFocus=\"view_hover(\\'category_store7\\',\\'\\',\\'show\\')\">\\xec\\x9c\\xa0\\xec\\x95\\x84/\\xec\\x96\\xb4\\xeb\\xa6\\xb0\\xec\\x9d\\xb4/\\xec\\xb4\\x88\\xeb\\x93\\xb1</a>\\r\\n                <ul id=\"category_store7\">\\r\\n                              <li><a href=\"/store/books/category_list.html?cate_cd=008001\">4~6\\xec\\x84\\xb8</a></li>      \\r\\n                              <li><a href=\"/store/books/category_list.html?cate_cd=008002\">5~7\\xec\\x84\\xb8</a></li>      \\r\\n                              <li><a href=\"/store/books/category_list.html?cate_cd=008003\">\\xec\\x98\\x88\\xeb\\xb9\\x84\\xec\\xb4\\x88\\xeb\\x93\\xb1</a></li>      \\r\\n                              <li><a href=\"/store/books/category_list.html?cate_cd=008004\">\\xec\\xb4\\x88\\xeb\\x93\\xb1\\xea\\xb5\\x90\\xea\\xb3\\xbc\\xec\\x97\\xb0\\xea\\xb3\\x84 1~12\\xec\\x98\\x81\\xec\\x97\\xad</a></li>      \\r\\n                              <li><a href=\"/store/books/category_list.html?cate_cd=008005\">\\xec\\xb4\\x88\\xeb\\x93\\xb1 \\xec\\xa0\\x84\\xed\\x95\\x99\\xeb\\x85\\x84</a></li>      \\r\\n              </ul></li>            \\r\\n               \\r\\n          <!-- <li class=\"gnb_category_series\"><a href=\"https://www.hanbit.co.kr/store/books/series_list.html\">\\xec\\x8b\\x9c\\xeb\\xa6\\xac\\xec\\xa6\\x88</a></li>\\r\\n          <li class=\"gnb_category_reservations\"><a href=\"https://www.hanbit.co.kr/store/books/reservations_list.html\">\\xec\\x98\\x88\\xec\\x95\\xbd\\xeb\\x8f\\x84\\xec\\x84\\x9c</a></li> -->\\r\\n        </ul>\\r\\n      </ul>\\r\\n      <!--/li-->        \\r\\n      <!--/ul-->\\r\\n\\r\\n      <ul class=\"lnb_depth1\">\\r\\n        <li><a href=\"https://www.hanbit.co.kr/store/books/new_book_list.html\">\\xec\\x83\\x88\\xeb\\xa1\\x9c\\xeb\\x82\\x98\\xec\\x98\\xa8\\xec\\xb1\\x85</a></li><span>l</span>\\r\\n        <li><a href=\"https://www.hanbit.co.kr/store/books/reservations_list.html\">\\xec\\x98\\x88\\xec\\x95\\xbd\\xeb\\x8f\\x84\\xec\\x84\\x9c</a></li><span>l</span>\\r\\n        <li><a href=\"https://www.hanbit.co.kr/store/books/bestseller_list.html\">\\xeb\\xb2\\xa0\\xec\\x8a\\xa4\\xed\\x8a\\xb8\\xec\\x85\\x80\\xeb\\x9f\\xac</a></li><span>l</span>\\r\\n        <li><a href=\"https://www.hanbit.co.kr/store/books/full_book_list.html\">\\xec\\xa0\\x84\\xec\\xb2\\xb4\\xeb\\x8f\\x84\\xec\\x84\\x9c\\xeb\\xaa\\xa9\\xeb\\xa1\\x9d</a></li><span>l</span>\\r\\n        <li><a href=\"https://www.hanbit.co.kr/store/books/series_list.html\">\\xec\\x8b\\x9c\\xeb\\xa6\\xac\\xec\\xa6\\x88</a></li>\\r\\n        <!-- <li><a href=\"https://www.hanbit.co.kr/store/education/edu_list.html\">\\xea\\xb5\\x90\\xec\\x9c\\xa1</a></li><span>l</span>\\r\\n        <li><a href=\"https://www.hanbit.co.kr/store/item/item_list.html\">Item &amp; Maker Shed</a></li> -->\\r\\n      </ul>\\r\\n      \\r\\n      <!-- SUPPORT -->\\r\\n          </div>\\r\\n    </div>\\r\\n    <!--// lnb -->\\r\\n  </div>\\r\\n</header>\\r\\n<!-- //header -->\\r\\n\\r\\n<!-- \\xeb\\xa9\\x94\\xec\\x9d\\xb8 \\xea\\xb2\\x80\\xec\\x83\\x89 \\xeb\\xb0\\x8f \\xec\\xb9\\xb4\\xed\\x85\\x8c\\xea\\xb3\\xa0\\xeb\\xa6\\xac \\xec\\x98\\x81\\xec\\x97\\xad -->\\r\\n<div id=\"main_search_area\" class=\"fixed\" style=\"display:none;\">\\n  <div class=\"msa_wrap\">\\n\\n    <!-- \\xea\\xb2\\x80\\xec\\x83\\x89 -->\\n    <div class=\"msa_srch_wrap\">\\n      <form onsubmit=\"return false;\">\\n      <fieldset class=\"msa_srch_field\">\\n        <legend>\\xed\\x95\\x9c\\xeb\\xb9\\x9b\\xec\\xb6\\x9c\\xed\\x8c\\x90\\xeb\\x84\\xa4\\xed\\x8a\\xb8\\xec\\x9b\\x8c\\xed\\x81\\xac \\xea\\xb2\\x80\\xec\\x83\\x89</legend>\\n        <input title=\"\\xea\\xb2\\x80\\xec\\x83\\x89\\xec\\x96\\xb4\" autocomplete=\"off\" class=\"srch_keyword\" accesskey=\"s\" type=\"text\" name=\"keyword_str\" id=\"keyword_str\" v-model=\"keyword\" @input=\"typeKeyword\">\\n        <input type=\"submit\" class=\"srch_btn\" style=\"cursor:pointer;\" @click=\"clickSearch\">\\n      </fieldset>\\n      </form>\\n    </div>\\n    <!-- //\\xea\\xb2\\x80\\xec\\x83\\x89 -->\\n\\n    <!-- \\xe2\\x91\\xa0 \\xec\\x9d\\xb8\\xea\\xb8\\xb0\\xea\\xb2\\x80\\xec\\x83\\x89\\xec\\x96\\xb4 -->\\n    <div class=\"msa_srch_polular\" v-if=\"showPopularKeyword === true\">\\n      <h2 class=\"tit\">\\xec\\x9d\\xb8\\xea\\xb8\\xb0 \\xea\\xb2\\x80\\xec\\x83\\x89\\xec\\x96\\xb4 <span>(\\xec\\xb5\\x9c\\xea\\xb7\\xbc 1\\xea\\xb0\\x9c\\xec\\x9b\\x94\\xea\\xb0\\x84)</span></h2>\\n        <div class=\"popula_box\">\\n          <ul class=\"left\">\\n            <li v-for=\"keyword in leftPopularKeywordList\">\\n              <a :class=\"keyword.bold\" @click=\"clickPopularKeyword(keyword)\">\\n                  {{ keyword.number }} {{ keyword.bookName }}\\n              </a>\\n            </li>\\n          </ul>\\n          <ul class=\"right\">\\n            <li v-for=\"keyword in rightPopularKeywordList\">\\n              <a :class=\"keyword.bold\" @click=\"clickPopularKeyword(keyword)\">\\n                  {{ keyword.number }} {{ keyword.bookName }}\\n              </a>\\n            </li>\\n          </ul>\\n        </div>\\n    </div>\\n    <!-- \\xe2\\x91\\xa0 \\xec\\x9d\\xb8\\xea\\xb8\\xb0\\xea\\xb2\\x80\\xec\\x83\\x89\\xec\\x96\\xb4 -->\\n\\n    <!-- \\xe2\\x91\\xa1 \\xea\\xb2\\x80\\xec\\x83\\x89\\xea\\xb2\\xb0\\xea\\xb3\\xbc/\\xea\\xb2\\x80\\xec\\x83\\x89\\xec\\x84\\x9c\\xec\\xa0\\x9c\\xec\\x8a\\xa4\\xec\\xb3\\x94 -->\\n    <div class=\"msa_srch_suggestion\" v-if=\"showPopularKeyword === false\">\\n      <div class=\"sugg_left\" v-if=\"bookList.length !== 0\">\\n        <h3 class=\"tit\">BOOK</h3>\\n        <ul class=\"books_list\">\\n          <li v-for=\"book in bookList\" @mouseover=\"mouseOverBook(book.id)\"><a @click=\"clickBookKeyword(book)\"><p v-html=\"book.name\"></p></a></li>\\n        </ul>\\n      </div>\\n\\n      <div class=\"sugg_right\">\\n        <div class=\"sugg_book\" v-if=\"bookList.length !== 0\">\\n          <table class=\"sugg_book_detail\">\\n            <tr>\\n              <td class=\"cover\">\\n                <a @click=\"clickBookKeyword(bookSummary)\">\\n                  <img :src=\"bookSummary.imgUrl\" class=\"b_cover\">\\n                </a>\\n              </td>\\n              <td class=\"draft\">\\n                <a @click=\"clickBookKeyword(bookSummary)\" class=\"b_title\"><strong v-html=\"bookSummary.originName\"></strong></a>\\n                <p class=\"b_int\">\\n                {{ bookSummary.author }} \\xec\\xa7\\x80\\xec\\x9d\\x8c<br />\\n                {{ bookSummary.publishingCompany }} | {{ bookSummary.date }}\\n                </p>\\n                <p class=\"b_type\">\\n                <span>{{ bookSummary.bookType }}</span>\\n                </p>\\n              </td>\\n            </tr>\\n          </table>\\n        </div>\\n\\n        <!--\\n        <div class=\"sugg_edu\" v-if=\"educationList.length !== 0\">\\n          <h3 class=\"tit\">EDUCATION</h3>\\n          <ul class=\"edu_list\">\\n            <li v-for=\"education in educationList\">&#149; <a @click=\"clickEducationKeyword(education)\"><span v-html=\"education.title\"></span></a></li>\\n          </ul>\\n        </div>\\n        -->\\n        \\n        <div class=\"sugg_cont\" v-if=\"contentList.length !== 0\">\\n          <h3 class=\"tit\">CONTENTS</h3>\\n          <ul class=\"cont_list\">\\n            <li v-for=\"content in contentList\">&#149; <a @click=\"clickContentKeyword(content)\"><span v-html=\"content.title\"></span></a></li>\\n          </ul>\\n        </div>\\n      </div>\\n    </div>\\n    <!-- //\\xe2\\x91\\xa1 \\xea\\xb2\\x80\\xec\\x83\\x89\\xea\\xb2\\xb0\\xea\\xb3\\xbc/\\xea\\xb2\\x80\\xec\\x83\\x89\\xec\\x84\\x9c\\xec\\xa0\\x9c\\xec\\x8a\\xa4\\xec\\xb3\\x94 -->\\n\\n  <!-- \\xeb\\x8b\\xab\\xea\\xb8\\xb0 -->\\n  <div class=\"msa_wrap_close\">\\n    <a href=\"javascript:;\" onclick=\"view_hover(\\'main_search_area\\',\\'\\',\\'hide\\')\">\\xeb\\x8b\\xab\\xea\\xb8\\xb0</a>\\n  </div>\\n  <!-- //\\xeb\\x8b\\xab\\xea\\xb8\\xb0 -->\\n\\n  </div>\\n</div>\\n\\n<script type=\"text/javascript\">\\n    \"use strict\";\\n\\n    var common_top_search_vue = new Vue({\\n        el: \\'#main_search_area\\',\\n        data: {\\n            //\\xea\\xb2\\x80\\xec\\x83\\x89\\xec\\x97\\x94\\xec\\xa7\\x84 URL\\n            searchProxyURL: \"https://search.hanbit.co.kr\",\\n            //\\xec\\x9d\\xb8\\xea\\xb8\\xb0 \\xea\\xb2\\x80\\xec\\x83\\x89\\xec\\x96\\xb4 show \\xec\\x97\\xac\\xeb\\xb6\\x80\\n            showPopularKeyword: true,\\n            //\\xec\\x82\\xac\\xec\\x9a\\xa9\\xec\\x9e\\x90 \\xea\\xb2\\x80\\xec\\x83\\x89 \\xed\\x82\\xa4\\xec\\x9b\\x8c\\xeb\\x93\\x9c\\n            keyword: \\'\\',\\n            //\\xec\\x9d\\xb8\\xea\\xb8\\xb0 \\xea\\xb2\\x80\\xec\\x83\\x89\\xec\\x96\\xb4 \\xeb\\xa6\\xac\\xec\\x8a\\xa4\\xed\\x8a\\xb8\\n            popularKeywordList: [],\\n            // \\xec\\x9d\\xb8\\xea\\xb8\\xb0 \\xea\\xb2\\x80\\xec\\x83\\x89\\xec\\x96\\xb4 \\xeb\\xa6\\xac\\xec\\x8a\\xa4\\xed\\x8a\\xb8 (\\xec\\x99\\xbc\\xec\\xaa\\xbd)\\n            leftPopularKeywordList: [],\\n            // \\xec\\x9d\\xb8\\xea\\xb8\\xb0 \\xea\\xb2\\x80\\xec\\x83\\x89\\xec\\x96\\xb4 \\xeb\\xa6\\xac\\xec\\x8a\\xa4\\xed\\x8a\\xb8 (\\xec\\x98\\xa4\\xeb\\xa5\\xb8\\xec\\xaa\\xbd)\\n            rightPopularKeywordList: [],\\n            // \\xec\\x9e\\x90\\xeb\\x8f\\x99\\xec\\x99\\x84\\xec\\x84\\xb1\\xec\\x97\\x90\\xec\\x84\\x9c\\xec\\x9d\\x98 \\xec\\xb1\\x85 \\xeb\\xa6\\xac\\xec\\x8a\\xa4\\xed\\x8a\\xb8\\n            bookList: [],\\n            // \\xec\\x9e\\x90\\xeb\\x8f\\x99\\xec\\x99\\x84\\xec\\x84\\xb1\\xec\\x97\\x90\\xec\\x84\\x9c\\xec\\x9d\\x98 \\xec\\xb1\\x85 \\xec\\xa0\\x95\\xeb\\xb3\\xb4\\n            bookSummary: {\\n                \\'imgUrl\\': \\'\\',\\n                \\'link\\': \\'\\',\\n                \\'name\\': \\'\\',\\n                \\'author\\': \\'\\',\\n                \\'publishingCompany\\': \\'\\',\\n                \\'date\\': \\'\\',\\n                \\'bookType\\': \\'\\'\\n            },\\n            //\\xec\\x97\\x90\\xeb\\x93\\x80\\xec\\xbc\\x80\\xec\\x9d\\xb4\\xec\\x85\\x98 \\xeb\\xa6\\xac\\xec\\x8a\\xa4\\xed\\x8a\\xb8\\n            educationList: [],\\n            //\\xec\\xbb\\xa8\\xed\\x85\\x90\\xec\\xb8\\xa0 \\xeb\\xa6\\xac\\xec\\x8a\\xa4\\xed\\x8a\\xb8\\n            contentList: []\\n        },\\n        created: function created() {\\n            // \\xec\\x9d\\xb8\\xea\\xb8\\xb0 \\xea\\xb2\\x80\\xec\\x83\\x89\\xec\\x96\\xb4 \\xec\\xa1\\xb0\\xed\\x9a\\x8c\\n            this.getPopularKeyword();\\n        },\\n        methods: {\\n            /**\\n             * \\xec\\x82\\xac\\xec\\x9a\\xa9\\xec\\x9e\\x90\\xea\\xb0\\x80 \\xea\\xb2\\x80\\xec\\x83\\x89 \\xed\\x82\\xa4\\xec\\x9b\\x8c\\xeb\\x93\\x9c\\xeb\\xa5\\xbc \\xec\\x9e\\x85\\xeb\\xa0\\xa5\\xed\\x95\\xa0\\xeb\\x95\\x8c \\xeb\\xb0\\x9c\\xec\\x83\\x9d\\xed\\x95\\x98\\xeb\\x8a\\x94 \\xec\\x9d\\xb4\\xeb\\xb2\\xa4\\xed\\x8a\\xb8\\n             */\\n            typeKeyword: function typeKeyword() {\\n                var self = this;\\n                var keyword = $(\"#keyword_str\").val();\\n\\n                if (keyword.length !== 0) {\\n                    //\\xec\\x9e\\x90\\xeb\\x8f\\x99\\xec\\x99\\x84\\xec\\x84\\xb1\\xec\\x96\\xb4\\n                    this.findAutocompleteResult(keyword);\\n                } else {\\n                    //\\xec\\x9d\\xb8\\xea\\xb8\\xb0\\xea\\xb2\\x80\\xec\\x83\\x89\\xec\\x96\\xb4\\n                    self.showPopularKeyword = true;\\n                }\\n            },\\n\\n            /**\\n             * \\xec\\x9d\\xb8\\xea\\xb8\\xb0\\xea\\xb2\\x80\\xec\\x83\\x89\\xec\\x96\\xb4 \\xec\\xa1\\xb0\\xed\\x9a\\x8c\\n             */\\n            getPopularKeyword: function getPopularKeyword() {\\n                var self = this;\\n                this.popularKeywordList = [];\\n                $.get(this.searchProxyURL + \"/querylog/popularKeyword\").done(function (data) {\\n                    if (data != null) {\\n                        self.drawPopularKeyword(data);\\n                    }\\n                });\\n            },\\n\\n            /**\\n             * \\xec\\x9d\\xb8\\xea\\xb8\\xb0 \\xea\\xb2\\x80\\xec\\x83\\x89\\xec\\x96\\xb4 \\xea\\xb7\\xb8\\xeb\\xa6\\xac\\xea\\xb8\\xb0\\n             */\\n            drawPopularKeyword: function drawPopularKeyword(popularBooks) {\\n                var self = this;\\n                popularBooks.forEach(function (item) {\\n                    var popularBook = {\\n                        bookName: item.keyword\\n                    };\\n                    self.popularKeywordList.push(popularBook);\\n                });\\n                var number = 0;\\n\\n                for (var _iterator = this.popularKeywordList, _isArray = Array.isArray(_iterator), _i = 0, _iterator = _isArray ? _iterator : _iterator[Symbol.iterator]();;) {\\n                    var _ref;\\n\\n                    if (_isArray) {\\n                        if (_i >= _iterator.length) break;\\n                        _ref = _iterator[_i++];\\n                    } else {\\n                        _i = _iterator.next();\\n                        if (_i.done) break;\\n                        _ref = _i.value;\\n                    }\\n\\n                    var keyword = _ref;\\n                    number = number + 1;\\n                    keyword.number = number.toString().length < 2 ? \"0\" + number : number;\\n\\n                    if (number > 5) {\\n                        keyword.direction = \"right\";\\n                        self.rightPopularKeywordList.push(keyword);\\n                    } else {\\n                        keyword.direction = \"left\";\\n\\n                        if (number < 4) {\\n                            keyword.bold = \\'active\\';\\n                        }\\n\\n                        self.leftPopularKeywordList.push(keyword);\\n                    }\\n                }\\n            },\\n\\n            /**\\n             * \\xec\\x9e\\x90\\xeb\\x8f\\x99\\xec\\x99\\x84\\xec\\x84\\xb1 \\xea\\xb2\\x80\\xec\\x83\\x89 \\xea\\xb2\\xb0\\xea\\xb3\\xbc\\n             */\\n            findAutocompleteResult: function findAutocompleteResult(keyword) {\\n                var self = this;\\n                var param = {\\n                    q: keyword,\\n                    types: \"education,book,contents\",\\n                    fq: keyword\\n                };\\n                $.post(this.searchProxyURL + \"/autocomplete/search\", param).done(function (data) {\\n                    if (data != null) {\\n                        var bookResult = data.booksResults;\\n                        self.changeBookList(keyword, bookResult);\\n                        var contentResult = data.contentsResults;\\n                        self.changeContentList(keyword, contentResult);\\n                        var educationResult = data.educationResults;\\n                        self.changeEducationList(keyword, educationResult);\\n                    }\\n                });\\n                this.showPopularKeyword = false;\\n            },\\n\\n            /**\\n             * \\xec\\x9e\\x90\\xeb\\x8f\\x99\\xec\\x99\\x84\\xec\\x84\\xb1\\xec\\x96\\xb4\\xec\\x97\\x90\\xec\\x84\\x9c BOOK \\xeb\\xb6\\x80\\xeb\\xb6\\x84\\xec\\x97\\x90\\xec\\x84\\x9c \\xeb\\xa7\\x88\\xec\\x9a\\xb0\\xec\\x8a\\xa4\\xeb\\xa5\\xbc \\xec\\x98\\xac\\xeb\\xa0\\xb8\\xec\\x9d\\x84 \\xec\\x8b\\x9c\\xec\\x97\\x90 \\xeb\\xb0\\x9c\\xec\\x83\\x9d\\xed\\x95\\x98\\xeb\\x8a\\x94 \\xec\\x9d\\xb4\\xeb\\xb2\\xa4\\xed\\x8a\\xb8\\n             * @param bookId\\n             */\\n            mouseOverBook: function mouseOverBook(bookId) {\\n                var currentBook = this.bookList.filter(function (book) {\\n                    return book.id === bookId;\\n                });\\n                this.changeBookSummary(currentBook[0]);\\n            },\\n\\n            /**\\n             * \\xec\\xb1\\x85 \\xec\\x86\\x8c\\xea\\xb0\\x9c \\xeb\\xb3\\x80\\xea\\xb2\\xbd\\n             * @param book\\n             */\\n            changeBookSummary: function changeBookSummary(book) {\\n                if (book !== {}) {\\n                    this.bookSummary.name = book.name;\\n                    this.bookSummary.originName = book.originName;\\n                    this.bookSummary.author = book.author;\\n                    this.bookSummary.bookType = book.bookType;\\n                    this.bookSummary.imgUrl = book.imgUrl;\\n                    this.bookSummary.link = book.link;\\n                    this.bookSummary.publishingCompany = book.publishingCompany;\\n                    this.bookSummary.date = book.date;\\n                    this.bookSummary.bookType = book.bookType;\\n                }\\n            },\\n\\n            /**\\n             * BOOK \\xeb\\xa6\\xac\\xec\\x8a\\xa4\\xed\\x8a\\xb8 \\xeb\\xb3\\x80\\xea\\xb2\\xbd\\n             */\\n            changeBookList: function changeBookList(keyword, bookResultList) {\\n                var self = this;\\n                self.bookList = [];\\n                var index = 0;\\n\\n                if (bookResultList != null) {\\n                    for (var _iterator2 = bookResultList, _isArray2 = Array.isArray(_iterator2), _i2 = 0, _iterator2 = _isArray2 ? _iterator2 : _iterator2[Symbol.iterator]();;) {\\n                        var _ref2;\\n\\n                        if (_isArray2) {\\n                            if (_i2 >= _iterator2.length) break;\\n                            _ref2 = _iterator2[_i2++];\\n                        } else {\\n                            _i2 = _iterator2.next();\\n                            if (_i2.done) break;\\n                            _ref2 = _i2.value;\\n                        }\\n\\n                        var result = _ref2;\\n\\n                        if (index < 10) {\\n                            var book = {};\\n                            book.id = result.code;\\n                            book.originName = result.title;\\n                            book.name = JSON.parse(JSON.stringify(self.replaceHighlightWord(result.title, keyword)));\\n                            book.link = result.code;\\n                            book.imgUrl = self.getBookImageURL(result.code);\\n                            book.author = result.author;\\n                            book.publishingCompany = result.brand;\\n                            book.date = result.pubDate;\\n                            book.bookType = result.bookType;\\n                            self.bookList.push(book); //\\xec\\xb1\\x85 \\xeb\\xaf\\xb8\\xeb\\xa6\\xac\\xeb\\xb3\\xb4\\xea\\xb8\\xb0 \\xeb\\xb3\\x80\\xea\\xb2\\xbd\\n\\n                            self.changeBookSummary(self.bookList[0]);\\n                        }\\n                    }\\n                } else {\\n                    self.initBookSummary();\\n                }\\n            },\\n\\n            /**\\n             * \\xec\\xb1\\x85 \\xec\\x9d\\xb4\\xeb\\xaf\\xb8\\xec\\xa7\\x80 \\xec\\xa3\\xbc\\xec\\x86\\x8c \\xea\\xb0\\x80\\xec\\xa0\\xb8\\xec\\x98\\xa4\\xea\\xb8\\xb0\\n             */\\n            getBookImageURL: function getBookImageURL(bookCode) {\\n                var imgURL;\\n\\n                if (bookCode.substr(0, 1) === \"E\") {\\n                    imgURL = \\'/data/ebook/\\' + bookCode + \\'_m.jpg\\';\\n                } else {\\n                    imgURL = \\'/data/books/\\' + bookCode + \"_m.jpg\";\\n                }\\n\\n                return imgURL;\\n            },\\n\\n            /**\\n             * \\xea\\xb2\\x80\\xec\\x83\\x89 \\xea\\xb2\\xb0\\xea\\xb3\\xbc\\xea\\xb0\\x80 \\xec\\x97\\x86\\xec\\x9d\\x84 \\xea\\xb2\\xbd\\xec\\x9a\\xb0 \\xec\\xb1\\x85 \\xeb\\xaf\\xb8\\xeb\\xa6\\xac\\xeb\\xb3\\xb4\\xea\\xb8\\xb0 \\xec\\xb4\\x88\\xea\\xb8\\xb0\\xed\\x99\\x94\\n             */\\n            initBookSummary: function initBookSummary() {\\n                this.bookSummary = {\\n                    \\'imgUrl\\': \\'\\',\\n                    \\'link\\': \\'\\',\\n                    \\'name\\': \\'\\',\\n                    \\'author\\': \\'\\',\\n                    \\'publishingCompany\\': \\'\\',\\n                    \\'date\\': \\'\\',\\n                    \\'bookType\\': \\'\\'\\n                };\\n            },\\n\\n            /**\\n             * education \\xeb\\xa6\\xac\\xec\\x8a\\xa4\\xed\\x8a\\xb8 \\xeb\\xb3\\x80\\xea\\xb2\\xbd\\n             */\\n            changeEducationList: function changeEducationList(keyword, educationResultList) {\\n                var self = this;\\n                self.educationList = [];\\n                var index = 0;\\n\\n                if (educationResultList != null) {\\n                    for (var _iterator3 = educationResultList, _isArray3 = Array.isArray(_iterator3), _i3 = 0, _iterator3 = _isArray3 ? _iterator3 : _iterator3[Symbol.iterator]();;) {\\n                        var _ref3;\\n\\n                        if (_isArray3) {\\n                            if (_i3 >= _iterator3.length) break;\\n                            _ref3 = _iterator3[_i3++];\\n                        } else {\\n                            _i3 = _iterator3.next();\\n                            if (_i3.done) break;\\n                            _ref3 = _i3.value;\\n                        }\\n\\n                        var result = _ref3;\\n\\n                        if (index < 3) {\\n                            var content = {};\\n                            content.title = JSON.parse(JSON.stringify(self.replaceHighlightWord(result.title, keyword)));\\n                            content.link = result.code;\\n                            self.educationList.push(content);\\n                            index = index + 1;\\n                        }\\n                    }\\n                }\\n            },\\n\\n            /**\\n             * contents \\xeb\\xa6\\xac\\xec\\x8a\\xa4\\xed\\x8a\\xb8 \\xeb\\xb3\\x80\\xea\\xb2\\xbd\\n             */\\n            changeContentList: function changeContentList(keyword, contentResult) {\\n                var self = this;\\n                self.contentList = [];\\n                var index = 0;\\n\\n                if (contentResult != null) {\\n                    for (var _iterator4 = contentResult, _isArray4 = Array.isArray(_iterator4), _i4 = 0, _iterator4 = _isArray4 ? _iterator4 : _iterator4[Symbol.iterator]();;) {\\n                        var _ref4;\\n\\n                        if (_isArray4) {\\n                            if (_i4 >= _iterator4.length) break;\\n                            _ref4 = _iterator4[_i4++];\\n                        } else {\\n                            _i4 = _iterator4.next();\\n                            if (_i4.done) break;\\n                            _ref4 = _i4.value;\\n                        }\\n\\n                        var result = _ref4;\\n\\n                        if (index < 7) {\\n                            var content = {};\\n                            content.title = JSON.parse(JSON.stringify(self.replaceHighlightWord(result.title, keyword)));\\n                            content.link = result.code;\\n                            self.contentList.push(content);\\n                            index = index + 1;\\n                        }\\n                    }\\n                }\\n            },\\n\\n            /**\\n             * \\xed\\x95\\x98\\xec\\x9d\\xb4\\xeb\\x9d\\xbc\\xec\\x9d\\xb4\\xed\\x8a\\xb8 \\xed\\x91\\x9c\\xec\\x8b\\x9c\\n             */\\n            replaceHighlightWord: function replaceHighlightWord(str, highlightKeyword) {\\n                var replaceHighlightKeyword = highlightKeyword.replace(/[^a-z0-9\\xea\\xb0\\x80-\\xed\\x9e\\xa3_ ]/gi, \\'\\');\\n                var regEx = new RegExp(replaceHighlightKeyword, \"gi\");\\n                str = str.replace(regEx, function (a) {\\n                    return \\'<span class=\"keysel\">\\' + a + \\'</span>\\';\\n                });\\n                return str;\\n            },\\n\\n            /**\\n             * \\xea\\xb2\\x80\\xec\\x83\\x89 \\xeb\\xb2\\x84\\xed\\x8a\\xbc \\xed\\x81\\xb4\\xeb\\xa6\\xad \\xec\\x8b\\x9c\\n             * @param e\\n             */\\n            clickSearch: function clickSearch(e) {\\n                if (!this.keyword || this.keyword.length === 0) {\\n                    alert(\"\\xea\\xb2\\x80\\xec\\x83\\x89\\xec\\x96\\xb4\\xeb\\xa5\\xbc \\xec\\x9e\\x85\\xeb\\xa0\\xa5\\xed\\x95\\x98\\xec\\x84\\xb8\\xec\\x9a\\x94\");\\n                    $(\"#keyword_str\").focus();\\n                    e.preventDefault();\\n                } else {\\n                    location.href = \"/search/search_list.html?keyword=\" + this.keyword;\\n                }\\n            },\\n\\n            /**\\n             * \\xec\\x9d\\xb8\\xea\\xb8\\xb0 \\xea\\xb2\\x80\\xec\\x83\\x89\\xec\\x96\\xb4 \\xed\\x81\\xb4\\xeb\\xa6\\xad\\xec\\x8b\\x9c\\n             * @param book\\n             */\\n            clickPopularKeyword: function clickPopularKeyword(book) {\\n                var searchKeyword = book.bookName;\\n                location.href = \"/search/search_list.html?keyword=\" + searchKeyword;\\n            },\\n\\n            /**\\n             * \\xec\\xb1\\x85 \\xea\\xb2\\x80\\xec\\x83\\x89\\xec\\x96\\xb4 \\xed\\x81\\xb4\\xeb\\xa6\\xad\\xec\\x8b\\x9c \\xec\\xb1\\x85 \\xec\\x83\\x81\\xec\\x84\\xb8\\xeb\\xa1\\x9c \\xec\\x9d\\xb4\\xeb\\x8f\\x99\\n             * @param book\\n             */\\n            clickBookKeyword: function clickBookKeyword(book) {\\n                location.href = \"/store/books/look.php?p_code=\" + book.link;\\n            },\\n\\n            /**\\n             * \\xea\\xb5\\x90\\xec\\x9c\\xa1 \\xed\\x81\\xb4\\xeb\\xa6\\xad\\xec\\x8b\\x9c \\xea\\xb5\\x90\\xec\\x9c\\xa1 \\xec\\x83\\x81\\xec\\x84\\xb8\\xeb\\xa1\\x9c \\xec\\x9d\\xb4\\xeb\\x8f\\x99\\n             * @param education\\n             */\\n            clickEducationKeyword: function clickEducationKeyword(education) {\\n                location.href = \"/store/education/edu_view.html?p_code=\" + education.link;\\n            },\\n\\n            /**\\n             * \\xec\\xbb\\xa8\\xed\\x85\\x90\\xec\\xb8\\xa0 \\xed\\x81\\xb4\\xeb\\xa6\\xad\\xec\\x8b\\x9c \\xec\\xbb\\xa8\\xed\\x85\\x90\\xec\\xb8\\xa0 \\xec\\x83\\x81\\xec\\x84\\xb8\\xeb\\xa1\\x9c \\xec\\x9d\\xb4\\xeb\\x8f\\x99\\n             * @param contents\\n             */\\n            clickContentKeyword: function clickContentKeyword(content) {\\n                location.href = \"/channel/category/category_view.html?cms_code=\" + content.link;\\n            }\\n        }\\n    });\\n</script>\\n<!-- //\\xeb\\xa9\\x94\\xec\\x9d\\xb8 \\xea\\xb2\\x80\\xec\\x83\\x89 \\xeb\\xb0\\x8f \\xec\\xb9\\xb4\\xed\\x85\\x8c\\xea\\xb3\\xa0\\xeb\\xa6\\xac \\xec\\x98\\x81\\xec\\x97\\xad -->\\r\\n<!-- Contents -->\\r\\n<div id=\"container\">\\r\\n  <div class=\"docu_title\">\\r\\n    <h2>\\xec\\x83\\x88\\xeb\\xa1\\x9c\\xeb\\x82\\x98\\xec\\x98\\xa8\\xec\\xb1\\x85</h2>\\r\\n  </div>\\r\\n  \\r\\n  <!-- \\xec\\x83\\x88\\xeb\\xa1\\x9c\\xeb\\x82\\x98\\xec\\x98\\xa8 \\xec\\xb1\\x85 wrap -->\\r\\n  <div class=\"new_book_list_wrap\">\\r\\n    <!-- \\xeb\\xb8\\x8c\\xeb\\x9e\\x9c\\xeb\\x93\\x9c \\xec\\xa0\\x95\\xeb\\xa0\\xac \\xeb\\xb2\\x84\\xed\\x8a\\xbc -->\\r\\n    \\r\\n        <div class=\"btn_brand_area\">       \\r\\n\\t\\t\\t<ul>\\r\\n\\t\\t\\t\\t<li class=\"curr\">\\r\\n                \\t<a href=\"/store/books/new_book_list.html\">\\r\\n                    \\t                    <span class=\"name_full\">\\xec\\xa0\\x84\\xec\\xb2\\xb4</span>\\r\\n                                        </a>\\r\\n                    \\r\\n                </li>\\r\\n\\t\\t\\t\\t<li >\\r\\n\\t\\t\\t\\t\\t<a href=\"/store/books/new_book_list.html?brand=HM\">\\r\\n                                        \\t<span class=\"name_abbr\">M</span>\\r\\n                    \\t\\t\\t\\t\\t</a>\\r\\n\\t\\t\\t\\t</li>\\r\\n\\r\\n\\t\\t\\t\\t<li >\\r\\n                \\t<a href=\"/store/books/new_book_list.html?brand=HA\">\\r\\n                                        \\t<span class=\"name_abbr\">A</span>\\r\\n                    \\t\\t\\t\\t\\t</a>\\r\\n                </li>\\r\\n\\t\\t\\t\\t<li >\\r\\n                \\t<a href=\"/store/books/new_book_list.html?brand=HB\">\\r\\n                                        \\t<span class=\"name_abbr\">B</span>\\r\\n                    \\t\\t\\t\\t\\t</a>\\r\\n                </li>\\r\\n\\t\\t\\t\\t<li >\\r\\n                \\t<a href=\"/store/books/new_book_list.html?brand=HL\">\\r\\n                                        \\t<span class=\"name_abbr\">L</span>\\r\\n                    \\t\\t\\t\\t\\t</a>\\r\\n                </li>\\r\\n\\t\\t\\t\\t<li >\\r\\n                \\t<a href=\"/store/books/new_book_list.html?brand=HE\">\\r\\n                                        \\t<span class=\"name_abbr\">E</span>\\r\\n                    \\t\\t\\t\\t\\t</a>\\r\\n                </li>\\r\\n\\t\\t\\t\\t<!-- <li >\\r\\n                \\t<a href=\"/store/books/new_book_list.html?brand=HR\">\\r\\n                                        \\t<span class=\"name_abbr\">R</span>\\r\\n                    \\t\\t\\t\\t\\t</a>\\r\\n                </li>\\r\\n\\t\\t\\t\\t<li >\\r\\n                \\t<a href=\"/store/books/new_book_list.html?brand=MK\">\\r\\n                                        \\t<span class=\"name_abbr\">MK</span>\\r\\n                    \\t\\t\\t\\t\\t</a>\\r\\n                </li> -->\\r\\n\\t\\t\\t\\t\\r\\n\\t\\t\\t</ul>\\r\\n\\t\\t</div>\\r\\n\\r\\n\\r\\n\\r\\n    <!-- //\\xeb\\xb8\\x8c\\xeb\\x9e\\x9c\\xeb\\x93\\x9c \\xec\\xa0\\x95\\xeb\\xa0\\xac \\xeb\\xb2\\x84\\xed\\x8a\\xbc -->\\r\\n    \\r\\n    <!-- \\xea\\xb2\\x80\\xec\\x83\\x89\\xec\\xb0\\xbd -->\\r\\n    <form name=\"frm\" id=\"frm\" action=\"./new_book_list.html\">\\r\\n    <fieldset class=\"hbs_new_srch\">\\r\\n      <legend>\\xec\\x83\\x88\\xeb\\xa1\\x9c\\xeb\\x82\\x98\\xec\\x98\\xa8 \\xec\\xb1\\x85 \\xea\\xb2\\x80\\xec\\x83\\x89\\xec\\x98\\x81\\xec\\x97\\xad</legend>\\r\\n      <input title=\"\\xea\\xb2\\x80\\xec\\x83\\x89\\xec\\x96\\xb4\" class=\"hbs_new_srch_keyword\" accesskey=\"s\" type=\"text\" name=\"keyWord\" id=\"keyWord\" value=\"\">\\r\\n      <input type=\"submit\" alt=\"\" class=\"hbs_new_srch_btn\" onclick=\"document.frm.submit();\">\\r\\n    </fieldset>\\r\\n    <!-- //\\xea\\xb2\\x80\\xec\\x83\\x89\\xec\\xb0\\xbd -->\\r\\n    \\r\\n    <!-- \\xed\\x95\\xad\\xeb\\xaa\\xa9\\xec\\x84\\xa0\\xed\\x83\\x9d -->\\r\\n    <div class=\"list_srch\">\\r\\n      <label>\\r\\n        <select id=\"searchKey\" name=\"searchKey\" class=\"i_select2\">  \\r\\n          <option value=\"all\">\\xec\\xa0\\x84\\xec\\xb2\\xb4</option>  \\r\\n          <option value=\"p_title\" >\\xeb\\x8f\\x84\\xec\\x84\\x9c\\xeb\\xaa\\x85</option>  \\r\\n          <option value=\"p_author\" >\\xec\\xa0\\x80\\xec\\x9e\\x90/\\xec\\x97\\xad\\xec\\x9e\\x90</option>\\r\\n        </select>  \\r\\n      </label>\\r\\n    </div>\\r\\n    </form>\\r\\n    <!-- //\\xed\\x95\\xad\\xeb\\xaa\\xa9\\xec\\x84\\xa0\\xed\\x83\\x9d -->\\r\\n    \\r\\n    <!-- \\xec\\xb1\\x85 \\xeb\\xa6\\xac\\xec\\x8a\\xa4\\xed\\x8a\\xb8 -->\\r\\n    <div class=\"sub_book_list_area\">\\r\\n            \\r\\n        <li class=\"sub_book_list\">\\r\\n          <div class=\"view_box\">\\r\\n            <!--\\r\\n            <span class=\"view_box_block\" onclick=\"location.href=\\'/store/books/look.php?p_code=B4448108740\\';\">\\r\\n            -->\\r\\n            <span class=\"view_box_block\">\\r\\n            \\r\\n              <span class=\"img_hidden_m\">\\r\\n                <span class=\"pop_quick_menu\">                \\r\\n                    <a href=\"/store/books/look.php?p_code=B4448108740\"><img src=\"https://www.hanbit.co.kr/images/common/icon_view_detail.png\" alt=\"\\xec\\x83\\x81\\xec\\x84\\xb8\\xeb\\xb3\\xb4\\xea\\xb8\\xb0\" /></a>\\r\\n                                          <a href=\"javascript:;\" onClick=\"addCart(\\'B4448108740\\',\\'\\',\\'1\\',\\'\\');\">\\r\\n                        <img src=\"https://www.hanbit.co.kr/images/common/icon_add_cart.png\" alt=\"\\xec\\x9e\\xa5\\xeb\\xb0\\x94\\xea\\xb5\\xac\\xeb\\x8b\\x88 \\xeb\\x8b\\xb4\\xea\\xb8\\xb0\" />\\r\\n                      </a>\\r\\n                                        \\r\\n                </span>\\r\\n                <span class=\"price\">22,500<span>\\xec\\x9b\\x90</span></span>\\r\\n                <span class=\"pop_quick_bg\" onClick=\"location=\\'/store/books/look.php?p_code=B4448108740\\'\"></span>\\r\\n              </span>\\r\\n              <!-- \\xec\\x98\\x88\\xec\\x95\\xbd\\xeb\\x8f\\x84\\xec\\x84\\x9c\\xec\\x9d\\xb8 \\xea\\xb2\\xbd\\xec\\x9a\\xb0 -->\\r\\n                            <!-- ebook\\xec\\x9d\\xb4 \\xeb\\x8f\\x84\\xec\\x84\\x9c\\xec\\x9d\\xb8 \\xea\\xb2\\xbd\\xec\\x9a\\xb0 -->\\r\\n\\r\\n                          <img src=\"/data/books/B4448108740_m.jpg\" alt=\"\" class=\"thumb\" />\\r\\n            \\r\\n            </span>\\r\\n            <div class=\"info\">\\r\\n              <p class=\"book_tit\"><a href=\"/store/books/look.php?p_code=B4448108740\">\\xec\\x9b\\xb9 \\xeb\\xb8\\x8c\\xeb\\x9d\\xbc\\xec\\x9a\\xb0\\xec\\xa0\\x80 \\xec\\x86\\x8d \\xeb\\xa8\\xb8\\xec\\x8b\\xa0\\xeb\\x9f\\xac\\xeb\\x8b\\x9d TensorFlow.js</a></p>\\r\\n              <p class=\"book_writer\">\\xec\\xb9\\xb4\\xec\\x9d\\xb4 \\xec\\x82\\xac\\xec\\x82\\xac\\xed\\x82\\xa4 </p>\\r\\n            </div>            \\r\\n          </div>\\r\\n        </li>        \\r\\n            \\r\\n        <li class=\"sub_book_list\">\\r\\n          <div class=\"view_box\">\\r\\n            <!--\\r\\n            <span class=\"view_box_block\" onclick=\"location.href=\\'/store/books/look.php?p_code=B6434597961\\';\">\\r\\n            -->\\r\\n            <span class=\"view_box_block\">\\r\\n            \\r\\n              <span class=\"img_hidden_a\">\\r\\n                <span class=\"pop_quick_menu\">                \\r\\n                    <a href=\"/store/books/look.php?p_code=B6434597961\"><img src=\"https://www.hanbit.co.kr/images/common/icon_view_detail.png\" alt=\"\\xec\\x83\\x81\\xec\\x84\\xb8\\xeb\\xb3\\xb4\\xea\\xb8\\xb0\" /></a>\\r\\n                                        \\r\\n                </span>\\r\\n                <span class=\"price\">24,000<span>\\xec\\x9b\\x90</span></span>\\r\\n                <span class=\"pop_quick_bg\" onClick=\"location=\\'/store/books/look.php?p_code=B6434597961\\'\"></span>\\r\\n              </span>\\r\\n              <!-- \\xec\\x98\\x88\\xec\\x95\\xbd\\xeb\\x8f\\x84\\xec\\x84\\x9c\\xec\\x9d\\xb8 \\xea\\xb2\\xbd\\xec\\x9a\\xb0 -->\\r\\n                            <!-- ebook\\xec\\x9d\\xb4 \\xeb\\x8f\\x84\\xec\\x84\\x9c\\xec\\x9d\\xb8 \\xea\\xb2\\xbd\\xec\\x9a\\xb0 -->\\r\\n\\r\\n                          <img src=\"/data/books/B6434597961_m.jpg\" alt=\"\" class=\"thumb\" />\\r\\n            \\r\\n            </span>\\r\\n            <div class=\"info\">\\r\\n              <p class=\"book_tit\"><a href=\"/store/books/look.php?p_code=B6434597961\">IT CookBook, \\xec\\xb2\\x98\\xec\\x9d\\x8c \\xeb\\xa7\\x8c\\xeb\\x82\\x98\\xeb\\x8a\\x94 \\xec\\xa0\\x84\\xea\\xb8\\xb0\\xea\\xb8\\xb0\\xea\\xb8\\xb0&#40;2\\xed\\x8c\\x90&#41;</a></p>\\r\\n              <p class=\"book_writer\">\\xec\\xb5\\x9c\\xec\\x9d\\x80\\xed\\x98\\x81 , \\xeb\\xb0\\x95\\xec\\x88\\xad\\xea\\xb7\\x9c </p>\\r\\n            </div>            \\r\\n          </div>\\r\\n        </li>        \\r\\n            \\r\\n        <li class=\"sub_book_list\">\\r\\n          <div class=\"view_box\">\\r\\n            <!--\\r\\n            <span class=\"view_box_block\" onclick=\"location.href=\\'/store/books/look.php?p_code=B9923613168\\';\">\\r\\n            -->\\r\\n            <span class=\"view_box_block\">\\r\\n            \\r\\n              <span class=\"img_hidden_m\">\\r\\n                <span class=\"pop_quick_menu\">                \\r\\n                    <a href=\"/store/books/look.php?p_code=B9923613168\"><img src=\"https://www.hanbit.co.kr/images/common/icon_view_detail.png\" alt=\"\\xec\\x83\\x81\\xec\\x84\\xb8\\xeb\\xb3\\xb4\\xea\\xb8\\xb0\" /></a>\\r\\n                                          <a href=\"javascript:;\" onClick=\"addCart(\\'B9923613168\\',\\'\\',\\'1\\',\\'\\');\">\\r\\n                        <img src=\"https://www.hanbit.co.kr/images/common/icon_add_cart.png\" alt=\"\\xec\\x9e\\xa5\\xeb\\xb0\\x94\\xea\\xb5\\xac\\xeb\\x8b\\x88 \\xeb\\x8b\\xb4\\xea\\xb8\\xb0\" />\\r\\n                      </a>\\r\\n                                        \\r\\n                </span>\\r\\n                <span class=\"price\">23,400<span>\\xec\\x9b\\x90</span></span>\\r\\n                <span class=\"pop_quick_bg\" onClick=\"location=\\'/store/books/look.php?p_code=B9923613168\\'\"></span>\\r\\n              </span>\\r\\n              <!-- \\xec\\x98\\x88\\xec\\x95\\xbd\\xeb\\x8f\\x84\\xec\\x84\\x9c\\xec\\x9d\\xb8 \\xea\\xb2\\xbd\\xec\\x9a\\xb0 -->\\r\\n                            <!-- ebook\\xec\\x9d\\xb4 \\xeb\\x8f\\x84\\xec\\x84\\x9c\\xec\\x9d\\xb8 \\xea\\xb2\\xbd\\xec\\x9a\\xb0 -->\\r\\n\\r\\n                          <img src=\"/data/books/B9923613168_m.jpg\" alt=\"\" class=\"thumb\" />\\r\\n            \\r\\n            </span>\\r\\n            <div class=\"info\">\\r\\n              <p class=\"book_tit\"><a href=\"/store/books/look.php?p_code=B9923613168\">\\xeb\\xaa\\xa8\\xeb\\xb0\\x94\\xec\\x9d\\xbc UX/UI \\xeb\\x94\\x94\\xec\\x9e\\x90\\xec\\x9d\\xb8 \\xea\\xb0\\x95\\xec\\x9d\\x98 with Adobe XD</a></p>\\r\\n              <p class=\"book_writer\">\\xea\\xb9\\x80\\xec\\x98\\x81\\xec\\x82\\xbc </p>\\r\\n            </div>            \\r\\n          </div>\\r\\n        </li>        \\r\\n            \\r\\n        <li class=\"sub_book_list\">\\r\\n          <div class=\"view_box\">\\r\\n            <!--\\r\\n            <span class=\"view_box_block\" onclick=\"location.href=\\'/store/books/look.php?p_code=B9234684497\\';\">\\r\\n            -->\\r\\n            <span class=\"view_box_block\">\\r\\n            \\r\\n              <span class=\"img_hidden_b\">\\r\\n                <span class=\"pop_quick_menu\">                \\r\\n                    <a href=\"/store/books/look.php?p_code=B9234684497\"><img src=\"https://www.hanbit.co.kr/images/common/icon_view_detail.png\" alt=\"\\xec\\x83\\x81\\xec\\x84\\xb8\\xeb\\xb3\\xb4\\xea\\xb8\\xb0\" /></a>\\r\\n                                        \\r\\n                </span>\\r\\n                <span class=\"price\">16,650<span>\\xec\\x9b\\x90</span></span>\\r\\n                <span class=\"pop_quick_bg\" onClick=\"location=\\'/store/books/look.php?p_code=B9234684497\\'\"></span>\\r\\n              </span>\\r\\n              <!-- \\xec\\x98\\x88\\xec\\x95\\xbd\\xeb\\x8f\\x84\\xec\\x84\\x9c\\xec\\x9d\\xb8 \\xea\\xb2\\xbd\\xec\\x9a\\xb0 -->\\r\\n                            <!-- ebook\\xec\\x9d\\xb4 \\xeb\\x8f\\x84\\xec\\x84\\x9c\\xec\\x9d\\xb8 \\xea\\xb2\\xbd\\xec\\x9a\\xb0 -->\\r\\n\\r\\n                          <img src=\"/data/books/B9234684497_m.jpg\" alt=\"\" class=\"thumb\" />\\r\\n            \\r\\n            </span>\\r\\n            <div class=\"info\">\\r\\n              <p class=\"book_tit\"><a href=\"/store/books/look.php?p_code=B9234684497\">\\xec\\x9d\\xb8\\xeb\\xac\\xb8\\xed\\x95\\x99 \\xea\\xb1\\xb0\\xec\\xa0\\x80\\xeb\\xb3\\xb4\\xea\\xb8\\xb0 : \\xec\\x84\\x9c\\xec\\x96\\x91\\xec\\xb2\\xa0\\xed\\x95\\x99 \\xed\\x8e\\xb8</a></p>\\r\\n              <p class=\"book_writer\">\\xec\\xa7\\x80\\xed\\x95\\x98\\xeb\\x8a\\x98 </p>\\r\\n            </div>            \\r\\n          </div>\\r\\n        </li>        \\r\\n            \\r\\n        <li class=\"sub_book_list\">\\r\\n          <div class=\"view_box\">\\r\\n            <!--\\r\\n            <span class=\"view_box_block\" onclick=\"location.href=\\'/store/books/look.php?p_code=B9575488572\\';\">\\r\\n            -->\\r\\n            <span class=\"view_box_block\">\\r\\n            \\r\\n              <span class=\"img_hidden_m\">\\r\\n                <span class=\"pop_quick_menu\">                \\r\\n                    <a href=\"/store/books/look.php?p_code=B9575488572\"><img src=\"https://www.hanbit.co.kr/images/common/icon_view_detail.png\" alt=\"\\xec\\x83\\x81\\xec\\x84\\xb8\\xeb\\xb3\\xb4\\xea\\xb8\\xb0\" /></a>\\r\\n                                          <a href=\"javascript:;\" onClick=\"addCart(\\'B9575488572\\',\\'\\',\\'1\\',\\'\\');\">\\r\\n                        <img src=\"https://www.hanbit.co.kr/images/common/icon_add_cart.png\" alt=\"\\xec\\x9e\\xa5\\xeb\\xb0\\x94\\xea\\xb5\\xac\\xeb\\x8b\\x88 \\xeb\\x8b\\xb4\\xea\\xb8\\xb0\" />\\r\\n                      </a>\\r\\n                                        \\r\\n                </span>\\r\\n                <span class=\"price\">17,820<span>\\xec\\x9b\\x90</span></span>\\r\\n                <span class=\"pop_quick_bg\" onClick=\"location=\\'/store/books/look.php?p_code=B9575488572\\'\"></span>\\r\\n              </span>\\r\\n              <!-- \\xec\\x98\\x88\\xec\\x95\\xbd\\xeb\\x8f\\x84\\xec\\x84\\x9c\\xec\\x9d\\xb8 \\xea\\xb2\\xbd\\xec\\x9a\\xb0 -->\\r\\n                            <!-- ebook\\xec\\x9d\\xb4 \\xeb\\x8f\\x84\\xec\\x84\\x9c\\xec\\x9d\\xb8 \\xea\\xb2\\xbd\\xec\\x9a\\xb0 -->\\r\\n\\r\\n                          <img src=\"/data/books/B9575488572_m.jpg\" alt=\"\" class=\"thumb\" />\\r\\n            \\r\\n            </span>\\r\\n            <div class=\"info\">\\r\\n              <p class=\"book_tit\"><a href=\"/store/books/look.php?p_code=B9575488572\">\\xec\\xb2\\x98\\xec\\x9d\\x8c \\xeb\\xb0\\xb0\\xec\\x9a\\xb0\\xeb\\x8a\\x94 \\xed\\x94\\x8c\\xeb\\x9d\\xbc\\xec\\x8a\\xa4\\xed\\x81\\xac \\xec\\x9b\\xb9 \\xed\\x94\\x84\\xeb\\xa1\\x9c\\xea\\xb7\\xb8\\xeb\\x9e\\x98\\xeb\\xb0\\x8d</a></p>\\r\\n              <p class=\"book_writer\">\\xec\\x9c\\xa4\\xec\\xa0\\x95\\xed\\x98\\x84 </p>\\r\\n            </div>            \\r\\n          </div>\\r\\n        </li>        \\r\\n            \\r\\n        <li class=\"sub_book_list\">\\r\\n          <div class=\"view_box\">\\r\\n            <!--\\r\\n            <span class=\"view_box_block\" onclick=\"location.href=\\'/store/books/look.php?p_code=B4633012179\\';\">\\r\\n            -->\\r\\n            <span class=\"view_box_block\">\\r\\n            \\r\\n              <span class=\"img_hidden_a\">\\r\\n                <span class=\"pop_quick_menu\">                \\r\\n                    <a href=\"/store/books/look.php?p_code=B4633012179\"><img src=\"https://www.hanbit.co.kr/images/common/icon_view_detail.png\" alt=\"\\xec\\x83\\x81\\xec\\x84\\xb8\\xeb\\xb3\\xb4\\xea\\xb8\\xb0\" /></a>\\r\\n                                        \\r\\n                </span>\\r\\n                <span class=\"price\">35,000<span>\\xec\\x9b\\x90</span></span>\\r\\n                <span class=\"pop_quick_bg\" onClick=\"location=\\'/store/books/look.php?p_code=B4633012179\\'\"></span>\\r\\n              </span>\\r\\n              <!-- \\xec\\x98\\x88\\xec\\x95\\xbd\\xeb\\x8f\\x84\\xec\\x84\\x9c\\xec\\x9d\\xb8 \\xea\\xb2\\xbd\\xec\\x9a\\xb0 -->\\r\\n                            <!-- ebook\\xec\\x9d\\xb4 \\xeb\\x8f\\x84\\xec\\x84\\x9c\\xec\\x9d\\xb8 \\xea\\xb2\\xbd\\xec\\x9a\\xb0 -->\\r\\n\\r\\n                          <img src=\"/data/books/B4633012179_m.jpg\" alt=\"\" class=\"thumb\" />\\r\\n            \\r\\n            </span>\\r\\n            <div class=\"info\">\\r\\n              <p class=\"book_tit\"><a href=\"/store/books/look.php?p_code=B4633012179\">IT CookBook, \\xed\\x98\\x84\\xeb\\x8c\\x80 \\xec\\x84\\xbc\\xec\\x84\\x9c\\xea\\xb3\\xb5\\xed\\x95\\x99&#40;5\\xed\\x8c\\x90&#41;</a></p>\\r\\n              <p class=\"book_writer\">Jacob Fraden </p>\\r\\n            </div>            \\r\\n          </div>\\r\\n        </li>        \\r\\n            \\r\\n        <li class=\"sub_book_list\">\\r\\n          <div class=\"view_box\">\\r\\n            <!--\\r\\n            <span class=\"view_box_block\" onclick=\"location.href=\\'/store/books/look.php?p_code=B9037188841\\';\">\\r\\n            -->\\r\\n            <span class=\"view_box_block\">\\r\\n            \\r\\n              <span class=\"img_hidden_b\">\\r\\n                <span class=\"pop_quick_menu\">                \\r\\n                    <a href=\"/store/books/look.php?p_code=B9037188841\"><img src=\"https://www.hanbit.co.kr/images/common/icon_view_detail.png\" alt=\"\\xec\\x83\\x81\\xec\\x84\\xb8\\xeb\\xb3\\xb4\\xea\\xb8\\xb0\" /></a>\\r\\n                                        \\r\\n                </span>\\r\\n                <span class=\"price\">16,200<span>\\xec\\x9b\\x90</span></span>\\r\\n                <span class=\"pop_quick_bg\" onClick=\"location=\\'/store/books/look.php?p_code=B9037188841\\'\"></span>\\r\\n              </span>\\r\\n              <!-- \\xec\\x98\\x88\\xec\\x95\\xbd\\xeb\\x8f\\x84\\xec\\x84\\x9c\\xec\\x9d\\xb8 \\xea\\xb2\\xbd\\xec\\x9a\\xb0 -->\\r\\n                            <!-- ebook\\xec\\x9d\\xb4 \\xeb\\x8f\\x84\\xec\\x84\\x9c\\xec\\x9d\\xb8 \\xea\\xb2\\xbd\\xec\\x9a\\xb0 -->\\r\\n\\r\\n                          <img src=\"/data/books/B9037188841_m.jpg\" alt=\"\" class=\"thumb\" />\\r\\n            \\r\\n            </span>\\r\\n            <div class=\"info\">\\r\\n              <p class=\"book_tit\"><a href=\"/store/books/look.php?p_code=B9037188841\">\\xeb\\xb0\\xa9\\xea\\xb5\\xac\\xec\\x84\\x9d \\xec\\x8b\\xac\\xeb\\xa6\\xac\\xed\\x95\\x99 \\xec\\x8b\\xa4\\xed\\x97\\x98\\xec\\x8b\\xa4</a></p>\\r\\n              <p class=\"book_writer\">\\xeb\\xa7\\x88\\xec\\x9d\\xb4\\xed\\x81\\xb4 A. \\xeb\\xb8\\x8c\\xeb\\xa6\\xbf </p>\\r\\n            </div>            \\r\\n          </div>\\r\\n        </li>        \\r\\n            \\r\\n        <li class=\"sub_book_list\">\\r\\n          <div class=\"view_box\">\\r\\n            <!--\\r\\n            <span class=\"view_box_block\" onclick=\"location.href=\\'/store/books/look.php?p_code=B1265976064\\';\">\\r\\n            -->\\r\\n            <span class=\"view_box_block\">\\r\\n            \\r\\n              <span class=\"img_hidden_a\">\\r\\n                <span class=\"pop_quick_menu\">                \\r\\n                    <a href=\"/store/books/look.php?p_code=B1265976064\"><img src=\"https://www.hanbit.co.kr/images/common/icon_view_detail.png\" alt=\"\\xec\\x83\\x81\\xec\\x84\\xb8\\xeb\\xb3\\xb4\\xea\\xb8\\xb0\" /></a>\\r\\n                                        \\r\\n                </span>\\r\\n                <span class=\"price\">30,000<span>\\xec\\x9b\\x90</span></span>\\r\\n                <span class=\"pop_quick_bg\" onClick=\"location=\\'/store/books/look.php?p_code=B1265976064\\'\"></span>\\r\\n              </span>\\r\\n              <!-- \\xec\\x98\\x88\\xec\\x95\\xbd\\xeb\\x8f\\x84\\xec\\x84\\x9c\\xec\\x9d\\xb8 \\xea\\xb2\\xbd\\xec\\x9a\\xb0 -->\\r\\n                            <!-- ebook\\xec\\x9d\\xb4 \\xeb\\x8f\\x84\\xec\\x84\\x9c\\xec\\x9d\\xb8 \\xea\\xb2\\xbd\\xec\\x9a\\xb0 -->\\r\\n\\r\\n                          <img src=\"/data/books/B1265976064_m.jpg\" alt=\"\" class=\"thumb\" />\\r\\n            \\r\\n            </span>\\r\\n            <div class=\"info\">\\r\\n              <p class=\"book_tit\"><a href=\"/store/books/look.php?p_code=B1265976064\">IT CookBook, \\xeb\\xaa\\xa8\\xeb\\xb0\\x94\\xec\\x9d\\xbc \\xec\\x9b\\xb9 \\xec\\x84\\x9c\\xeb\\xb9\\x84\\xec\\x8a\\xa4 \\xea\\xb5\\xac\\xed\\x98\\x84\\xec\\x9d\\x84 \\xec\\x9c\\x84\\xed\\x95\\x9c JSP \\xec\\x9b\\xb9 \\xed\\x94\\x84\\xeb\\xa1\\x9c\\xea\\xb7\\xb8\\xeb\\x9e\\x98\\xeb\\xb0\\x8d</a></p>\\r\\n              <p class=\"book_writer\">\\xea\\xb9\\x80\\xed\\x98\\x84\\xea\\xb7\\x9c , \\xeb\\xb0\\x95\\xec\\x9c\\xa0\\xed\\x98\\x84 </p>\\r\\n            </div>            \\r\\n          </div>\\r\\n        </li>        \\r\\n            \\r\\n        <li class=\"sub_book_list\">\\r\\n          <div class=\"view_box\">\\r\\n            <!--\\r\\n            <span class=\"view_box_block\" onclick=\"location.href=\\'/store/books/look.php?p_code=B6220676898\\';\">\\r\\n            -->\\r\\n            <span class=\"view_box_block\">\\r\\n            \\r\\n              <span class=\"img_hidden_e\">\\r\\n                <span class=\"pop_quick_menu\">                \\r\\n                    <a href=\"/store/books/look.php?p_code=B6220676898\"><img src=\"https://www.hanbit.co.kr/images/common/icon_view_detail.png\" alt=\"\\xec\\x83\\x81\\xec\\x84\\xb8\\xeb\\xb3\\xb4\\xea\\xb8\\xb0\" /></a>\\r\\n                                          <a href=\"javascript:;\" onClick=\"addCart(\\'B6220676898\\',\\'\\',\\'1\\',\\'\\');\">\\r\\n                        <img src=\"https://www.hanbit.co.kr/images/common/icon_add_cart.png\" alt=\"\\xec\\x9e\\xa5\\xeb\\xb0\\x94\\xea\\xb5\\xac\\xeb\\x8b\\x88 \\xeb\\x8b\\xb4\\xea\\xb8\\xb0\" />\\r\\n                      </a>\\r\\n                                        \\r\\n                </span>\\r\\n                <span class=\"price\">8,820<span>\\xec\\x9b\\x90</span></span>\\r\\n                <span class=\"pop_quick_bg\" onClick=\"location=\\'/store/books/look.php?p_code=B6220676898\\'\"></span>\\r\\n              </span>\\r\\n              <!-- \\xec\\x98\\x88\\xec\\x95\\xbd\\xeb\\x8f\\x84\\xec\\x84\\x9c\\xec\\x9d\\xb8 \\xea\\xb2\\xbd\\xec\\x9a\\xb0 -->\\r\\n                            <!-- ebook\\xec\\x9d\\xb4 \\xeb\\x8f\\x84\\xec\\x84\\x9c\\xec\\x9d\\xb8 \\xea\\xb2\\xbd\\xec\\x9a\\xb0 -->\\r\\n\\r\\n                          <img src=\"/data/books/B6220676898_m.jpg\" alt=\"\" class=\"thumb\" />\\r\\n            \\r\\n            </span>\\r\\n            <div class=\"info\">\\r\\n              <p class=\"book_tit\"><a href=\"/store/books/look.php?p_code=B6220676898\">\\xed\\x98\\xbc\\xec\\x9e\\x90\\xec\\x84\\x9c\\xeb\\x8f\\x84 \\xec\\xb2\\x99\\xec\\xb2\\x99 \\xec\\xa0\\x91\\xeb\\x8a\\x94 \\xec\\xa2\\x85\\xec\\x9d\\xb4\\xec\\xa0\\x91\\xea\\xb8\\xb0</a></p>\\r\\n              <p class=\"book_writer\">\\xec\\x8b\\xa0\\xea\\xb5\\xac \\xed\\x9b\\x84\\xeb\\xaf\\xb8\\xec\\x95\\x84\\xed\\x82\\xa4 </p>\\r\\n            </div>            \\r\\n          </div>\\r\\n        </li>        \\r\\n            \\r\\n        <li class=\"sub_book_list\">\\r\\n          <div class=\"view_box\">\\r\\n            <!--\\r\\n            <span class=\"view_box_block\" onclick=\"location.href=\\'/store/books/look.php?p_code=B6156831644\\';\">\\r\\n            -->\\r\\n            <span class=\"view_box_block\">\\r\\n            \\r\\n              <span class=\"img_hidden_e\">\\r\\n                <span class=\"pop_quick_menu\">                \\r\\n                    <a href=\"/store/books/look.php?p_code=B6156831644\"><img src=\"https://www.hanbit.co.kr/images/common/icon_view_detail.png\" alt=\"\\xec\\x83\\x81\\xec\\x84\\xb8\\xeb\\xb3\\xb4\\xea\\xb8\\xb0\" /></a>\\r\\n                                          <a href=\"javascript:;\" onClick=\"addCart(\\'B6156831644\\',\\'\\',\\'1\\',\\'\\');\">\\r\\n                        <img src=\"https://www.hanbit.co.kr/images/common/icon_add_cart.png\" alt=\"\\xec\\x9e\\xa5\\xeb\\xb0\\x94\\xea\\xb5\\xac\\xeb\\x8b\\x88 \\xeb\\x8b\\xb4\\xea\\xb8\\xb0\" />\\r\\n                      </a>\\r\\n                                        \\r\\n                </span>\\r\\n                <span class=\"price\">13,500<span>\\xec\\x9b\\x90</span></span>\\r\\n                <span class=\"pop_quick_bg\" onClick=\"location=\\'/store/books/look.php?p_code=B6156831644\\'\"></span>\\r\\n              </span>\\r\\n              <!-- \\xec\\x98\\x88\\xec\\x95\\xbd\\xeb\\x8f\\x84\\xec\\x84\\x9c\\xec\\x9d\\xb8 \\xea\\xb2\\xbd\\xec\\x9a\\xb0 -->\\r\\n                            <!-- ebook\\xec\\x9d\\xb4 \\xeb\\x8f\\x84\\xec\\x84\\x9c\\xec\\x9d\\xb8 \\xea\\xb2\\xbd\\xec\\x9a\\xb0 -->\\r\\n\\r\\n                          <img src=\"/data/books/B6156831644_m.jpg\" alt=\"\" class=\"thumb\" />\\r\\n            \\r\\n            </span>\\r\\n            <div class=\"info\">\\r\\n              <p class=\"book_tit\"><a href=\"/store/books/look.php?p_code=B6156831644\">\\xed\\x98\\xbc\\xec\\x9e\\x90\\xec\\x84\\x9c\\xeb\\x8f\\x84 \\xec\\xb2\\x99\\xec\\xb2\\x99 \\xec\\xa0\\x91\\xeb\\x8a\\x94 \\xec\\xa2\\x85\\xec\\x9d\\xb4\\xec\\xa0\\x91\\xea\\xb8\\xb0 2\\xea\\xb6\\x8c \\xec\\x84\\xb8\\xed\\x8a\\xb8</a></p>\\r\\n              <p class=\"book_writer\">\\xec\\x8b\\xa0\\xea\\xb5\\xac \\xed\\x9b\\x84\\xeb\\xaf\\xb8\\xec\\x95\\x84\\xed\\x82\\xa4 </p>\\r\\n            </div>            \\r\\n          </div>\\r\\n        </li>        \\r\\n            \\r\\n        <li class=\"sub_book_list\">\\r\\n          <div class=\"view_box\">\\r\\n            <!--\\r\\n            <span class=\"view_box_block\" onclick=\"location.href=\\'/store/books/look.php?p_code=B9134095146\\';\">\\r\\n            -->\\r\\n            <span class=\"view_box_block\">\\r\\n            \\r\\n              <span class=\"img_hidden_e\">\\r\\n                <span class=\"pop_quick_menu\">                \\r\\n                    <a href=\"/store/books/look.php?p_code=B9134095146\"><img src=\"https://www.hanbit.co.kr/images/common/icon_view_detail.png\" alt=\"\\xec\\x83\\x81\\xec\\x84\\xb8\\xeb\\xb3\\xb4\\xea\\xb8\\xb0\" /></a>\\r\\n                                          <a href=\"javascript:;\" onClick=\"addCart(\\'B9134095146\\',\\'\\',\\'1\\',\\'\\');\">\\r\\n                        <img src=\"https://www.hanbit.co.kr/images/common/icon_add_cart.png\" alt=\"\\xec\\x9e\\xa5\\xeb\\xb0\\x94\\xea\\xb5\\xac\\xeb\\x8b\\x88 \\xeb\\x8b\\xb4\\xea\\xb8\\xb0\" />\\r\\n                      </a>\\r\\n                                        \\r\\n                </span>\\r\\n                <span class=\"price\">8,820<span>\\xec\\x9b\\x90</span></span>\\r\\n                <span class=\"pop_quick_bg\" onClick=\"location=\\'/store/books/look.php?p_code=B9134095146\\'\"></span>\\r\\n              </span>\\r\\n              <!-- \\xec\\x98\\x88\\xec\\x95\\xbd\\xeb\\x8f\\x84\\xec\\x84\\x9c\\xec\\x9d\\xb8 \\xea\\xb2\\xbd\\xec\\x9a\\xb0 -->\\r\\n                            <!-- ebook\\xec\\x9d\\xb4 \\xeb\\x8f\\x84\\xec\\x84\\x9c\\xec\\x9d\\xb8 \\xea\\xb2\\xbd\\xec\\x9a\\xb0 -->\\r\\n\\r\\n                          <img src=\"/data/books/B9134095146_m.jpg\" alt=\"\" class=\"thumb\" />\\r\\n            \\r\\n            </span>\\r\\n            <div class=\"info\">\\r\\n              <p class=\"book_tit\"><a href=\"/store/books/look.php?p_code=B9134095146\">\\xed\\x98\\xbc\\xec\\x9e\\x90\\xec\\x84\\x9c\\xeb\\x8f\\x84 \\xec\\xb2\\x99\\xec\\xb2\\x99 \\xec\\xa0\\x91\\xeb\\x8a\\x94 \\xec\\xa2\\x85\\xec\\x9d\\xb4\\xec\\xa0\\x91\\xea\\xb8\\xb0 \\xed\\x94\\x8c\\xeb\\x9f\\xac\\xec\\x8a\\xa4</a></p>\\r\\n              <p class=\"book_writer\">\\xec\\x8b\\xa0\\xea\\xb5\\xac \\xed\\x9b\\x84\\xeb\\xaf\\xb8\\xec\\x95\\x84\\xed\\x82\\xa4 </p>\\r\\n            </div>            \\r\\n          </div>\\r\\n        </li>        \\r\\n            \\r\\n        <li class=\"sub_book_list\">\\r\\n          <div class=\"view_box\">\\r\\n            <!--\\r\\n            <span class=\"view_box_block\" onclick=\"location.href=\\'/store/books/look.php?p_code=B8955111301\\';\">\\r\\n            -->\\r\\n            <span class=\"view_box_block\">\\r\\n            \\r\\n              <span class=\"img_hidden_m\">\\r\\n                <span class=\"pop_quick_menu\">                \\r\\n                    <a href=\"/store/books/look.php?p_code=B8955111301\"><img src=\"https://www.hanbit.co.kr/images/common/icon_view_detail.png\" alt=\"\\xec\\x83\\x81\\xec\\x84\\xb8\\xeb\\xb3\\xb4\\xea\\xb8\\xb0\" /></a>\\r\\n                                          <a href=\"javascript:;\" onClick=\"addCart(\\'B8955111301\\',\\'\\',\\'1\\',\\'\\');\">\\r\\n                        <img src=\"https://www.hanbit.co.kr/images/common/icon_add_cart.png\" alt=\"\\xec\\x9e\\xa5\\xeb\\xb0\\x94\\xea\\xb5\\xac\\xeb\\x8b\\x88 \\xeb\\x8b\\xb4\\xea\\xb8\\xb0\" />\\r\\n                      </a>\\r\\n                                        \\r\\n                </span>\\r\\n                <span class=\"price\">30,600<span>\\xec\\x9b\\x90</span></span>\\r\\n                <span class=\"pop_quick_bg\" onClick=\"location=\\'/store/books/look.php?p_code=B8955111301\\'\"></span>\\r\\n              </span>\\r\\n              <!-- \\xec\\x98\\x88\\xec\\x95\\xbd\\xeb\\x8f\\x84\\xec\\x84\\x9c\\xec\\x9d\\xb8 \\xea\\xb2\\xbd\\xec\\x9a\\xb0 -->\\r\\n                            <!-- ebook\\xec\\x9d\\xb4 \\xeb\\x8f\\x84\\xec\\x84\\x9c\\xec\\x9d\\xb8 \\xea\\xb2\\xbd\\xec\\x9a\\xb0 -->\\r\\n\\r\\n                          <img src=\"/data/books/B8955111301_m.jpg\" alt=\"\" class=\"thumb\" />\\r\\n            \\r\\n            </span>\\r\\n            <div class=\"info\">\\r\\n              <p class=\"book_tit\"><a href=\"/store/books/look.php?p_code=B8955111301\">\\xec\\x8a\\xa4\\xed\\x8c\\x8c\\xed\\x81\\xac\\xeb\\xa5\\xbc \\xec\\x9d\\xb4\\xec\\x9a\\xa9\\xed\\x95\\x9c \\xec\\x9e\\x90\\xec\\x97\\xb0\\xec\\x96\\xb4 \\xec\\xb2\\x98\\xeb\\xa6\\xac</a></p>\\r\\n              <p class=\"book_writer\">\\xec\\x95\\xa8\\xeb\\xa6\\xad\\xec\\x8a\\xa4 \\xed\\x86\\xa0\\xeb\\xa8\\xb8\\xec\\x8a\\xa4 </p>\\r\\n            </div>            \\r\\n          </div>\\r\\n        </li>        \\r\\n            \\r\\n        <li class=\"sub_book_list\">\\r\\n          <div class=\"view_box\">\\r\\n            <!--\\r\\n            <span class=\"view_box_block\" onclick=\"location.href=\\'/store/books/look.php?p_code=B9824309282\\';\">\\r\\n            -->\\r\\n            <span class=\"view_box_block\">\\r\\n            \\r\\n              <span class=\"img_hidden_l\">\\r\\n                <span class=\"pop_quick_menu\">                \\r\\n                    <a href=\"/store/books/look.php?p_code=B9824309282\"><img src=\"https://www.hanbit.co.kr/images/common/icon_view_detail.png\" alt=\"\\xec\\x83\\x81\\xec\\x84\\xb8\\xeb\\xb3\\xb4\\xea\\xb8\\xb0\" /></a>\\r\\n                                          <a href=\"javascript:;\" onClick=\"addCart(\\'B9824309282\\',\\'\\',\\'1\\',\\'\\');\">\\r\\n                        <img src=\"https://www.hanbit.co.kr/images/common/icon_add_cart.png\" alt=\"\\xec\\x9e\\xa5\\xeb\\xb0\\x94\\xea\\xb5\\xac\\xeb\\x8b\\x88 \\xeb\\x8b\\xb4\\xea\\xb8\\xb0\" />\\r\\n                      </a>\\r\\n                                        \\r\\n                </span>\\r\\n                <span class=\"price\">8,910<span>\\xec\\x9b\\x90</span></span>\\r\\n                <span class=\"pop_quick_bg\" onClick=\"location=\\'/store/books/look.php?p_code=B9824309282\\'\"></span>\\r\\n              </span>\\r\\n              <!-- \\xec\\x98\\x88\\xec\\x95\\xbd\\xeb\\x8f\\x84\\xec\\x84\\x9c\\xec\\x9d\\xb8 \\xea\\xb2\\xbd\\xec\\x9a\\xb0 -->\\r\\n                            <!-- ebook\\xec\\x9d\\xb4 \\xeb\\x8f\\x84\\xec\\x84\\x9c\\xec\\x9d\\xb8 \\xea\\xb2\\xbd\\xec\\x9a\\xb0 -->\\r\\n\\r\\n                          <img src=\"/data/books/B9824309282_m.jpg\" alt=\"\" class=\"thumb\" />\\r\\n            \\r\\n            </span>\\r\\n            <div class=\"info\">\\r\\n              <p class=\"book_tit\"><a href=\"/store/books/look.php?p_code=B9824309282\">\\xec\\x96\\xb4\\xeb\\xa5\\xb8\\xec\\x9d\\x84 \\xec\\x9c\\x84\\xed\\x95\\x9c \\xeb\\x91\\x90\\xeb\\x87\\x8c \\xeb\\x86\\x80\\xec\\x9d\\xb4 \\xec\\xb1\\x85</a></p>\\r\\n              <p class=\"book_writer\">\\xea\\xb0\\x9c\\xeb\\x9f\\xac\\xec\\x8a\\xa4 \\xeb\\xac\\xb4\\xec\\x96\\xb4 \\xeb\\xb0\\x95\\xec\\x82\\xac </p>\\r\\n            </div>            \\r\\n          </div>\\r\\n        </li>        \\r\\n            \\r\\n        <li class=\"sub_book_list\">\\r\\n          <div class=\"view_box\">\\r\\n            <!--\\r\\n            <span class=\"view_box_block\" onclick=\"location.href=\\'/store/books/look.php?p_code=B6758255857\\';\">\\r\\n            -->\\r\\n            <span class=\"view_box_block\">\\r\\n            \\r\\n              <span class=\"img_hidden_m\">\\r\\n                <span class=\"pop_quick_menu\">                \\r\\n                    <a href=\"/store/books/look.php?p_code=B6758255857\"><img src=\"https://www.hanbit.co.kr/images/common/icon_view_detail.png\" alt=\"\\xec\\x83\\x81\\xec\\x84\\xb8\\xeb\\xb3\\xb4\\xea\\xb8\\xb0\" /></a>\\r\\n                                          <a href=\"javascript:;\" onClick=\"addCart(\\'B6758255857\\',\\'\\',\\'1\\',\\'\\');\">\\r\\n                        <img src=\"https://www.hanbit.co.kr/images/common/icon_add_cart.png\" alt=\"\\xec\\x9e\\xa5\\xeb\\xb0\\x94\\xea\\xb5\\xac\\xeb\\x8b\\x88 \\xeb\\x8b\\xb4\\xea\\xb8\\xb0\" />\\r\\n                      </a>\\r\\n                                        \\r\\n                </span>\\r\\n                <span class=\"price\">32,400<span>\\xec\\x9b\\x90</span></span>\\r\\n                <span class=\"pop_quick_bg\" onClick=\"location=\\'/store/books/look.php?p_code=B6758255857\\'\"></span>\\r\\n              </span>\\r\\n              <!-- \\xec\\x98\\x88\\xec\\x95\\xbd\\xeb\\x8f\\x84\\xec\\x84\\x9c\\xec\\x9d\\xb8 \\xea\\xb2\\xbd\\xec\\x9a\\xb0 -->\\r\\n                            <!-- ebook\\xec\\x9d\\xb4 \\xeb\\x8f\\x84\\xec\\x84\\x9c\\xec\\x9d\\xb8 \\xea\\xb2\\xbd\\xec\\x9a\\xb0 -->\\r\\n\\r\\n                          <img src=\"/data/books/B6758255857_m.jpg\" alt=\"\" class=\"thumb\" />\\r\\n            \\r\\n            </span>\\r\\n            <div class=\"info\">\\r\\n              <p class=\"book_tit\"><a href=\"/store/books/look.php?p_code=B6758255857\">\\xed\\x81\\xb4\\xeb\\x9d\\xbc\\xec\\x9a\\xb0\\xeb\\x93\\x9c \\xeb\\x84\\xa4\\xec\\x9d\\xb4\\xed\\x8b\\xb0\\xeb\\xb8\\x8c\\xeb\\xa5\\xbc \\xec\\x9c\\x84\\xed\\x95\\x9c \\xeb\\x8d\\xb0\\xec\\x9d\\xb4\\xed\\x84\\xb0 \\xec\\x84\\xbc\\xed\\x84\\xb0 \\xeb\\x84\\xa4\\xed\\x8a\\xb8\\xec\\x9b\\x8c\\xed\\x81\\xac \\xea\\xb5\\xac\\xec\\xb6\\x95</a></p>\\r\\n              <p class=\"book_writer\">\\xeb\\x94\\x94\\xeb\\x84\\xa4\\xec\\x8b\\x9c G. \\xeb\\x8d\\x94\\xed\\x8a\\xb8 </p>\\r\\n            </div>            \\r\\n          </div>\\r\\n        </li>        \\r\\n            \\r\\n        <li class=\"sub_book_list\">\\r\\n          <div class=\"view_box\">\\r\\n            <!--\\r\\n            <span class=\"view_box_block\" onclick=\"location.href=\\'/store/books/look.php?p_code=B9737048306\\';\">\\r\\n            -->\\r\\n            <span class=\"view_box_block\">\\r\\n            \\r\\n              <span class=\"img_hidden_b\">\\r\\n                <span class=\"pop_quick_menu\">                \\r\\n                    <a href=\"/store/books/look.php?p_code=B9737048306\"><img src=\"https://www.hanbit.co.kr/images/common/icon_view_detail.png\" alt=\"\\xec\\x83\\x81\\xec\\x84\\xb8\\xeb\\xb3\\xb4\\xea\\xb8\\xb0\" /></a>\\r\\n                                        \\r\\n                </span>\\r\\n                <span class=\"price\">16,020<span>\\xec\\x9b\\x90</span></span>\\r\\n                <span class=\"pop_quick_bg\" onClick=\"location=\\'/store/books/look.php?p_code=B9737048306\\'\"></span>\\r\\n              </span>\\r\\n              <!-- \\xec\\x98\\x88\\xec\\x95\\xbd\\xeb\\x8f\\x84\\xec\\x84\\x9c\\xec\\x9d\\xb8 \\xea\\xb2\\xbd\\xec\\x9a\\xb0 -->\\r\\n                            <!-- ebook\\xec\\x9d\\xb4 \\xeb\\x8f\\x84\\xec\\x84\\x9c\\xec\\x9d\\xb8 \\xea\\xb2\\xbd\\xec\\x9a\\xb0 -->\\r\\n\\r\\n                          <img src=\"/data/books/B9737048306_m.jpg\" alt=\"\" class=\"thumb\" />\\r\\n            \\r\\n            </span>\\r\\n            <div class=\"info\">\\r\\n              <p class=\"book_tit\"><a href=\"/store/books/look.php?p_code=B9737048306\">\\xea\\xb0\\x90\\xec\\x9c\\xbc\\xeb\\xa1\\x9c\\xeb\\xa7\\x8c \\xec\\x9d\\xbc\\xed\\x95\\x98\\xeb\\x8d\\x98 \\xea\\xb9\\x80 \\xed\\x8c\\x80\\xec\\x9e\\xa5\\xec\\x9d\\x80 \\xec\\x96\\xb4\\xeb\\x96\\xbb\\xea\\xb2\\x8c \\xeb\\x8d\\xb0\\xec\\x9d\\xb4\\xed\\x84\\xb0 \\xec\\xa2\\x80 \\xec\\x95\\x84\\xeb\\x8a\\x94 \\xed\\x8c\\x80\\xec\\x9e\\xa5\\xec\\x9d\\xb4 \\xeb\\x90\\x98\\xec\\x97\\x88\\xeb\\x82\\x98</a></p>\\r\\n              <p class=\"book_writer\">\\xed\\x99\\xa9\\xeb\\xb3\\xb4\\xed\\x98\\x84\\xec\\x9a\\xb0 , \\xea\\xb9\\x80\\xec\\xb2\\xa0\\xec\\x88\\x98 </p>\\r\\n            </div>            \\r\\n          </div>\\r\\n        </li>        \\r\\n            \\r\\n        <li class=\"sub_book_list\">\\r\\n          <div class=\"view_box\">\\r\\n            <!--\\r\\n            <span class=\"view_box_block\" onclick=\"location.href=\\'/store/books/look.php?p_code=B9009516784\\';\">\\r\\n            -->\\r\\n            <span class=\"view_box_block\">\\r\\n            \\r\\n              <span class=\"img_hidden_a\">\\r\\n                <span class=\"pop_quick_menu\">                \\r\\n                    <a href=\"/store/books/look.php?p_code=B9009516784\"><img src=\"https://www.hanbit.co.kr/images/common/icon_view_detail.png\" alt=\"\\xec\\x83\\x81\\xec\\x84\\xb8\\xeb\\xb3\\xb4\\xea\\xb8\\xb0\" /></a>\\r\\n                                        \\r\\n                </span>\\r\\n                <span class=\"price\">22,000<span>\\xec\\x9b\\x90</span></span>\\r\\n                <span class=\"pop_quick_bg\" onClick=\"location=\\'/store/books/look.php?p_code=B9009516784\\'\"></span>\\r\\n              </span>\\r\\n              <!-- \\xec\\x98\\x88\\xec\\x95\\xbd\\xeb\\x8f\\x84\\xec\\x84\\x9c\\xec\\x9d\\xb8 \\xea\\xb2\\xbd\\xec\\x9a\\xb0 -->\\r\\n                            <!-- ebook\\xec\\x9d\\xb4 \\xeb\\x8f\\x84\\xec\\x84\\x9c\\xec\\x9d\\xb8 \\xea\\xb2\\xbd\\xec\\x9a\\xb0 -->\\r\\n\\r\\n                          <img src=\"/data/books/B9009516784_m.jpg\" alt=\"\" class=\"thumb\" />\\r\\n            \\r\\n            </span>\\r\\n            <div class=\"info\">\\r\\n              <p class=\"book_tit\"><a href=\"/store/books/look.php?p_code=B9009516784\">\\xeb\\xaf\\xb8\\xeb\\x9e\\x98\\xec\\xa1\\xb0\\xec\\xa7\\x81\\xec\\x9d\\x84 \\xec\\x9c\\x84\\xed\\x95\\x9c \\xec\\xa1\\xb0\\xec\\xa7\\x81\\xec\\x84\\xa4\\xea\\xb3\\x84\\xec\\x9d\\x98 \\xec\\x9d\\xb4\\xed\\x95\\xb4&#40;4\\xed\\x8c\\x90&#41;</a></p>\\r\\n              <p class=\"book_writer\">\\xed\\x98\\x84\\xec\\x84\\xa0\\xed\\x95\\xb4 , \\xec\\xb5\\x9c\\xec\\x84\\xb8\\xea\\xb2\\xbd , \\xec\\x84\\x9c\\xeb\\xac\\xb8\\xea\\xb5\\x90 </p>\\r\\n            </div>            \\r\\n          </div>\\r\\n        </li>        \\r\\n            \\r\\n        <li class=\"sub_book_list\">\\r\\n          <div class=\"view_box\">\\r\\n            <!--\\r\\n            <span class=\"view_box_block\" onclick=\"location.href=\\'/store/books/look.php?p_code=B7533828722\\';\">\\r\\n            -->\\r\\n            <span class=\"view_box_block\">\\r\\n            \\r\\n              <span class=\"img_hidden_a\">\\r\\n                <span class=\"pop_quick_menu\">                \\r\\n                    <a href=\"/store/books/look.php?p_code=B7533828722\"><img src=\"https://www.hanbit.co.kr/images/common/icon_view_detail.png\" alt=\"\\xec\\x83\\x81\\xec\\x84\\xb8\\xeb\\xb3\\xb4\\xea\\xb8\\xb0\" /></a>\\r\\n                                        \\r\\n                </span>\\r\\n                <span class=\"price\">30,000<span>\\xec\\x9b\\x90</span></span>\\r\\n                <span class=\"pop_quick_bg\" onClick=\"location=\\'/store/books/look.php?p_code=B7533828722\\'\"></span>\\r\\n              </span>\\r\\n              <!-- \\xec\\x98\\x88\\xec\\x95\\xbd\\xeb\\x8f\\x84\\xec\\x84\\x9c\\xec\\x9d\\xb8 \\xea\\xb2\\xbd\\xec\\x9a\\xb0 -->\\r\\n                            <!-- ebook\\xec\\x9d\\xb4 \\xeb\\x8f\\x84\\xec\\x84\\x9c\\xec\\x9d\\xb8 \\xea\\xb2\\xbd\\xec\\x9a\\xb0 -->\\r\\n\\r\\n                          <img src=\"/data/books/B7533828722_m.jpg\" alt=\"\" class=\"thumb\" />\\r\\n            \\r\\n            </span>\\r\\n            <div class=\"info\">\\r\\n              <p class=\"book_tit\"><a href=\"/store/books/look.php?p_code=B7533828722\">\\xec\\x89\\xbd\\xea\\xb2\\x8c \\xeb\\xb0\\xb0\\xec\\x9a\\xb0\\xea\\xb3\\xa0 \\xec\\x9d\\xb5\\xed\\x9e\\x88\\xeb\\x8a\\x94 \\xed\\x9a\\x8c\\xea\\xb3\\x84\\xec\\x9b\\x90\\xeb\\xa6\\xac&#40;4\\xed\\x8c\\x90&#41;</a></p>\\r\\n              <p class=\"book_writer\">\\xec\\xa0\\x95\\xec\\x9a\\xa9\\xea\\xb8\\xb0 , \\xea\\xb9\\x80\\xec\\x84\\xa0\\xeb\\xaf\\xb8 , \\xec\\x9e\\x84\\xec\\x98\\x81\\xec\\xa0\\x9c , \\xec\\x8b\\xa0\\xec\\x98\\x81\\xec\\xa7\\x81 , \\xec\\x9c\\xa0\\xec\\xa7\\x80\\xec\\x84\\xa0 </p>\\r\\n            </div>            \\r\\n          </div>\\r\\n        </li>        \\r\\n            \\r\\n        <li class=\"sub_book_list\">\\r\\n          <div class=\"view_box\">\\r\\n            <!--\\r\\n            <span class=\"view_box_block\" onclick=\"location.href=\\'/store/books/look.php?p_code=B1833400260\\';\">\\r\\n            -->\\r\\n            <span class=\"view_box_block\">\\r\\n            \\r\\n              <span class=\"img_hidden_a\">\\r\\n                <span class=\"pop_quick_menu\">                \\r\\n                    <a href=\"/store/books/look.php?p_code=B1833400260\"><img src=\"https://www.hanbit.co.kr/images/common/icon_view_detail.png\" alt=\"\\xec\\x83\\x81\\xec\\x84\\xb8\\xeb\\xb3\\xb4\\xea\\xb8\\xb0\" /></a>\\r\\n                                        \\r\\n                </span>\\r\\n                <span class=\"price\">7,000<span>\\xec\\x9b\\x90</span></span>\\r\\n                <span class=\"pop_quick_bg\" onClick=\"location=\\'/store/books/look.php?p_code=B1833400260\\'\"></span>\\r\\n              </span>\\r\\n              <!-- \\xec\\x98\\x88\\xec\\x95\\xbd\\xeb\\x8f\\x84\\xec\\x84\\x9c\\xec\\x9d\\xb8 \\xea\\xb2\\xbd\\xec\\x9a\\xb0 -->\\r\\n                            <!-- ebook\\xec\\x9d\\xb4 \\xeb\\x8f\\x84\\xec\\x84\\x9c\\xec\\x9d\\xb8 \\xea\\xb2\\xbd\\xec\\x9a\\xb0 -->\\r\\n\\r\\n                          <img src=\"/data/books/B1833400260_m.jpg\" alt=\"\" class=\"thumb\" />\\r\\n            \\r\\n            </span>\\r\\n            <div class=\"info\">\\r\\n              <p class=\"book_tit\"><a href=\"/store/books/look.php?p_code=B1833400260\">\\xec\\x89\\xbd\\xea\\xb2\\x8c \\xeb\\xb0\\xb0\\xec\\x9a\\xb0\\xea\\xb3\\xa0 \\xec\\x9d\\xb5\\xed\\x9e\\x88\\xeb\\x8a\\x94 \\xed\\x9a\\x8c\\xea\\xb3\\x84\\xec\\x9b\\x90\\xeb\\xa6\\xac[\\xea\\xb0\\x9d\\xea\\xb4\\x80\\xec\\x8b\\x9d/\\xed\\x95\\x99\\xec\\x8a\\xb5\\xeb\\xac\\xb8\\xec\\xa0\\x9c \\xed\\x95\\xb4\\xeb\\x8b\\xb5]&#40;4\\xed\\x8c\\x90&#41;</a></p>\\r\\n              <p class=\"book_writer\">\\xec\\xa0\\x95\\xec\\x9a\\xa9\\xea\\xb8\\xb0 , \\xea\\xb9\\x80\\xec\\x84\\xa0\\xeb\\xaf\\xb8 , \\xec\\x9e\\x84\\xec\\x98\\x81\\xec\\xa0\\x9c , \\xec\\x8b\\xa0\\xec\\x98\\x81\\xec\\xa7\\x81 , \\xec\\x9c\\xa0\\xec\\xa7\\x80\\xec\\x84\\xa0 </p>\\r\\n            </div>            \\r\\n          </div>\\r\\n        </li>        \\r\\n            \\r\\n        <li class=\"sub_book_list\">\\r\\n          <div class=\"view_box\">\\r\\n            <!--\\r\\n            <span class=\"view_box_block\" onclick=\"location.href=\\'/store/books/look.php?p_code=B7970422863\\';\">\\r\\n            -->\\r\\n            <span class=\"view_box_block\">\\r\\n            \\r\\n              <span class=\"img_hidden_m\">\\r\\n                <span class=\"pop_quick_menu\">                \\r\\n                    <a href=\"/store/books/look.php?p_code=B7970422863\"><img src=\"https://www.hanbit.co.kr/images/common/icon_view_detail.png\" alt=\"\\xec\\x83\\x81\\xec\\x84\\xb8\\xeb\\xb3\\xb4\\xea\\xb8\\xb0\" /></a>\\r\\n                                          <a href=\"javascript:;\" onClick=\"addCart(\\'B7970422863\\',\\'\\',\\'1\\',\\'\\');\">\\r\\n                        <img src=\"https://www.hanbit.co.kr/images/common/icon_add_cart.png\" alt=\"\\xec\\x9e\\xa5\\xeb\\xb0\\x94\\xea\\xb5\\xac\\xeb\\x8b\\x88 \\xeb\\x8b\\xb4\\xea\\xb8\\xb0\" />\\r\\n                      </a>\\r\\n                                        \\r\\n                </span>\\r\\n                <span class=\"price\">39,600<span>\\xec\\x9b\\x90</span></span>\\r\\n                <span class=\"pop_quick_bg\" onClick=\"location=\\'/store/books/look.php?p_code=B7970422863\\'\"></span>\\r\\n              </span>\\r\\n              <!-- \\xec\\x98\\x88\\xec\\x95\\xbd\\xeb\\x8f\\x84\\xec\\x84\\x9c\\xec\\x9d\\xb8 \\xea\\xb2\\xbd\\xec\\x9a\\xb0 -->\\r\\n                            <!-- ebook\\xec\\x9d\\xb4 \\xeb\\x8f\\x84\\xec\\x84\\x9c\\xec\\x9d\\xb8 \\xea\\xb2\\xbd\\xec\\x9a\\xb0 -->\\r\\n\\r\\n                          <img src=\"/data/books/B7970422863_m.jpg\" alt=\"\" class=\"thumb\" />\\r\\n            \\r\\n            </span>\\r\\n            <div class=\"info\">\\r\\n              <p class=\"book_tit\"><a href=\"/store/books/look.php?p_code=B7970422863\">fastai\\xec\\x99\\x80 \\xed\\x8c\\x8c\\xec\\x9d\\xb4\\xed\\x86\\xa0\\xec\\xb9\\x98\\xea\\xb0\\x80 \\xeb\\xa7\\x8c\\xeb\\x82\\x98 \\xea\\xbd\\x83\\xed\\x94\\xbc\\xec\\x9a\\xb4 \\xeb\\x94\\xa5\\xeb\\x9f\\xac\\xeb\\x8b\\x9d</a></p>\\r\\n              <p class=\"book_writer\">\\xec\\xa0\\x9c\\xeb\\x9f\\xac\\xeb\\xaf\\xb8 \\xed\\x95\\x98\\xec\\x9b\\x8c\\xeb\\x93\\x9c , \\xec\\x8b\\xa4\\xeb\\xb1\\x85 \\xea\\xb1\\xb0\\xea\\xb1\\xb0 </p>\\r\\n            </div>            \\r\\n          </div>\\r\\n        </li>        \\r\\n            \\r\\n        <li class=\"sub_book_list\">\\r\\n          <div class=\"view_box\">\\r\\n            <!--\\r\\n            <span class=\"view_box_block\" onclick=\"location.href=\\'/store/books/look.php?p_code=B6993093151\\';\">\\r\\n            -->\\r\\n            <span class=\"view_box_block\">\\r\\n            \\r\\n              <span class=\"img_hidden_a\">\\r\\n                <span class=\"pop_quick_menu\">                \\r\\n                    <a href=\"/store/books/look.php?p_code=B6993093151\"><img src=\"https://www.hanbit.co.kr/images/common/icon_view_detail.png\" alt=\"\\xec\\x83\\x81\\xec\\x84\\xb8\\xeb\\xb3\\xb4\\xea\\xb8\\xb0\" /></a>\\r\\n                                        \\r\\n                </span>\\r\\n                <span class=\"price\">27,000<span>\\xec\\x9b\\x90</span></span>\\r\\n                <span class=\"pop_quick_bg\" onClick=\"location=\\'/store/books/look.php?p_code=B6993093151\\'\"></span>\\r\\n              </span>\\r\\n              <!-- \\xec\\x98\\x88\\xec\\x95\\xbd\\xeb\\x8f\\x84\\xec\\x84\\x9c\\xec\\x9d\\xb8 \\xea\\xb2\\xbd\\xec\\x9a\\xb0 -->\\r\\n                            <!-- ebook\\xec\\x9d\\xb4 \\xeb\\x8f\\x84\\xec\\x84\\x9c\\xec\\x9d\\xb8 \\xea\\xb2\\xbd\\xec\\x9a\\xb0 -->\\r\\n\\r\\n                          <img src=\"/data/books/B6993093151_m.jpg\" alt=\"\" class=\"thumb\" />\\r\\n            \\r\\n            </span>\\r\\n            <div class=\"info\">\\r\\n              <p class=\"book_tit\"><a href=\"/store/books/look.php?p_code=B6993093151\">IT CookBook, \\xec\\xa7\\xa7\\xea\\xb3\\xa0 \\xea\\xb5\\xb5\\xea\\xb2\\x8c \\xeb\\xb0\\xb0\\xec\\x9a\\xb0\\xeb\\x8a\\x94 JSP \\xec\\x9b\\xb9 \\xed\\x94\\x84\\xeb\\xa1\\x9c\\xea\\xb7\\xb8\\xeb\\x9e\\x98\\xeb\\xb0\\x8d\\xea\\xb3\\xbc \\xec\\x8a\\xa4\\xed\\x94\\x84\\xeb\\xa7\\x81 \\xed\\x94\\x84\\xeb\\xa0\\x88\\xec\\x9e\\x84\\xec\\x9b\\x8c\\xed\\x81\\xac</a></p>\\r\\n              <p class=\"book_writer\">\\xed\\x99\\xa9\\xed\\x9d\\xac\\xec\\xa0\\x95 </p>\\r\\n            </div>            \\r\\n          </div>\\r\\n        </li>        \\r\\n              </ul>\\r\\n    </div>\\r\\n    <!-- //\\xec\\xb1\\x85 \\xeb\\xa6\\xac\\xec\\x8a\\xa4\\xed\\x8a\\xb8 -->\\r\\n    \\r\\n    <!-- \\xed\\x8e\\x98\\xec\\x9d\\xb4\\xec\\xa7\\x95 -->\\r\\n    <div class=\"paginate\">\\r\\n      <strong>1</strong>\\n<a href=\"/store/books/new_book_list.html?page=2&brand=&cate1=&cate2=&searchKey=&keyWord=\">2</a>\\n<a href=\"/store/books/new_book_list.html?page=3&brand=&cate1=&cate2=&searchKey=&keyWord=\">3</a>\\n<a href=\"/store/books/new_book_list.html?page=4&brand=&cate1=&cate2=&searchKey=&keyWord=\">4</a>\\n<a href=\"/store/books/new_book_list.html?page=5&brand=&cate1=&cate2=&searchKey=&keyWord=\">5</a>\\n<a href=\"/store/books/new_book_list.html?page=6&brand=&cate1=&cate2=&searchKey=&keyWord=\">6</a>\\n<a href=\"/store/books/new_book_list.html?page=7&brand=&cate1=&cate2=&searchKey=&keyWord=\">7</a>\\n<a href=\"/store/books/new_book_list.html?page=8&brand=&cate1=&cate2=&searchKey=&keyWord=\">8</a>\\n<a href=\"/store/books/new_book_list.html?page=9&brand=&cate1=&cate2=&searchKey=&keyWord=\">9</a>\\n<a href=\"/store/books/new_book_list.html?page=10&brand=&cate1=&cate2=&searchKey=&keyWord=\">10</a>\\n<a href=\"/store/books/new_book_list.html?page=11&brand=&cate1=&cate2=&searchKey=&keyWord=\" class=\"next\"><span>&gt;</span></a>\\n    </div>\\r\\n    <!-- //\\xed\\x8e\\x98\\xec\\x9d\\xb4\\xec\\xa7\\x95 -->\\r\\n    \\r\\n  </div>\\r\\n  <!-- //\\xec\\x83\\x88\\xeb\\xa1\\x9c\\xeb\\x82\\x98\\xec\\x98\\xa8 \\xec\\xb1\\x85 wrap -->\\r\\n  \\r\\n  <!-- \\xec\\xb9\\xb4\\xed\\x8a\\xb8 \\xeb\\x8b\\xb4\\xea\\xb8\\xb0 \\xeb\\xa0\\x88\\xec\\x9d\\xb4\\xec\\x96\\xb4 \\xed\\x8c\\x9d\\xec\\x97\\x85 -->\\r\\n  \\t<div class=\"add_cart_layer\">\\r\\n\\t\\t<div class=\"bg\"></div>\\r\\n\\t\\t<div class=\"add_cart_pop-layer\" id=\"layer_add_cart\">\\r\\n\\t\\t\\t<div class=\"pop-container\">\\r\\n\\t\\t\\t\\t<div class=\"pop-conts\">\\r\\n\\t\\t\\t\\t\\t\\r\\n\\t\\t\\t\\t\\t<!--content //-->\\r\\n\\t\\t\\t\\t\\t<div class=\"close\"><a class=\"cbtn\" href=\"javascript:;\" onClick=\"\"><img src=\"https://www.hanbit.co.kr/images/common/icon_close.png\" width=\"38\" height=\"38\" alt=\"\\xeb\\x8b\\xab\\xea\\xb8\\xb0\" /></a></div>\\r\\n\\t\\t\\t\\t\\t<p class=\"ctxt\"><span id=\\'cartmsg\\'>\\xed\\x95\\xb4\\xeb\\x8b\\xb9 \\xec\\x83\\x81\\xed\\x92\\x88\\xec\\x9d\\x84 \\xec\\x9e\\xa5\\xeb\\xb0\\x94\\xea\\xb5\\xac\\xeb\\x8b\\x88\\xec\\x97\\x90 \\xeb\\x8b\\xb4\\xec\\x95\\x98\\xec\\x8a\\xb5\\xeb\\x8b\\x88\\xeb\\x8b\\xa4.</span><span id=\\'cartmsg2\\'>\\xec\\x9d\\xb4\\xeb\\xaf\\xb8 \\xec\\x9e\\xa5\\xeb\\xb0\\x94\\xea\\xb5\\xac\\xeb\\x8b\\x88\\xec\\x97\\x90 \\xec\\xb6\\x94\\xea\\xb0\\x80\\xeb\\x90\\x9c \\xec\\x83\\x81\\xed\\x92\\x88\\xec\\x9e\\x85\\xeb\\x8b\\x88\\xeb\\x8b\\xa4.</span><br />\\xec\\x9e\\xa5\\xeb\\xb0\\x94\\xea\\xb5\\xac\\xeb\\x8b\\x88\\xeb\\xa1\\x9c \\xec\\x9d\\xb4\\xeb\\x8f\\x99\\xed\\x95\\x98\\xec\\x8b\\x9c\\xea\\xb2\\xa0\\xec\\x8a\\xb5\\xeb\\x8b\\x88\\xea\\xb9\\x8c?</p>\\r\\n\\t\\t\\t\\t\\t<div class=\"btn_layer\">\\r\\n\\t\\t\\t\\t\\t\\t<a href=\"/myhanbit/cart.html\">\\xec\\x9e\\xa5\\xeb\\xb0\\x94\\xea\\xb5\\xac\\xeb\\x8b\\x88<br />\\xec\\x9d\\xb4\\xeb\\x8f\\x99</a>\\r\\n\\t\\t\\t\\t\\t\\t<!--<a href=\"javascript:;\" onClick=\"$(\\'.add_cart_layer\\').hide();\">\\xec\\x87\\xbc\\xed\\x95\\x91<br />\\xea\\xb3\\x84\\xec\\x86\\x8d</a>-->\\r\\n\\t\\t\\t\\t\\t\\t<a class=\"cbtn\" href=\"javascript:;\" onClick=\"\">\\xec\\x87\\xbc\\xed\\x95\\x91<br />\\xea\\xb3\\x84\\xec\\x86\\x8d</a>\\r\\n\\t\\t\\t\\t\\t</div>\\r\\n\\t\\t\\t\\t\\t<!--// content-->\\r\\n\\t\\t\\t\\t\\t\\r\\n\\t\\t\\t\\t</div>\\r\\n\\t\\t\\t</div>\\r\\n\\t\\t</div>\\r\\n\\t</div>  <!-- //\\xec\\xb9\\xb4\\xed\\x8a\\xb8 \\xeb\\x8b\\xb4\\xea\\xb8\\xb0 \\xeb\\xa0\\x88\\xec\\x9d\\xb4\\xec\\x96\\xb4 \\xed\\x8c\\x9d\\xec\\x97\\x85 -->\\r\\n  \\r\\n</div>\\r\\n<!-- //Contents -->\\r\\n\\r\\n\\r\\n\\r\\n<!-- Footer -->\\r\\n<footer>\\r\\n  <!-- \\xea\\xb3\\xb5\\xec\\xa7\\x80\\xec\\x82\\xac\\xed\\x95\\xad -->\\r\\n  <div class=\"foot_notice\" style=\"height:6px;\"></div>  <!-- //\\xea\\xb3\\xb5\\xec\\xa7\\x80\\xec\\x82\\xac\\xed\\x95\\xad -->\\r\\n  \\r\\n  <div class=\"foot_contents\">\\r\\n    <!-- \\xed\\x95\\x98\\xeb\\x8b\\xa8 \\xeb\\xa9\\x94\\xeb\\x89\\xb4 -->\\r\\n    <div class=\"foot_menu\">\\r\\n      <!-- added by coffin -->\\r\\n            <ul>\\r\\n        <li><a href=\"https://www.hanbit.co.kr/publisher/index.html\" target=\"_blank\">\\xed\\x9a\\x8c\\xec\\x82\\xac\\xec\\x86\\x8c\\xea\\xb0\\x9c</a>(<a href=\"https://www.hanbit.co.kr/publisher/index.html\" target=\"_blank\">KOR</a> | <a href=\"https://www.hanbit.co.kr/publisher/index.html?lang=e\" target=\"_blank\">ENG</a>) &#149; <a href=\"https://www.hanbit.co.kr/publisher/contact.html?lang=k\" target=\"_blank\">\\xec\\x95\\xbd\\xeb\\x8f\\x84</a></li>\\r\\n        <li><a href=\"https://www.hanbit.co.kr/publisher/write.html\" target=\"_blank\">\\xea\\xb8\\xb0\\xed\\x9a\\x8d \\xeb\\xb0\\x8f \\xec\\x9b\\x90\\xea\\xb3\\xa0 \\xeb\\xaa\\xa8\\xec\\xa7\\x91</a></li>\\r\\n        <li><a href=\"https://www.hanbit.co.kr/publisher/career.html\" target=\"_blank\">\\xec\\xb1\\x84\\xec\\x9a\\xa9</a> &#149; \\xec\\x9e\\x85\\xec\\x82\\xac\\xec\\xa7\\x80\\xec\\x9b\\x90 <a href=\"mailto:jobs@hanbit.co.kr\">jobs@hanbit.co.kr</a></li>\\r\\n        <li><a href=\"https://www.hanbit.co.kr/publisher/foreignrights.html\" target=\"_blank\">FOREIGN RIGHTS</a></li>\\r\\n        <li><a href=\"https://www.hanbit.co.kr/member/use_agreement.html\">\\xec\\x9d\\xb4\\xec\\x9a\\xa9\\xec\\x95\\xbd\\xea\\xb4\\x80</a> &#149; <a href=\"https://www.hanbit.co.kr/member/privacy_policy.html\"><strong>\\xea\\xb0\\x9c\\xec\\x9d\\xb8\\xec\\xa0\\x95\\xeb\\xb3\\xb4\\xec\\xb7\\xa8\\xea\\xb8\\x89\\xeb\\xb0\\xa9\\xec\\xb9\\xa8</strong></a></li>\\r\\n        <li><a href=\"https://www.hanbit.co.kr/sitemap/sitemap.html\">\\xec\\x82\\xac\\xec\\x9d\\xb4\\xed\\x8a\\xb8\\xeb\\xa7\\xb5</a></li>\\r\\n      </ul>\\r\\n          </div>\\r\\n    <!-- //\\xed\\x95\\x98\\xeb\\x8b\\xa8 \\xeb\\xa9\\x94\\xeb\\x89\\xb4 -->\\r\\n\\r\\n    <!-- SNS -->\\r\\n    <div class=\"foot_sns\">\\r\\n            \\r\\n      <ul>\\r\\n        <li class=\"foot_facebook\"><a href=\"https://www.facebook.com/hanbitmedia\" target=\"_blank\"><span>\\xed\\x8e\\x98\\xec\\x9d\\xb4\\xec\\x8a\\xa4\\xeb\\xb6\\x81</span></a></li>\\r\\n        <!-- <li class=\"foot_googleplus\"><a href=\"https://plus.google.com/u/0/+HanbitCoKr/posts\" target=\"_blank\"><span>\\xea\\xb5\\xac\\xea\\xb8\\x80\\xed\\x94\\x8c\\xeb\\x9f\\xac\\xec\\x8a\\xa4</span></a></li> -->\\r\\n        <!-- <li class=\"foot_twitter\"><a href=\"https://twitter.com/hanbit\" target=\"_blank\"><span>\\xed\\x8a\\xb8\\xec\\x9c\\x84\\xed\\x84\\xb0</span></a></li> -->\\r\\n        <li class=\"foot_youtube\"><a href=\"https://www.youtube.com/\\xed\\x95\\x9c\\xeb\\xb9\\x9bTV\" target=\"_blank\"><span>\\xec\\x9c\\xa0\\xed\\x8a\\x9c\\xeb\\xb8\\x8c</span></a></li>\\r\\n        <li class=\"foot_bolg\"><a href=\"http://blog.hanbit.co.kr/\" target=\"_blank\"><span>\\xeb\\xb8\\x94\\xeb\\xa1\\x9c\\xea\\xb7\\xb8</span></a></li>\\r\\n        <li class=\"foot_naverpost\"><a href=\"https://m.post.naver.com/hanbitstory\" target=\"_blank\"><span>\\xeb\\x84\\xa4\\xec\\x9d\\xb4\\xeb\\xb2\\x84\\xed\\x8f\\xac\\xec\\x8a\\xa4\\xed\\x8a\\xb8</span></a></li>\\r\\n      </ul>\\r\\n      \\r\\n      \\r\\n        <fieldset class=\"foot_srch\">\\r\\n          <legend>\\xed\\x95\\x98\\xeb\\x8b\\xa8 \\xea\\xb2\\x80\\xec\\x83\\x89\\xec\\x98\\x81\\xec\\x97\\xad</legend>\\r\\n          <input title=\"\\xea\\xb2\\x80\\xec\\x83\\x89\\xec\\x96\\xb4\" class=\"foot_srch_keyword\" accesskey=\"s\" type=\"text\" value=\"\"  id=\"foot_keyword_str\" style=\"font-size:16px;\">\\r\\n          <input type=\"button\" alt=\"\" class=\"foot_srch_btn\" onclick=\"foot_sch_smit();\" style=\"cursor: pointer;\">\\r\\n        </fieldset>\\r\\n\\r\\n      \\r\\n      <script>\\r\\n        // \\xea\\xb2\\x80\\xec\\x83\\x89 \\xeb\\xa6\\xac\\xec\\x8a\\xa4\\xed\\x8a\\xb8  \\r\\n        $(document).ready(function() {       \\r\\n          $(\\'#foot_keyword_str\\').keyup(function(e) {\\r\\n            if (e.keyCode == 13) \\r\\n              foot_sch_smit();\\r\\n          });        \\r\\n        });\\r\\n\\r\\n        function foot_sch_smit(){            \\r\\n          var foot_keyword_str = $(\"#foot_keyword_str\").val();      \\r\\n          var searchUrl = \"/search/search_list.html?keyword=\"+foot_keyword_str;\\r\\n\\r\\n          if(!foot_keyword_str){\\r\\n            alert(\"\\xea\\xb2\\x80\\xec\\x83\\x89\\xec\\x96\\xb4\\xeb\\xa5\\xbc \\xec\\x9e\\x85\\xeb\\xa0\\xa5\\xed\\x95\\xb4\\xec\\xa3\\xbc\\xec\\x84\\xb8\\xec\\x9a\\x94\");\\r\\n            $(\"#foot_keyword_str\").focus();\\r\\n          }else{\\r\\n            location.href = searchUrl;\\r\\n          }\\r\\n        }\\r\\n      </script>  \\r\\n      \\r\\n    </div>\\r\\n    <!-- //SNS -->\\r\\n    \\r\\n    <!-- \\xed\\x95\\x9c\\xeb\\xb9\\x9b \\xec\\xa0\\x95\\xeb\\xb3\\xb4 -->\\r\\n    <div class=\"foot_about\">\\r\\n      <div class=\"foot_about_area\">\\r\\n        \\r\\n\\r\\n        <p><strong>\\xed\\x95\\x9c\\xeb\\xb9\\x9b\\xeb\\xaf\\xb8\\xeb\\x94\\x94\\xec\\x96\\xb4\\xe3\\x88\\x9c &#149; \\xed\\x95\\x9c\\xeb\\xb9\\x9b\\xec\\x95\\x84\\xec\\xb9\\xb4\\xeb\\x8d\\xb0\\xeb\\xaf\\xb8\\xe3\\x88\\x9c &#149; \\xed\\x95\\x9c\\xeb\\xb9\\x9b\\xeb\\xb9\\x84\\xec\\xa6\\x88\\xe3\\x88\\x9c</strong></p>\\r\\n        <p>(03785) \\xec\\x84\\x9c\\xec\\x9a\\xb8 \\xec\\x84\\x9c\\xeb\\x8c\\x80\\xeb\\xac\\xb8\\xea\\xb5\\xac \\xec\\x97\\xb0\\xed\\x9d\\xac\\xeb\\xa1\\x9c2\\xea\\xb8\\xb8 62</p>\\r\\n        <p>EMAIL : support@hanbit.co.kr</p>\\r\\n        <p>\\xeb\\x8c\\x80\\xed\\x91\\x9c\\xec\\x9d\\xb4\\xec\\x82\\xac : \\xea\\xb9\\x80\\xed\\x83\\x9c\\xed\\x97\\x8c</p>\\r\\n        <p>\\xec\\x82\\xac\\xec\\x97\\x85\\xec\\x9e\\x90\\xeb\\x93\\xb1\\xeb\\xa1\\x9d\\xeb\\xb2\\x88\\xed\\x98\\xb8 : 220-81-05665 <a href=\"http://www.ftc.go.kr/bizCommPop.do?wrkr_no=2208105665\" target=\"_blank\">[\\xed\\x99\\x95\\xec\\x9d\\xb8]</a></p>\\r\\n        <p>\\xed\\x86\\xb5\\xec\\x8b\\xa0\\xed\\x8c\\x90\\xeb\\xa7\\xa4\\xec\\x97\\x85\\xec\\x8b\\xa0\\xea\\xb3\\xa0 : 2017-\\xec\\x84\\x9c\\xec\\x9a\\xb8\\xec\\x84\\x9c\\xeb\\x8c\\x80\\xeb\\xac\\xb8-0671\\xed\\x98\\xb8</p>\\r\\n        <p>\\xed\\x98\\xb8\\xec\\x8a\\xa4\\xed\\x8c\\x85\\xec\\xa0\\x9c\\xea\\xb3\\xb5\\xec\\x9e\\x90 : (\\xec\\xa3\\xbc)\\xeb\\x88\\x84\\xeb\\xa6\\xac\\xed\\x98\\xb8\\xec\\x8a\\xa4\\xed\\x8c\\x85</p>        \\r\\n\\r\\n      </div>\\r\\n    </div>\\r\\n    <!-- //\\xed\\x95\\x9c\\xeb\\xb9\\x9b \\xec\\xa0\\x95\\xeb\\xb3\\xb4 -->\\r\\n  </div>\\r\\n  \\r\\n  <div class=\"copyright\">&copy;1993-2021 Hanbit Publishing Network, Inc. All rights reserved.</div>\\r\\n</footer>\\r\\n<!-- //\\xed\\x91\\xb8\\xed\\x84\\xb0 -->\\r\\n<div class=\"foot_download_btn\"><a href=\"https://www.hanbit.co.kr/support/supplement_list.html\">\\xec\\x9e\\x90\\xeb\\xa3\\x8c\\xec\\x8b\\xa4</a></div>\\r\\n\\r\\n<!-- \\xea\\xb3\\xb5\\xed\\x86\\xb5 JS \\xed\\x98\\xb8\\xec\\xb6\\x9c -->\\r\\n<script type=\"text/javascript\" src=\"/js/common.js\"></script>\\r\\n<!-- //\\xea\\xb3\\xb5\\xed\\x86\\xb5 JS \\xed\\x98\\xb8\\xec\\xb6\\x9c -->\\r\\n\\r\\n</body>\\r\\n</html>\\r\\n'"
      ]
     },
     "execution_count": 21,
     "metadata": {},
     "output_type": "execute_result"
    }
   ],
   "source": [
    "response.content"
   ]
  },
  {
   "cell_type": "code",
   "execution_count": 22,
   "metadata": {},
   "outputs": [
    {
     "data": {
      "text/plain": [
       "<Element html at 0x7fe6a044f228>"
      ]
     },
     "execution_count": 22,
     "metadata": {},
     "output_type": "execute_result"
    }
   ],
   "source": [
    "root = lxml.html.fromstring(response.content)\n",
    "root"
   ]
  },
  {
   "cell_type": "code",
   "execution_count": 23,
   "metadata": {},
   "outputs": [
    {
     "name": "stdout",
     "output_type": "stream",
     "text": [
      "https://www.hanbit.co.kr/store/books/look.php?p_code=B4448108740\n",
      "https://www.hanbit.co.kr/store/books/look.php?p_code=B6434597961\n",
      "https://www.hanbit.co.kr/store/books/look.php?p_code=B9923613168\n",
      "https://www.hanbit.co.kr/store/books/look.php?p_code=B9234684497\n",
      "https://www.hanbit.co.kr/store/books/look.php?p_code=B9575488572\n",
      "https://www.hanbit.co.kr/store/books/look.php?p_code=B4633012179\n",
      "https://www.hanbit.co.kr/store/books/look.php?p_code=B9037188841\n",
      "https://www.hanbit.co.kr/store/books/look.php?p_code=B1265976064\n",
      "https://www.hanbit.co.kr/store/books/look.php?p_code=B6220676898\n",
      "https://www.hanbit.co.kr/store/books/look.php?p_code=B6156831644\n",
      "https://www.hanbit.co.kr/store/books/look.php?p_code=B9134095146\n",
      "https://www.hanbit.co.kr/store/books/look.php?p_code=B8955111301\n",
      "https://www.hanbit.co.kr/store/books/look.php?p_code=B9824309282\n",
      "https://www.hanbit.co.kr/store/books/look.php?p_code=B6758255857\n",
      "https://www.hanbit.co.kr/store/books/look.php?p_code=B9737048306\n",
      "https://www.hanbit.co.kr/store/books/look.php?p_code=B9009516784\n",
      "https://www.hanbit.co.kr/store/books/look.php?p_code=B7533828722\n",
      "https://www.hanbit.co.kr/store/books/look.php?p_code=B1833400260\n",
      "https://www.hanbit.co.kr/store/books/look.php?p_code=B7970422863\n",
      "https://www.hanbit.co.kr/store/books/look.php?p_code=B6993093151\n"
     ]
    }
   ],
   "source": [
    "# convert to absolute path\n",
    "root.make_links_absolute(response.url)\n",
    "\n",
    "# cssselect library is needed\n",
    "for a in root.cssselect('.view_box .book_tit a'):\n",
    "    url = a.get('href')\n",
    "    print(url)"
   ]
  },
  {
   "cell_type": "markdown",
   "metadata": {},
   "source": [
    "### 6. Session\n",
    "\n",
    "1. Session\n",
    "   - Describe and manages user information from log-in to log-out\n",
    "   - Maintained status\n",
    "   - Continuous connection with server\n",
    "   - Why using sessions in scraping?\n",
    "      - Continuous connecton with server\n",
    "      - Save resources of server\n",
    "   \n",
    "2. Refactoring\n",
    "   - Develop code to be optimal, with same oparation and function"
   ]
  },
  {
   "cell_type": "code",
   "execution_count": 24,
   "metadata": {},
   "outputs": [],
   "source": [
    "import requests\n",
    "import lxml.html\n",
    "import re\n",
    "import time\n",
    "import random"
   ]
  },
  {
   "cell_type": "markdown",
   "metadata": {},
   "source": [
    "Extend the above code: refactoring\n",
    "\n",
    "Process\n",
    "   - Create session object: requests.Session()\n",
    "   - Scraping: get()\n",
    "   - Extract data with lxml: lxml.html.fromstring()"
   ]
  },
  {
   "cell_type": "code",
   "execution_count": 25,
   "metadata": {},
   "outputs": [],
   "source": [
    "def scrape_list_page(response):\n",
    "    root = lxml.html.fromstring(response.content)\n",
    "    root.make_links_absolute(response.url)\n",
    "\n",
    "    for a in root.cssselect('.view_box .book_tit a'):\n",
    "        url = a.get('href')\n",
    "        yield url\n",
    "\n",
    "'''\n",
    "detailed information is processed by dict type\n",
    "key - url, title, price, content\n",
    "value - cssselect()\n",
    "'''\n",
    "def scrape_detail_page(response):\n",
    "    root = lxml.html.fromstring(response.content)\n",
    "\n",
    "    '''\n",
    "    1. remove meaningless character: if statement\n",
    "    2. process multiple spaces between characters: strip() and re.sub('\\s+', ' ', data)\n",
    "    '''\n",
    "    normalize_space = lambda string: re.sub(r'\\s+', ' ', string).strip()\n",
    "    \n",
    "    #cssselect() return type: list\n",
    "    #text_content() return type: str\n",
    "    bookInfo = {\n",
    "        'url': response.url,\n",
    "        'title': root.cssselect('h3')[0].text_content(),\n",
    "        'price': root.cssselect('.pbr del')[0].text_content(),\n",
    "        'content': [normalize_space(p.text_content()) for p in root.cssselect('#tabs_3 .hanbit_edit_view p') if normalize_space(p.text_content())]\n",
    "    }\n",
    "\n",
    "    return bookInfo"
   ]
  },
  {
   "cell_type": "code",
   "execution_count": null,
   "metadata": {},
   "outputs": [
    {
     "name": "stdout",
     "output_type": "stream",
     "text": [
      "{'url': 'https://www.hanbit.co.kr/store/books/look.php?p_code=B4448108740', 'title': 'BOOK', 'price': '25,000원', 'content': ['1부 머신러닝의 원리와 TensorFlow.js 사용법', 'CHAPTER 1 웹에서의 머신러닝', '_1.1 개발 환경', '_1.2 머신러닝을 웹에서 돌리는 이유', '_1.3 연산 그래프', '_1.3 연산 그래프 시각화하기', '_1.4 TensorFlow.js란?', '_1.5 TensorFlow.js 설치하기', '_1.6 저수준 API', '_1.7 Layers API', '_1.8 마치며', '_1.9 연습 문제', '_1.10 더 읽을거리', 'CHAPTER 2 사전 학습된 모델을 TensorFlow.js로 가져오기', '_2.1 개발 환경', '_2.2 포터블 모델 형식', '_2.3 텐서플로에서 모델 내보내기', '_2.4 tfjs-converter를 사용하여 모델 변환하기', '_2.5 TensorFlow.js에서 모델 불러오기', '_2.6 마치며', '_2.7 연습 문제', '_2.8 더 읽을거리', 'CHAPTER 3 TensorFlow.js 에코시스템', '_3.1 개발 환경', '_3.2 왜 고수준 라이브러리가 필요한가?', '_3.3 기존 모델 사용하기', '_3.4 다양한 종류의 스토리지에서 데이터 불러오기', '_3.5 ML_5.js를 이용한 자세 추정', '_3.6 Magenta.js로 고양이 그리기', '_3.7 machinelearn_.js를 사용한 XOR 분류', '_3.8 마치며', '_3.9 연습 문제', '_3.10 더 읽을거리', '2부 TensorFlow.js를 활용한 실제 애플리케이션 사례', 'CHAPTER 4 다항 회귀', '_4.1 개발 환경', '_4.2 다항 회귀란?', '_4.3 2차원 곡선 피팅', '_4.4 마치며', '_4.5 연습 문제', '_4.6 더 읽을거리', 'CHAPTER 5 로지스틱 회귀를 사용한 분류', '_5.1 개발 환경', '_5.2 이진 분류의 배경', '_5.3 로지스틱 회귀란?', '_5.4 2차원 군집 분류하기', '_5.5 마치며', '_5.6 연습 문제', '_5.7 더 읽을거리', 'CHAPTER 6 비지도학습', '_6.1 개발 환경', '_6.2 비지도학습이란?', '_6.3 k-평균 알고리즘 동작 원리', '_6.4 기댓값-최대화 알고리즘을 사용한 k-평균 알고리즘의 일반화', '_6.5 2차원 공간에서 두 그룹을 군집화하기', '_6.6 마치며', '_6.7 연습 문제', '_6.8 더 읽을거리', 'CHAPTER 7 순차 데이터 분석', '_7.1 개발 환경', '_7.2 푸리에 변환이란?', '_7.3 코사인 곡선 분해', '_7.4 마치며', '_7.5 연습 문제', '_7.6 더 읽을거리', 'CHAPTER 8 차원 축소', '_8.1 개발 환경', '_8.2 왜 차원 축소를 해야 하는가?', '_8.3 주성분 분석의 이해', '_8.4 주성분 분석을 이용하여 3차원 좌표를 2차원 공간으로 투영하기', '_8.5 단어 임베딩', '_8.6 마치며', '_8.7 연습 문제', '_8.8 더 읽을거리', 'CHAPTER 9 마르코프 결정 문제 풀기', '_9.1 개발 환경', '_9.2 강화학습', '_9.3 4개 상태 문제 해결하기', '_9.4 마치며', '_9.5 연습 문제', '_9.6 더 읽을거리', '3부 TensorFlow.js로 머신러닝 애플리케이션 배포하기', 'CHAPTER 10 머신러닝 애플리케이션 배포하기', '_10.1 개발 환경', '_10.2 자바스크립트 플랫폼의 에코시스템', '_10.3 모듈 번들러', '_10.4 깃허브 페이지로 모듈 배포하기', '_10.5 마치며', '_10.6 연습 문제', '_10.7 더 읽을거리', 'CHAPTER 11 성능 향상을 위한 애플리케이션 튜닝하기', '_11.1 개발 환경', '_11.2 TensorFlow.js 백엔드 API', '_11.3 텐서 관리', '_11.4 비동기 데이터 접근', '_11.5 프로파일링', '_11.6 모델 시각화', '_11.7 마치며', '_11.8 연습 문제', '_11.9 더 읽을거리', 'CHAPTER 12 TensorFlow.js의 전망', '_12.1 개발 환경', '_12.2 실험적 백엔드 프로젝트', '_12.3 AutoML 에지 헬퍼', '_12.4 마치며', '_12.5 연습 문제', '_12.6 더 읽을거리']}\n",
      "{'url': 'https://www.hanbit.co.kr/store/books/look.php?p_code=B6434597961', 'title': 'BOOK', 'price': '24,000원', 'content': ['CHAPTER 01 전기기기의 기초', 'SECTION 1.1 기초 회로이론', 'SECTION 1.2 전계와 자계', 'SECTION 1.3 전자기 유도현상', 'SECTION 1.4 전기기기의 분류', 'SECTION 1.5 KEC 한국전기설비규정', 'CHAPTER 02 직류기의 원리와 구조', 'SECTION 2.1 직류기의 원리', 'SECTION 2.2 직류기의 구조', 'SECTION 2.3 직류기의 특성', 'SECTION 2.4 여자방식에 따른 분류', '연습문제', 'CHAPTER 03 직류기의 특성과 시험평가', 'SECTION 3.1 직류발전기의 특성', 'SECTION 3.2 직류전동기의 특성', 'SECTION 3.3 직류기의 시험평가법', 'SECTION 3.4 직류기의 정격과 특수직류기', '연습문제', 'CHAPTER 04 동기기의 종류와 특성', 'SECTION 4.1 동기기의 종류와 구조', 'SECTION 4.2 전기자권선', 'SECTION 4.3 동기발전기의 특성', 'SECTION 4.4 동기발전기의 병렬운전', 'SECTION 4.5 동기전동기의 특성', 'SECTION 4.6 특수동기기(BLDC 모터)', '연습문제', 'CHAPTER 05 변압기의 원리와 특성', 'SECTION 5.1 변압기의 원리와 구조', 'SECTION 5.2 변압기의 등가회로와 특성', '연습문제', 'CHAPTER 06 변압기의 결선과 시험법', 'SECTION 6.1 변압기의 결선법', 'SECTION 6.2 변압기의 병렬운전', 'SECTION 6.3 변압기의 시험법', '연습문제', 'CHAPTER 07 유도기의 원리와 특성', 'SECTION 7.1 유도기의 원리와 구조', 'SECTION 7.2 유도전동기의 기본 개념', 'SECTION 7.3 유도전동기의 특성', 'SECTION 7.4 특수유도전동기', '연습문제', 'CHAPTER 08 유도기의 운전과 고장진단', 'SECTION 8.1 유도전동기의 운전', 'SECTION 8.2 유도전동기의 시험법과 고장진단', '연습문제', 'CHAPTER 09 정류자전동기', 'SECTION 9.1 정류자전동기의 분류와 특징', 'SECTION 9.2 직권 정류자전동기', 'SECTION 9.3 3상 분권 정류자전동기', '연습문제', 'CHAPTER 10 정류기와 전력용 반도체', 'SECTION 10.1 정류기', 'SECTION 10.2 전력용 반도체', 'SECTION 10.3 직류 초퍼회로', '연습문제']}\n",
      "{'url': 'https://www.hanbit.co.kr/store/books/look.php?p_code=B9923613168', 'title': 'BOOK', 'price': '26,000원', 'content': ['PART 01. 모바일 UX/UI 디자인', 'CHAPTER 01. 모바일 앱 UX의 시작', 'LESSON 01. 모바일 앱과 UX 디자인의 발전', 'UX 디자인의 등장', '화면 크기의 변화와 UX의 발전', '실무에서 말하는 모바일 UX 디자인', 'LESSON 02. UX 디자인을 완성하는 세 가지 요소', 'UX(User Experience) 이해하기', '하나. UX는 발명이 아닌 발견이다', '둘. UX는 편리함보다 익숙함을 따른다', '셋. UX는 제품이 아닌 가치를 제공한다', 'LESSON 03. 직관적인 UX 디자인 요소', 'BX(Brand Experience)', 'UI(User Interface)', 'GUI(Graphical User Interface)', '인포그래픽(Infographics)', '인터랙션(Interaction)', 'CHAPTER 02. 모바일 UX 시나리오', 'LESSON 01. 모바일 UX 시나리오 의미와 과정', '모바일 UX 시나리오 과정', 'LESSON 02. 서비스 구분하고 제작 방향 설정하기', '모바일 서비스 구분하기', '네이티브 앱 (Native App)', '모바일 웹앱 (Mobile WebApp)', '반응형 웹앱(RWD : Responsive Web Design)', '적응형 웹앱(AWD : Adaptive Web Design)', '하이브리드 앱(Hybrid App)', 'LESSON 03. 태스크 분석을 통한 주요 UI 설계하기', '태스크 분석(Task Research) 과정', 'LESSON 04. 카테고리 분석을 통한 디자인 포지션 찾기', '1단계. 유사 카테고리 서비스 찾아 분석하기', '2단계. 동일 사용자층 서비스 찾아 분석하기', '3단계. 디자인 포지션(Design Position) 확정하기', '예시로 알아보는 디자인 포지션 과정', 'LESSON 05. 디자인 리서치를 통한 디자인 방향 설정하기', '무드보드(Moodboard)', '컬러 스와치(Color Swatch)', '[디자이너의 비밀노트] 컬러 시뮬레이션 서비스 활용하기', 'LESSON 06. 런처 아이콘과 런치 스크린 디자인하기', '런처 아이콘(Launcher Icon)', '운영체제 규격에 맞게 디자인하기', '사용자에게 동일한 BX 아이콘 제공하기', 'BX가 제대로 드러나게 디자인하기', '모바일 웹 런처 아이콘', '런치 스크린(Launch Screen)', '시각 보정을 이용해 로고 배치하기', '다양한 기능을 담은 런치 스크린', 'LESSON 07. 와이어 프레임 형식의 UI 구조 설계하기', 'UI 구조 설계(UI Structure)', '페이퍼 프로토타입(Paper Prototype)과 UI 설계하기', '동일한 구조의 UI 설계하기', 'UI 뎁스(Depth)와 GUI 표시하기', '정확한 화면 이름과 파일명 표기하기', '포지티브 와이어(Positive Wire)와 네거티브 와이어(Negative Wire) 표시하기', 'CHAPTER 03. 모바일 해상도 및 제작 방법', 'LESSON 01. 모바일 해상도와 72dpi 이해하기', '모바일 해상도', '72dpi', '72dpi의 표현 해상도', 'LESSON 02. Android의 DP 해상도 및 제작 방법', 'Android DP 해상도 이해하기', 'Android DP에 따른 표현 방식 알아보기', 'Android DP에 따른 이미지 제작 방식 알아보기', 'LESSON 03. iOS의 Point 해상도와 제작 방법', 'iOS Point 해상도 이해하기', 'iOS Point에 따른 이미지 제작 방식 알아보기', '[디자이너의 비밀노트] 모바일 운영체제 디자인 가이드', 'LESSON 04. 모바일 웹과 Viewport 적용하기', 'Viewport', 'Viewport를 적용한 모바일 뷰어 사용하기', 'Viewport에 따른 모바일 웹 이미지 제작 방식 알아보기', 'CHAPTER 04. 모바일 앱 GUI 디자인 및 레이아웃', 'LESSON 01. 모바일 앱 GUI 디자인', '태스크 분석을 통한 GUI 디자인', '탭(Tap) GUI 구조', '플로팅(Floating) GUI 구조', '갤러리(Gallery) GUI 구조', '숨김 메뉴 GUI 구조', '순차적 GUI 구조', 'LESSON 02. UI-Kit 활용하기', 'XD에서 UI-Kit 다운로드하기', '앱 아이콘 다운로드하기', '폰트 다운로드하기', 'LESSON 03. Android 앱 주요 가이드라인', 'Android 앱 가이드라인', '툴 바의 버튼과 가장자리의 마진', '콘텐츠와 콘텐츠 사이 마진', '전체 화면 마진', '상태 바와 아이콘', '오른쪽 끝 마진', '버튼의 터치 영역', '툴 바, 플로팅 버튼, 오버레이 마진', '리스트 목록', 'LESSON 04. iOS 앱 주요 가이드라인', 'iOS 앱 디자인 전 체크 사항', 'iOS 앱 주요 가이드라인', '상태 바', '내비게이션 바', '큰 타이틀 바', '마진', '탭 바', '홈 표시', '내부 디자인 아이콘의 터치 영역', 'LESSON 05. 나인패치와 스트레칭 이미지', '나인패치(Draw9patch)', 'Android에 맞는 나인패치 제작', 'iOS 스트레칭 이미지 제작', 'CHAPTER 05. 모바일 앱 디자인에 필요한 XD 핵심 기능 익히기', 'LESSON 01. 아트보드 편집하고 저장하기', '아트보드 편집하기', '아트보드 크기 변경하기', '데스크톱 화면 미리 보기', '문서 설정하기', '문서 저장하고 열기', '외부 디자인 파일 열기(PSD, AI, Sketch)', '[디자이너의 비밀노트] XD 주요 단축키', 'LESSON 02. 기본 도구 활용하기', '기본 도형 만들기', '속성 관리자에서 도형 변형하기', '펜과 선을 이용해 드로잉하기', '텍스트 입력하고 편집하기', '텍스트 찾기', '오브젝트 정렬과 결합', 'LESSON 03. 외부 파일 불러오고 편집하기', '일러스트레이터(AI) 파일 불러오기', '비트맵 파일 불러오기', 'LESSON 04. XD 핵심 기능 익히기', '플러그인 활용하기', 'UI-Kit 활용하기', '문서 에셋 활용하기', '구성 요소 등록하고 활용하기', '문자 스타일 등록하고 활용하기', '색상 스타일 등록하고 편집하기', '구성 요소 내부 인스턴스(Instance) 활용하기', '반복 그리드', '반응형 크기 조정', '아트보드 안내선과 그리드 시스템', '[디자이너의 비밀노트] 앱 디자인 색상 사용 시 주의사항', 'PART 02. 모바일 UX/UI 디자인 프로젝트', 'PROJECT 01. 젬픽 모바일 앱 로그인, 회원 가입 페이지 디자인_iOS', 'STEP 01. 로그인 및 회원 가입 디자인 준비하기', '새 아트보드 만들어 기본 레이아웃 안내선 적용하기', '로고, 아이콘, 색상을 문서 에셋에 등록하기', 'STEP 02. 로그인 페이지 디자인하기', 'login_01 페이지에 로고, 이메일, 비밀번호, 로그인 버튼 제작하기', 'SNS 로그인 버튼과 회원 가입 버튼 만들기', 'login_02 페이지 디자인하기', '아이콘을 문서 에셋에 등록하기', 'STEP 03. 회원 가입 페이지 디자인하기', 'signup_01 페이지 디자인하기', 'signup_02 페이지 디자인하기', 'STEP 04. 자연스러운 효과의 프로토타입 제작하기', '런치 스크린에서 로그인과 회원 가입 연결하기', 'Skip, SNS 로그인, CREATE 버튼과 메인 화면 연결하기', 'PROJECT 02. 스크롤 기능을 이용한 메인 페이지 디자인_Android', 'STEP 01. 메인 페이지 UI 디자인 준비하기', '새 아트보드 만들어 기본 레이아웃 안내선 적용하기', '아이콘, 색상을 문서 에셋에 등록하기', 'STEP 02. 상단 툴 바와 하단 메뉴 탭 바 디자인하기', 'main_01 페이지의 상단 툴 바 디자인하기', '내부 인스턴스를 활용해 하단 메뉴 탭 바 디자인하기', '메인 아이콘의 구성 요소를 활용해 내부 인스턴스 추가하기', 'STEP 03. 인터랙션 기능으로 숨김 메뉴 만들기', '숨김 메뉴 구성 요소로 내부 인스턴스 추가하기', '인터랙션 숨김 메뉴의 프로토타입 만들기', 'STEP 04. 뉴스 피드형 콘텐츠 디자인하기', '섬네일을 이용한 사용자 리스트 제작하기', '사진 크기 조절하고 뉴스 피드 콘텐츠 디자인하기', '이미지 컨트롤 아이콘 디자인하기', '스크롤 기능의 메인 페이지 디자인하기', 'STEP 05. 오버레이 팝업 페이지의 프로토타입 제작하기', '팝업 페이지 제작하기', '오버레이 효과의 프로토타입 제작하기', 'PROJECT 03. 슬라이드 효과의 메인 페이지 디자인_iOS', 'STEP 01. 메인 페이지 디자인하기', '새 아트보드 만들어 기본 레이아웃 안내선 적용하기', '아이콘, 색상을 문서 에셋에 등록하기', 'STEP 02. 상단 툴 바와 하단 메뉴 탭 바 디자인하기', 'main_01 페이지의 상단 내비게이션 영역 디자인하기', '내부 인스턴스를 활용해 하단 메뉴 탭 바 디자인하기', '메인 버튼 구성 요소로 내부 인스턴스 추가하기', 'STEP 03. 슬라이드 페이지의 콘텐츠 구성하기', '슬라이드 페이지에 콘텐츠 배치하기', '카테고리 버튼 아이콘 배치하기', '카테고리 버튼 구성 요소로 내부 인스턴스 추가하기', 'STEP 04. 슬라이드 효과의 프로토타입 제작하기', '아트보드 복사하여 각 화면 구성하기', '슬라이드(스냅) 효과의 인터랙션 적용하기', 'STEP 05. 자동 스크롤 효과의 프로토타입 제작하기', 'sub_01 상세 페이지 제작하기', '자동 스크롤 효과의 프로토타입 제작하기', 'PROJECT 04. 시작 애니메이션 효과의 메인 페이지 디자인_Android', 'STEP 01. 시작 애니메이션 디자인 준비하기', '새 아트보드 만들어 기본 레이아웃 안내선 적용하기', '아이콘, 색상을 문서 에셋에 등록하기', 'STEP 02. 상단 툴 바와 메인 메뉴 디자인하기', 'main_start 페이지의 상단 툴 바 디자인하기', '내부 인스턴스를 활용한 메인 메뉴 디자인하기', 'STEP 03. 내부 아이콘 및 슬라이드 버튼 디자인하기', '내부 아이콘 만들기', '원형 그래프 만들기', '데이터 수치 입력하기', '정보 표시 입력하기', '슬라이드 버튼 디자인하기', 'STEP 04. 시작 애니메이션과 슬라이드 효과의 프로토타입 제작하기', 'main_01 아트보드 페이지 디자인하기', '메인 아트보드에 시작 애니메이션 연결하기', '슬라이드 버튼 인터랙션 제작하기', 'STEP 05. 숨김 메뉴 디자인하고 프로토타입 제작하기', '메뉴 배경과 섬네일 디자인하기', '메뉴 아이콘과 리스트 디자인하기', '메뉴 슬라이드 효과의 프로토타입 제작하기', '[디자이너의 비밀노트] 앱 UI 디자인의 메뉴(Menu)', 'PROJECT 05. 그리드 시스템을 이용한 반응형 UI 디자인_web', 'STEP 01. 메인 페이지 UI 디자인 준비하기', '새 아트보드 만들기', '그리드 시스템 적용하기', 'STEP 02. 반응형 UI 툴 바와 메뉴 디자인하기', '숨김 메뉴 구성 요소로 내부 인스턴스 추가하기(mobile_UI)', '주요 메뉴에 마우스 오버 상태 추가하기', '구성 요소 인터랙션을 이용해 모바일 메뉴 디자인하기', '인터랙션 숨김 메뉴의 프로토타입 만들기', '메뉴 구성 요소로 펼침 메뉴 만들기(tablet_UI)', '메뉴 구성 요소로 메인 툴 바 만들기(web_UI)', 'STEP 03. 반응형 UI 내부 콘텐츠 디자인하기', '내부 콘텐츠 디자인하기(mobile_UI)', '내부 콘텐츠 디자인하기(tablet_UI)', '내부 콘텐츠 디자인하기(web_UI)', 'PROJECT 06. 공유 기능을 이용한 개발자 협업', 'STEP 01. XD 공유 기능 활용하기', '공유 링크 만들기', '공유 링크 업데이트하고 관리하기', '공유 페이지 관리하기', '댓글을 이용해 의견 나누기', 'STEP 02. 프로젝트 공유하고 실무에 활용하기', '운영체제별 프로젝트 공유하기', '에셋, 색상, 문자 스타일 확인하기', '디자인 가이드, 인터랙션 확인하기', '웹사이트 제작에 필요한 변수 CSS 다운로드', '[디자이너의 비밀노트] 제플린을 활용해 프로젝트 공유하기', 'INDEX']}\n"
     ]
    }
   ],
   "source": [
    "session = requests.Session()\n",
    "response = session.get(\"http://www.hanbit.co.kr/store/books/new_book_list.html\")\n",
    "\n",
    "urls = scrape_list_page(response)\n",
    "for url in urls:\n",
    "    response = session.get(url)\n",
    "    book_info = scrape_detail_page(response)\n",
    "    print(book_info)\n",
    "    time.sleep(random.randint(1, 3))"
   ]
  },
  {
   "cell_type": "code",
   "execution_count": null,
   "metadata": {},
   "outputs": [],
   "source": []
  }
 ],
 "metadata": {
  "kernelspec": {
   "display_name": "Python 3",
   "language": "python",
   "name": "python3"
  },
  "language_info": {
   "codemirror_mode": {
    "name": "ipython",
    "version": 3
   },
   "file_extension": ".py",
   "mimetype": "text/x-python",
   "name": "python",
   "nbconvert_exporter": "python",
   "pygments_lexer": "ipython3",
   "version": "3.6.8"
  }
 },
 "nbformat": 4,
 "nbformat_minor": 4
}
