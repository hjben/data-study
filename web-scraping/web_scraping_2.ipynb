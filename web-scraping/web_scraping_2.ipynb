{
 "cells": [
  {
   "cell_type": "markdown",
   "metadata": {},
   "source": [
    "## Scraping a shopping site with selenium"
   ]
  },
  {
   "cell_type": "code",
   "execution_count": 1,
   "metadata": {},
   "outputs": [],
   "source": [
    "#-*- coding: utf-8 -*-\n",
    "\n",
    "from selenium import webdriver\n",
    "from bs4 import BeautifulSoup\n",
    "import pandas as pd\n",
    "from pandas import DataFrame\n",
    "from datetime import datetime\n",
    "import re"
   ]
  },
  {
   "cell_type": "code",
   "execution_count": 3,
   "metadata": {},
   "outputs": [],
   "source": [
    "options = webdriver.ChromeOptions()\n",
    "options.add_argument('headless')\n",
    "options.add_argument(\"disable-gpu\")\n",
    "\n",
    "# chromedriver must be downloaded and located in same path\n",
    "dr = webdriver.Chrome('./chromedriver', options=options)\n",
    "dr.get('http://store.musinsa.com/app/contents/onsale?d_cat_cd=&brand=&page_kind=onsale&list_kind=small&sort=pop&page=1')\n",
    "\n",
    "html = dr.page_source"
   ]
  },
  {
   "cell_type": "code",
   "execution_count": 4,
   "metadata": {},
   "outputs": [],
   "source": [
    "soup = BeautifulSoup(html, 'html.parser')\n",
    "\n",
    "sale_pdt = soup.find_all('p', attrs={'class': 'list_info'})\n",
    "sale_prc = soup.find_all('p', attrs={'class': 'price'})"
   ]
  },
  {
   "cell_type": "code",
   "execution_count": 9,
   "metadata": {},
   "outputs": [],
   "source": [
    "pdt = []\n",
    "prc = []\n",
    "\n",
    "for i in range(0, len(sale_pdt)):\n",
    "    pdt.append(sale_pdt[i].find('a').text.strip())\n",
    "    prc.append(re.sub('[^0-9]','',sale_prc[i].text[10:]))"
   ]
  },
  {
   "cell_type": "code",
   "execution_count": 10,
   "metadata": {},
   "outputs": [
    {
     "name": "stdout",
     "output_type": "stream",
     "text": [
      "              product_name  price\n",
      "0  [남녀공용] 선글라스 VELLA C1 벨라  38800\n",
      "1      [남녀공용] 선글라스 OTTO C2  38800\n",
      "2      1901 투톤 로고 스웻셔츠 오렌지  17900\n",
      "3     1901 로마 로고 1/2 T 그레이  24500\n",
      "4    1901 로마 로고 1/2 T 아이보리  24500\n"
     ]
    }
   ],
   "source": [
    "data = {'product_name': pdt,\n",
    "        'price': prc}\n",
    "\n",
    "dt = DataFrame(data)\n",
    "print(dt.head())\n",
    "\n",
    "dt.to_csv('Musinsa_discount_{0}.csv'.format(datetime.today().strftime('%Y%m%d')),encoding='utf-8',index=False)\n",
    "dr.quit()"
   ]
  },
  {
   "cell_type": "code",
   "execution_count": null,
   "metadata": {},
   "outputs": [],
   "source": []
  }
 ],
 "metadata": {
  "kernelspec": {
   "display_name": "Python 3",
   "language": "python",
   "name": "python3"
  },
  "language_info": {
   "codemirror_mode": {
    "name": "ipython",
    "version": 3
   },
   "file_extension": ".py",
   "mimetype": "text/x-python",
   "name": "python",
   "nbconvert_exporter": "python",
   "pygments_lexer": "ipython3",
   "version": "3.6.8"
  }
 },
 "nbformat": 4,
 "nbformat_minor": 4
}
