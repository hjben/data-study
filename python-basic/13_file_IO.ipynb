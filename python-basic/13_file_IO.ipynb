{
 "cells": [
  {
   "cell_type": "markdown",
   "metadata": {},
   "source": [
    "# 13. File Input and output\n",
    "\n",
    "### 1. Logical file structure (Data input and output. IO)\n",
    "* open -> use -> resource return \n",
    "\n",
    ">1. There're bytes in a order in file and EOF(end-of-file) marker at the end of the file\n",
    "\n",
    ">2. All files have position indicator where IO operation is raised.\n",
    "\n",
    ">3. Read and write text files<br>\n",
    "   - open(\"file_name\", open_mode, encoding)<br>\n",
    "   - file open mode<br>\n",
    "       1. r : read mode(read data from the beginning of a file)<br>\n",
    "       2. w : write mode(write data from the beginning of a file, remove existing data and overwrite new data if file exists, generate a file if not)<br>\n",
    "       3. a : add mode(write some data at the end of a file, generate a file if file not exists)<br>\n",
    "       4. r+ : read and write mode\n",
    "\n",
    ">4. Location of test data: data_set folder"
   ]
  },
  {
   "cell_type": "code",
   "execution_count": 3,
   "metadata": {},
   "outputs": [],
   "source": [
    "# generate output.txt and write data\n",
    "\n",
    "# create file with write mode\n",
    "f = open(\"output.txt\", \"w\", encoding=\"UTF-8\")\n",
    "\n",
    "# write data\n",
    "f.write(\"check data write\\n\")\n",
    "\n",
    "# add another data at next line\n",
    "f.write(\"data write 2\")\n",
    "\n",
    "# return resource\n",
    "f.close()"
   ]
  },
  {
   "cell_type": "code",
   "execution_count": 4,
   "metadata": {},
   "outputs": [],
   "source": [
    "# IO started with 'with' statement calls close() automatically\n",
    "with open(\"output2.txt\", \"w\", encoding=\"UTF-8\") as f:\n",
    "    f.write(\"check data write 2\\n\")\n",
    "    f.write(\"data write 3\")"
   ]
  },
  {
   "cell_type": "code",
   "execution_count": 5,
   "metadata": {},
   "outputs": [],
   "source": [
    "f = open(\"output2.txt\", 'w')\n",
    "for i in range(1, 11):\n",
    "    data = \"Line %d.\\n\" % i\n",
    "    f.write(data)\n",
    "f.close()"
   ]
  },
  {
   "cell_type": "code",
   "execution_count": 6,
   "metadata": {},
   "outputs": [
    {
     "name": "stdout",
     "output_type": "stream",
     "text": [
      "Line 1.\n",
      "Line 2.\n",
      "Line 3.\n",
      "Line 4.\n",
      "Line 5.\n",
      "Line 6.\n",
      "Line 7.\n",
      "Line 8.\n",
      "Line 9.\n",
      "Line 10.\n"
     ]
    }
   ],
   "source": [
    "for i in range(1, 11):\n",
    "    data = \"Line %d.\" % i\n",
    "    print(data)"
   ]
  },
  {
   "cell_type": "code",
   "execution_count": 7,
   "metadata": {},
   "outputs": [],
   "source": [
    "# write data by line\n",
    "'''\n",
    "extract and write data by automatically percepting index from a list\n",
    "repetitive statement\n",
    "    f.writelines(lines)\n",
    "    \n",
    "considerations\n",
    "    1. new line attached when data wrote by each index\n",
    "        1) use \\n at the end of data\n",
    "        2) reflect \\n by 'join' function\n",
    "            2-1) join with one string\n",
    "            2-2) list join\n",
    "'''\n",
    "lines = [\"data\\n\", \"data2\\n\", \"data3\\n\"]\n",
    "\n",
    "with open(\"output3.txt\", \"w\") as f:\n",
    "    f.writelines(lines)"
   ]
  },
  {
   "cell_type": "code",
   "execution_count": 8,
   "metadata": {},
   "outputs": [],
   "source": [
    "lines = [\"data\", \"data2\", \"data3\"]\n",
    "\n",
    "with open(\"output3.txt\", \"w\") as f:\n",
    "    f.write('\\n'.join(lines))"
   ]
  },
  {
   "cell_type": "code",
   "execution_count": 9,
   "metadata": {},
   "outputs": [
    {
     "name": "stdout",
     "output_type": "stream",
     "text": [
      "data\n",
      "data2\n",
      "data3\n"
     ]
    }
   ],
   "source": [
    "# data read from output3.txt\n",
    "with open(\"output3.txt\", \"r\") as f:\n",
    "    print(f.read())"
   ]
  },
  {
   "cell_type": "code",
   "execution_count": 10,
   "metadata": {},
   "outputs": [
    {
     "name": "stdout",
     "output_type": "stream",
     "text": [
      "data\n",
      "\n"
     ]
    }
   ],
   "source": [
    "# readline(): read first one line\n",
    "with open(\"output3.txt\", \"r\") as f:\n",
    "    print(f.readline()) # read one line"
   ]
  },
  {
   "cell_type": "code",
   "execution_count": 11,
   "metadata": {},
   "outputs": [
    {
     "name": "stdout",
     "output_type": "stream",
     "text": [
      "['data\\n', 'data2\\n', 'data3']\n"
     ]
    }
   ],
   "source": [
    "# readlines(): read all of lines and save it to list\n",
    "with open(\"output3.txt\", \"r\") as f:\n",
    "    print(f.readlines()) # saves data to list line by line"
   ]
  },
  {
   "cell_type": "code",
   "execution_count": 12,
   "metadata": {},
   "outputs": [
    {
     "name": "stdout",
     "output_type": "stream",
     "text": [
      "data\n",
      "data2\n",
      "data3"
     ]
    }
   ],
   "source": [
    "# print each line with readlines()\n",
    "with open(\"output3.txt\", \"r\") as f:\n",
    "    for line in f.readlines():\n",
    "        print(line, end='')"
   ]
  },
  {
   "cell_type": "code",
   "execution_count": 13,
   "metadata": {},
   "outputs": [
    {
     "name": "stdout",
     "output_type": "stream",
     "text": [
      "data\n",
      "data2\n",
      "data3\n"
     ]
    }
   ],
   "source": [
    "# read(): read all lines and save it to a stirng.\n",
    "\n",
    "with open(\"output3.txt\", 'r') as f:\n",
    "    data = f.read()\n",
    "    print(data)"
   ]
  },
  {
   "cell_type": "markdown",
   "metadata": {},
   "source": [
    "### 2. File path\n",
    "\n",
    "- Absolute and relative path\n",
    "- path exercise with web URL: URL is a kind of file path"
   ]
  },
  {
   "cell_type": "code",
   "execution_count": 1,
   "metadata": {},
   "outputs": [],
   "source": [
    "from urllib.parse import urljoin"
   ]
  },
  {
   "cell_type": "code",
   "execution_count": 15,
   "metadata": {},
   "outputs": [],
   "source": [
    "# http://example.com: domain of URL. root directory\n",
    "# html: folder\n",
    "# a.html: html file\n",
    "base = \"http://example.com/html/sub/a.html\""
   ]
  },
  {
   "cell_type": "code",
   "execution_count": 16,
   "metadata": {},
   "outputs": [
    {
     "data": {
      "text/plain": [
       "'http://example.com/html/sub/b.html'"
      ]
     },
     "execution_count": 16,
     "metadata": {},
     "output_type": "execute_result"
    }
   ],
   "source": [
    "# b.html is sibling of a.html (in same folder)\n",
    "urljoin(base, \"b.html\")"
   ]
  },
  {
   "cell_type": "code",
   "execution_count": 21,
   "metadata": {},
   "outputs": [
    {
     "data": {
      "text/plain": [
       "'http://example.com/b.html'"
      ]
     },
     "execution_count": 21,
     "metadata": {},
     "output_type": "execute_result"
    }
   ],
   "source": [
    "# root(url domain)\n",
    "# absolute path\n",
    "urljoin(base, \"/b.html\")"
   ]
  },
  {
   "cell_type": "code",
   "execution_count": 22,
   "metadata": {},
   "outputs": [
    {
     "data": {
      "text/plain": [
       "'http://example.com/html/python/b.html'"
      ]
     },
     "execution_count": 22,
     "metadata": {},
     "output_type": "execute_result"
    }
   ],
   "source": [
    "urljoin(base, \"/html/python/b.html\")"
   ]
  },
  {
   "cell_type": "code",
   "execution_count": 18,
   "metadata": {},
   "outputs": [
    {
     "data": {
      "text/plain": [
       "'http://example.com/html/sub/b.html'"
      ]
     },
     "execution_count": 18,
     "metadata": {},
     "output_type": "execute_result"
    }
   ],
   "source": [
    "# relative path\n",
    "# present folder\n",
    "urljoin(base, \"./b.html\")"
   ]
  },
  {
   "cell_type": "code",
   "execution_count": 19,
   "metadata": {},
   "outputs": [
    {
     "data": {
      "text/plain": [
       "'http://example.com/html/another/c.html'"
      ]
     },
     "execution_count": 19,
     "metadata": {},
     "output_type": "execute_result"
    }
   ],
   "source": [
    "# upper folder\n",
    "urljoin(base, \"../another/c.html\")"
   ]
  },
  {
   "cell_type": "code",
   "execution_count": 20,
   "metadata": {},
   "outputs": [
    {
     "name": "stdout",
     "output_type": "stream",
     "text": [
      "http://example.com/d.html\n"
     ]
    }
   ],
   "source": [
    "# upper of upper\n",
    "print(urljoin(base, \"../../d.html\"))"
   ]
  }
 ],
 "metadata": {
  "kernelspec": {
   "display_name": "Python 3",
   "language": "python",
   "name": "python3"
  },
  "language_info": {
   "codemirror_mode": {
    "name": "ipython",
    "version": 3
   },
   "file_extension": ".py",
   "mimetype": "text/x-python",
   "name": "python",
   "nbconvert_exporter": "python",
   "pygments_lexer": "ipython3",
   "version": "3.6.8"
  }
 },
 "nbformat": 4,
 "nbformat_minor": 4
}
