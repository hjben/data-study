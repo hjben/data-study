{
 "cells": [
  {
   "cell_type": "markdown",
   "metadata": {},
   "source": [
    "# 14. Class (1)\n",
    "\n",
    "> Terms\n",
    "- Class: It's like a blueprint, which could create something having same architecture.    \n",
    "- Object: An object created by class.\n",
    "- Method : function in class\n",
    "- Function : function independent from class\n",
    "\n",
    "Many objects are could made by just one Class. "
   ]
  },
  {
   "cell_type": "markdown",
   "metadata": {},
   "source": [
    "**1. Class development syntax**\n",
    "- Main keyword and symbol : self, __\n",
    "- Superclass : Object\n",
    "- If a class is called, it automatically loads \\_\\_init__ function\n",
    "- constructor : \\_\\_init__(self)\n",
    "- 1st parameter of funtion implemented in class : self\n",
    "\n",
    "**2. Type of member variables**\n",
    "- class variable : generated just one time and shared to all objects\n",
    "- instance vairable : generated all times when each object created\n",
    "- every variables applied 'self' are instance variable\n",
    "\n",
    "**3. accessor**\n",
    "- defining as private method for encapsulation and validation\n",
    "- define \\_\\_ in front of a variable name"
   ]
  },
  {
   "cell_type": "markdown",
   "metadata": {},
   "source": [
    "### 1. Instance and class variable"
   ]
  },
  {
   "cell_type": "code",
   "execution_count": 1,
   "metadata": {},
   "outputs": [],
   "source": [
    "def get_int_value():\n",
    "    print('get_int_value() function outside of class')\n",
    "    return 20"
   ]
  },
  {
   "cell_type": "code",
   "execution_count": 2,
   "metadata": {},
   "outputs": [
    {
     "name": "stdout",
     "output_type": "stream",
     "text": [
      "get_int_value() function outside of class\n"
     ]
    },
    {
     "data": {
      "text/plain": [
       "20"
      ]
     },
     "execution_count": 2,
     "metadata": {},
     "output_type": "execute_result"
    }
   ],
   "source": [
    "data = get_int_value()\n",
    "data"
   ]
  },
  {
   "cell_type": "code",
   "execution_count": 3,
   "metadata": {},
   "outputs": [],
   "source": [
    "# user-defined class + method, variable\n",
    "class UserClass:\n",
    "    # constructor\n",
    "    def __init__(self, data): # self is a kind of form, data is necessary to execute properly\n",
    "        self.instance_var = data  # instance variable\n",
    "        print('constructor')\n",
    "        \n",
    "    # method returns value of member variable\n",
    "    # depend on object, it's callable after object being created\n",
    "\n",
    "    def get_instance_var(self):\n",
    "        return self.instance_var\n",
    "\n",
    "    \n",
    "def get_instance_var(): # no 'self' keyword\n",
    "    return 'data222'"
   ]
  },
  {
   "cell_type": "code",
   "execution_count": 4,
   "metadata": {},
   "outputs": [
    {
     "name": "stdout",
     "output_type": "stream",
     "text": [
      "constructor\n"
     ]
    },
    {
     "data": {
      "text/plain": [
       "'variable'"
      ]
     },
     "execution_count": 4,
     "metadata": {},
     "output_type": "execute_result"
    }
   ],
   "source": [
    "i1 = UserClass('variable')\n",
    "data = i1.get_instance_var()\n",
    "data"
   ]
  },
  {
   "cell_type": "code",
   "execution_count": 6,
   "metadata": {},
   "outputs": [
    {
     "data": {
      "text/plain": [
       "'data222'"
      ]
     },
     "execution_count": 6,
     "metadata": {},
     "output_type": "execute_result"
    }
   ],
   "source": [
    "get_instance_var()"
   ]
  },
  {
   "cell_type": "code",
   "execution_count": 8,
   "metadata": {},
   "outputs": [],
   "source": [
    "class Person:\n",
    "    def __init__(self, name='default name', age=0):\n",
    "        self.name = name\n",
    "        self.age = age\n",
    "        \n",
    "    def set_name(self, new_name):\n",
    "        self.name = new_name\n",
    "        \n",
    "    def get_name(self, name):\n",
    "        return self.name\n",
    "    \n",
    "    def get_age(self, age):\n",
    "        return self.age\n",
    "    \n",
    "    def get_all(self):\n",
    "        return  self.name, self.age"
   ]
  },
  {
   "cell_type": "code",
   "execution_count": 9,
   "metadata": {},
   "outputs": [
    {
     "data": {
      "text/plain": [
       "('default name', 0)"
      ]
     },
     "execution_count": 9,
     "metadata": {},
     "output_type": "execute_result"
    }
   ],
   "source": [
    "p = Person()\n",
    "p.get_all()"
   ]
  },
  {
   "cell_type": "code",
   "execution_count": 10,
   "metadata": {},
   "outputs": [],
   "source": [
    "# When creating object, member variables are not initialized so manual initialize is needed\n",
    "class Person1:\n",
    "    def __init__(self):\n",
    "        self.name = 'default name'"
   ]
  },
  {
   "cell_type": "code",
   "execution_count": 11,
   "metadata": {},
   "outputs": [],
   "source": [
    "p3 = Person1()"
   ]
  },
  {
   "cell_type": "code",
   "execution_count": 12,
   "metadata": {},
   "outputs": [
    {
     "data": {
      "text/plain": [
       "'default name'"
      ]
     },
     "execution_count": 12,
     "metadata": {},
     "output_type": "execute_result"
    }
   ],
   "source": [
    "p3.name"
   ]
  },
  {
   "cell_type": "code",
   "execution_count": 18,
   "metadata": {},
   "outputs": [],
   "source": [
    "class Fourcal:\n",
    "    def set_data(self, first, second):\n",
    "        self.first = first\n",
    "        self.second = second\n",
    "    \n",
    "    def sum(self):\n",
    "        result = self.first + self.second\n",
    "        return result\n",
    "    \n",
    "    def mul(self):\n",
    "        result = self.first * self.second\n",
    "        return result\n",
    "    \n",
    "    def sub(self):\n",
    "        result = self.first - self.second\n",
    "        return result\n",
    "    \n",
    "    def div(self):\n",
    "        result = self.first / self.second\n",
    "        return result"
   ]
  },
  {
   "cell_type": "code",
   "execution_count": 19,
   "metadata": {},
   "outputs": [
    {
     "name": "stdout",
     "output_type": "stream",
     "text": [
      "6\n",
      "8\n",
      "2\n",
      "2.0\n",
      "10\n",
      "21\n",
      "-4\n",
      "0.42857142857142855\n"
     ]
    }
   ],
   "source": [
    "a = Fourcal()\n",
    "b = Fourcal()\n",
    "\n",
    "a.set_data(4, 2)\n",
    "b.set_data(3, 7)\n",
    "\n",
    "print(a.sum())\n",
    "print(a.mul())\n",
    "print(a.sub())\n",
    "print(a.div())\n",
    "print(b.sum())\n",
    "print(b.mul())\n",
    "print(b.sub())\n",
    "print(b.div())"
   ]
  },
  {
   "cell_type": "code",
   "execution_count": 16,
   "metadata": {},
   "outputs": [],
   "source": [
    "# definition of class variable\n",
    "\n",
    "class People:\n",
    "    no = 0 # class variable\n",
    "    \n",
    "    def __init__(self, age = 1):\n",
    "        People.no = People.no + 1\n",
    "        self.age = age # instance variable\n",
    "        "
   ]
  },
  {
   "cell_type": "code",
   "execution_count": 17,
   "metadata": {},
   "outputs": [
    {
     "name": "stdout",
     "output_type": "stream",
     "text": [
      "1\n",
      "2\n",
      "2\n"
     ]
    }
   ],
   "source": [
    "p11 = People()\n",
    "print(p11.no)\n",
    "\n",
    "p12 = People()\n",
    "print(p12.no)\n",
    "\n",
    "print(People.no)"
   ]
  },
  {
   "cell_type": "markdown",
   "metadata": {},
   "source": [
    "### 2. Private variable\n",
    "1. Syntax : define private with two underbar(\\_\\_)\n",
    "2. If a variable defined as private, get / set method would be needed.<br>\n",
    "'set' method includes variable validation code"
   ]
  },
  {
   "cell_type": "code",
   "execution_count": 26,
   "metadata": {},
   "outputs": [],
   "source": [
    "# manage data external calling is not avaliable\n",
    "# for example, age must be saved as validate age\n",
    "# direct access is impossible\n",
    "# encapsulation\n",
    "class People2: \n",
    "    def __init__(self, name='child', age=1):\n",
    "        self.name = name\n",
    "        self.__age = age\n",
    "        \n",
    "    def set_age(self, new_age):\n",
    "        self.__age = new_age\n",
    "    \n",
    "    def get_age(self):\n",
    "        return self.__age"
   ]
  },
  {
   "cell_type": "code",
   "execution_count": 32,
   "metadata": {},
   "outputs": [],
   "source": [
    "p6 = People2()"
   ]
  },
  {
   "cell_type": "code",
   "execution_count": 33,
   "metadata": {},
   "outputs": [
    {
     "data": {
      "text/plain": [
       "'child'"
      ]
     },
     "execution_count": 33,
     "metadata": {},
     "output_type": "execute_result"
    }
   ],
   "source": [
    "p6.name"
   ]
  },
  {
   "cell_type": "code",
   "execution_count": 28,
   "metadata": {},
   "outputs": [
    {
     "ename": "AttributeError",
     "evalue": "'People2' object has no attribute 'age'",
     "output_type": "error",
     "traceback": [
      "\u001b[0;31m---------------------------------------------------------------------------\u001b[0m",
      "\u001b[0;31mAttributeError\u001b[0m                            Traceback (most recent call last)",
      "\u001b[0;32m<ipython-input-28-560382644f99>\u001b[0m in \u001b[0;36m<module>\u001b[0;34m\u001b[0m\n\u001b[0;32m----> 1\u001b[0;31m \u001b[0mprint\u001b[0m\u001b[0;34m(\u001b[0m\u001b[0mp6\u001b[0m\u001b[0;34m.\u001b[0m\u001b[0mage\u001b[0m\u001b[0;34m)\u001b[0m\u001b[0;34m\u001b[0m\u001b[0;34m\u001b[0m\u001b[0m\n\u001b[0m",
      "\u001b[0;31mAttributeError\u001b[0m: 'People2' object has no attribute 'age'"
     ]
    }
   ],
   "source": [
    "# dicrect access\n",
    "p6.age"
   ]
  },
  {
   "cell_type": "code",
   "execution_count": 29,
   "metadata": {},
   "outputs": [],
   "source": [
    "p6.set_age(30)"
   ]
  },
  {
   "cell_type": "code",
   "execution_count": 31,
   "metadata": {},
   "outputs": [
    {
     "data": {
      "text/plain": [
       "30"
      ]
     },
     "execution_count": 31,
     "metadata": {},
     "output_type": "execute_result"
    }
   ],
   "source": [
    "p6.get_age()"
   ]
  },
  {
   "cell_type": "markdown",
   "metadata": {},
   "source": [
    "### 3. Constructor and destructor\n",
    "> 1. init() : constructor initialize object with default values<br>\n",
    "> \\_\\_init__() method<br>\n",
    "> is executed when a object is created (called as class name)\n",
    "\n",
    "> 2. del() : function executed when a object is deleted<br>\n",
    "destuctor would be called when executing 'del {object_name}'"
   ]
  },
  {
   "cell_type": "code",
   "execution_count": 34,
   "metadata": {},
   "outputs": [],
   "source": [
    "class People7:\n",
    "    def __init__(self):\n",
    "        print('constructor - object initialize logics')\n",
    "        \n",
    "    def __del__(self):\n",
    "        print('destuctor - develop if resource return is necessary')"
   ]
  },
  {
   "cell_type": "code",
   "execution_count": 35,
   "metadata": {},
   "outputs": [
    {
     "name": "stdout",
     "output_type": "stream",
     "text": [
      "constructor - object initialize logics\n"
     ]
    }
   ],
   "source": [
    "p7 = People7()"
   ]
  },
  {
   "cell_type": "code",
   "execution_count": 36,
   "metadata": {},
   "outputs": [
    {
     "data": {
      "text/plain": [
       "<__main__.People7 at 0x7ff110b7b710>"
      ]
     },
     "execution_count": 36,
     "metadata": {},
     "output_type": "execute_result"
    }
   ],
   "source": [
    "p7"
   ]
  },
  {
   "cell_type": "code",
   "execution_count": 37,
   "metadata": {},
   "outputs": [],
   "source": [
    "del p7"
   ]
  },
  {
   "cell_type": "code",
   "execution_count": 38,
   "metadata": {},
   "outputs": [
    {
     "ename": "NameError",
     "evalue": "name 'p7' is not defined",
     "output_type": "error",
     "traceback": [
      "\u001b[0;31m---------------------------------------------------------------------------\u001b[0m",
      "\u001b[0;31mNameError\u001b[0m                                 Traceback (most recent call last)",
      "\u001b[0;32m<ipython-input-38-409791241804>\u001b[0m in \u001b[0;36m<module>\u001b[0;34m\u001b[0m\n\u001b[0;32m----> 1\u001b[0;31m \u001b[0mp7\u001b[0m\u001b[0;34m\u001b[0m\u001b[0;34m\u001b[0m\u001b[0m\n\u001b[0m",
      "\u001b[0;31mNameError\u001b[0m: name 'p7' is not defined"
     ]
    }
   ],
   "source": [
    "p7"
   ]
  },
  {
   "cell_type": "markdown",
   "metadata": {},
   "source": [
    "### 4. Some special methods\n",
    "> 1. \\_\\_init__ : constructor<br>\n",
    "> 2. \\_\\_str__ : executed when called in print() function\n",
    "> 3. \\_\\_len__ : it's recommended to re-definite with logics returning length"
   ]
  },
  {
   "cell_type": "code",
   "execution_count": 39,
   "metadata": {},
   "outputs": [
    {
     "name": "stdout",
     "output_type": "stream",
     "text": [
      "Title:Data Structure , Author:bookMan, Pages:200 \n",
      "200\n"
     ]
    }
   ],
   "source": [
    "class Book:\n",
    "    def __init__(self, title, author, pages):\n",
    "        self.title = title\n",
    "        self.author = author\n",
    "        self.pages = pages\n",
    "        \n",
    "    def __str__(self):\n",
    "        return \"Title:%s , Author:%s, Pages:%s \" % (self.title, self.author, self.pages)\n",
    "    \n",
    "    # returns page variable\n",
    "    def __len__(self):\n",
    "        return self.pages\n",
    "\n",
    "book = Book(\"Data Structure\", \"bookMan\", 200)\n",
    "\n",
    "print(book)\n",
    "# print(str(book)) some code as above\n",
    "\n",
    "print(len(book))"
   ]
  },
  {
   "cell_type": "code",
   "execution_count": 41,
   "metadata": {},
   "outputs": [],
   "source": [
    "class SpecialMethod:\n",
    "    def __init__(self, x, y):\n",
    "        self.x = x\n",
    "        self.y = y\n",
    "        \n",
    "    # add value of parameter (add_x) to member variable 'x'\n",
    "    def __add__(self, add_x):\n",
    "        return self.x + add_x"
   ]
  },
  {
   "cell_type": "code",
   "execution_count": 42,
   "metadata": {},
   "outputs": [],
   "source": [
    "special = SpecialMethod(10, 20)"
   ]
  },
  {
   "cell_type": "code",
   "execution_count": 43,
   "metadata": {},
   "outputs": [
    {
     "data": {
      "text/plain": [
       "20"
      ]
     },
     "execution_count": 43,
     "metadata": {},
     "output_type": "execute_result"
    }
   ],
   "source": [
    "special + 10"
   ]
  },
  {
   "cell_type": "code",
   "execution_count": 44,
   "metadata": {},
   "outputs": [],
   "source": [
    "class SpecialMethod2:\n",
    "    def __init__(self, x, y):\n",
    "        self.x = x\n",
    "        self.y = y\n",
    "        \n",
    "    # executed if objects are in '+' operation\n",
    "    # add each object values (new x to x and new y to y)\n",
    "    # called when add(+) operation is executed between two objects\n",
    "    def __add__(self, adds):\n",
    "        return SpecialMethod2(self.x + adds.x, self.y + adds.y)\n",
    "    \n",
    "    # compare two member variables, return True or False\n",
    "    def __equals__(self, adds):\n",
    "        print('__equals__ executed')\n",
    "        if self.x == adds.x and self.y == adds.y:\n",
    "            return True\n",
    "        else:\n",
    "            return False    \n",
    "    \n",
    "    def __str__(self):\n",
    "        return '(%d, %d)' % (self.x, self.y)"
   ]
  },
  {
   "cell_type": "code",
   "execution_count": 45,
   "metadata": {},
   "outputs": [
    {
     "name": "stdout",
     "output_type": "stream",
     "text": [
      "(40, 60)\n"
     ]
    }
   ],
   "source": [
    "s21 = SpecialMethod2(10, 20)\n",
    "s22 = SpecialMethod2(30, 40)\n",
    "v = s21 + s22\n",
    "print(v)    # (40, 60) -> smae as print(str(v))"
   ]
  },
  {
   "cell_type": "code",
   "execution_count": 46,
   "metadata": {},
   "outputs": [
    {
     "name": "stdout",
     "output_type": "stream",
     "text": [
      "False\n"
     ]
    }
   ],
   "source": [
    "s21 = SpecialMethod2(10, 20)\n",
    "s22 = SpecialMethod2(10, 20)\n",
    "print(s21 == s22)"
   ]
  }
 ],
 "metadata": {
  "kernelspec": {
   "display_name": "Python 3",
   "language": "python",
   "name": "python3"
  },
  "language_info": {
   "codemirror_mode": {
    "name": "ipython",
    "version": 3
   },
   "file_extension": ".py",
   "mimetype": "text/x-python",
   "name": "python",
   "nbconvert_exporter": "python",
   "pygments_lexer": "ipython3",
   "version": "3.6.8"
  }
 },
 "nbformat": 4,
 "nbformat_minor": 4
}
