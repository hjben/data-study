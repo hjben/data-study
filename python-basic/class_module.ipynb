{
 "cells": [
  {
   "cell_type": "markdown",
   "metadata": {},
   "source": [
    "# Class\n",
    "\n",
    "#### Class: It's like a blueprint, which could create something having same architecture.    \n",
    "#### Object: An object created by class.\n",
    "\n",
    "Many objects are could made by just one Class. "
   ]
  },
  {
   "cell_type": "code",
   "execution_count": 1,
   "metadata": {},
   "outputs": [
    {
     "name": "stdout",
     "output_type": "stream",
     "text": [
      "It's secret\n",
      "It's no secret\n"
     ]
    }
   ],
   "source": [
    "class Service:\n",
    "    secret = \"It's secret\"\n",
    "\n",
    "pey = Service()\n",
    "\n",
    "# 'pey' is a object related to 'Service' class.\n",
    "\n",
    "print(pey.secret)\n",
    "\n",
    "Service.secret = \"It's no secret\"\n",
    "print(pey.secret)\n",
    "\n",
    "# Class variable is \"shared variable\""
   ]
  },
  {
   "cell_type": "code",
   "execution_count": 2,
   "metadata": {},
   "outputs": [
    {
     "name": "stdout",
     "output_type": "stream",
     "text": [
      "hyunjoong, 1 + 1 = 2.\n"
     ]
    }
   ],
   "source": [
    "class Service:\n",
    "    secret = \"It's secret\"\n",
    "    \n",
    "    def set_name(self, name):\n",
    "        self.name = name\n",
    "        \n",
    "    def sum(self, a, b):\n",
    "        result = a + b\n",
    "        print(\"%s, %s + %s = %s.\" % (self.name, a, b, result))\n",
    "\n",
    "pey = Service()\n",
    "# pey.name = name # error\n",
    "# object.object_variable = value\n",
    "\n",
    "pey.set_name(\"hyunjoong\")\n",
    "pey.sum(1, 1)\n",
    "\n",
    "# The result of pey.sum(1, 1) and of Service.sum(pey, 1, 1) have same values.\n",
    "# Class function is named by \"method\"."
   ]
  },
  {
   "cell_type": "code",
   "execution_count": 4,
   "metadata": {},
   "outputs": [
    {
     "name": "stdout",
     "output_type": "stream",
     "text": [
      "hyunjoong, 1 + 1 = 2.\n"
     ]
    }
   ],
   "source": [
    "class Service:\n",
    "    secret = \"It's secret\"\n",
    "    \n",
    "    def __init__(self, name):\n",
    "        self.name = name\n",
    "    \n",
    "    def sum(self, a, b):\n",
    "        result = a + b\n",
    "        print(\"%s, %s + %s = %s.\" % (self.name, a, b, result))\n",
    "\n",
    "pey = Service(\"hyunjoong\")\n",
    "# default value could be set my __init__ method.\n",
    "pey.sum(1, 1)"
   ]
  },
  {
   "cell_type": "code",
   "execution_count": 5,
   "metadata": {},
   "outputs": [
    {
     "name": "stdout",
     "output_type": "stream",
     "text": [
      "yujin, 1 + 2 = 3.\n"
     ]
    }
   ],
   "source": [
    "pey.name = \"yujin\"\n",
    "pey.sum(1, 2)"
   ]
  },
  {
   "cell_type": "markdown",
   "metadata": {},
   "source": [
    "## Calculator with python class"
   ]
  },
  {
   "cell_type": "code",
   "execution_count": 10,
   "metadata": {},
   "outputs": [],
   "source": [
    "class Fourcal:\n",
    "    def set_data(self, first, second):\n",
    "        self.first = first\n",
    "        self.second = second\n",
    "    \n",
    "    def sum(self):\n",
    "        result = self.first + self.second\n",
    "        return result\n",
    "    \n",
    "    def mul(self):\n",
    "        result = self.first * self.second\n",
    "        return result\n",
    "    \n",
    "    def sub(self):\n",
    "        result = self.first - self.second\n",
    "        return result\n",
    "    \n",
    "    def div(self):\n",
    "        result = self.first / self.second\n",
    "        return result"
   ]
  },
  {
   "cell_type": "code",
   "execution_count": 11,
   "metadata": {},
   "outputs": [
    {
     "name": "stdout",
     "output_type": "stream",
     "text": [
      "6\n",
      "8\n",
      "2\n",
      "2.0\n",
      "10\n",
      "21\n",
      "-4\n",
      "0.42857142857142855\n"
     ]
    }
   ],
   "source": [
    "a = Fourcal()\n",
    "b = Fourcal()\n",
    "\n",
    "a.set_data(4, 2)\n",
    "b.set_data(3, 7)\n",
    "\n",
    "print(a.sum())\n",
    "print(a.mul())\n",
    "print(a.sub())\n",
    "print(a.div())\n",
    "print(b.sum())\n",
    "print(b.mul())\n",
    "print(b.sub())\n",
    "print(b.div())"
   ]
  },
  {
   "cell_type": "markdown",
   "metadata": {},
   "source": [
    "## Class inheritance"
   ]
  },
  {
   "cell_type": "code",
   "execution_count": 15,
   "metadata": {},
   "outputs": [],
   "source": [
    "class HouseKim:\n",
    "    last_name = \"Kim\"\n",
    "    \n",
    "    def __init__(self, name):\n",
    "        self.full_name = self.last_name + name\n",
    "\n",
    "    def travel(self, where):\n",
    "        print(\"%s, %s go travel.\"% (self.full_name, where))\n",
    "        \n",
    "    def love(self, other):\n",
    "        print(\"%s, %s fall in love each other.\"% (self.full_name, other.full_name))\n",
    "\n",
    "    def fight(self, other):\n",
    "        print(\"%s, %s fight.\"% (self.full_name, other.full_name))\n",
    "\n",
    "    def __add__(self, other):\n",
    "        print(\"%s, %s married\"% (self.full_name, other.full_name))\n",
    "    \n",
    "    def __sub__(self, other):\n",
    "        print(\"%s, %s broke up\"% (self.full_name, other.full_name))\n",
    "\n",
    "        \n",
    "# Class inheritance\n",
    "class HouseJo(HouseKim):    \n",
    "    last_name = \"Jo\"\n",
    "\n",
    "    # Method overriding\n",
    "    # If you want to change the function of a method in inherited class, define method which has same name\n",
    "\n",
    "    def travel(self, where, day):\n",
    "        print(\"%s, %s travel in %d day(s).\"% (self.full_name, where, day))"
   ]
  },
  {
   "cell_type": "code",
   "execution_count": 16,
   "metadata": {},
   "outputs": [
    {
     "name": "stdout",
     "output_type": "stream",
     "text": [
      "Kimhyunjoong, namhae go travel.\n",
      "Joyujin, namhae travel in 3 day(s).\n",
      "Kimhyunjoong, Joyujin fall in love each other.\n",
      "Kimhyunjoong, Joyujin married\n",
      "Kimhyunjoong, Joyujin fight.\n"
     ]
    }
   ],
   "source": [
    "kim = HouseKim(\"hyunjoong\")\n",
    "jo = HouseJo(\"yujin\")\n",
    "\n",
    "kim.travel(\"namhae\")\n",
    "\n",
    "jo.travel(\"namhae\", 3)\n",
    "\n",
    "kim.love(jo)\n",
    "kim + jo\n",
    "kim.fight(jo)"
   ]
  },
  {
   "cell_type": "markdown",
   "metadata": {},
   "source": [
    "## If have three Classes"
   ]
  },
  {
   "cell_type": "code",
   "execution_count": 17,
   "metadata": {},
   "outputs": [],
   "source": [
    "class HouseLee(HouseJo):\n",
    "    last_name = \"Lee\"\n",
    "\n",
    "    def travel(self, other, other2, where):\n",
    "        print(\"%s, %s, %s, met in %s travel.\"% (self.full_name, other.full_name, other2.full_name, where))"
   ]
  },
  {
   "cell_type": "code",
   "execution_count": 19,
   "metadata": {},
   "outputs": [
    {
     "name": "stdout",
     "output_type": "stream",
     "text": [
      "Leeyang, Joyujin, Kimhyunjoong, met in busan travel.\n"
     ]
    }
   ],
   "source": [
    "yang = HouseLee(\"yang\")\n",
    "\n",
    "yang.travel(jo, kim, \"busan\")"
   ]
  },
  {
   "cell_type": "markdown",
   "metadata": {},
   "source": [
    "# Module\n",
    "#### A collection of files with functions, variables, or classes."
   ]
  },
  {
   "cell_type": "code",
   "execution_count": 20,
   "metadata": {},
   "outputs": [],
   "source": [
    "def sum(a, b):\n",
    "    return a + b\n",
    "\n",
    "def safe_sum(a, b):\n",
    "    if type(a) != type(b):\n",
    "        print(\"Summing is not available.\")\n",
    "        return 0\n",
    "    else:\n",
    "        return sum(a, b)"
   ]
  },
  {
   "cell_type": "code",
   "execution_count": 21,
   "metadata": {},
   "outputs": [
    {
     "name": "stdout",
     "output_type": "stream",
     "text": [
      "Summing is not available.\n",
      "0\n",
      "5\n",
      "20.4\n"
     ]
    }
   ],
   "source": [
    "# from mod1 import sum\n",
    "\n",
    "if __name__ == \"__main__\":\n",
    "\tprint(safe_sum('a', 1))\n",
    "\tprint(safe_sum(1, 4))\n",
    "\tprint(sum(10, 10.4))"
   ]
  },
  {
   "cell_type": "code",
   "execution_count": 22,
   "metadata": {},
   "outputs": [
    {
     "name": "stdout",
     "output_type": "stream",
     "text": [
      "3.141592\n",
      "12.566368\n",
      "7.5415920000000005\n"
     ]
    }
   ],
   "source": [
    "PI = 3.141592\n",
    "\n",
    "class math:\n",
    "    def solv(self, r):\n",
    "        return PI * (r ** 2)\n",
    "\n",
    "def sum(a, b):\n",
    "    return a + b\n",
    "\n",
    "if __name__ == \"__main__\":\n",
    "    print(PI)\n",
    "    a = math()\n",
    "    print(a.solv(2))\n",
    "    print(sum(PI, 4.4))\n",
    "\n",
    "# If you want to use a class in a module, you should enter the module name before class name, connected with '.' (dot operator)."
   ]
  },
  {
   "cell_type": "code",
   "execution_count": null,
   "metadata": {},
   "outputs": [],
   "source": []
  }
 ],
 "metadata": {
  "kernelspec": {
   "display_name": "Python 3",
   "language": "python",
   "name": "python3"
  },
  "language_info": {
   "codemirror_mode": {
    "name": "ipython",
    "version": 3
   },
   "file_extension": ".py",
   "mimetype": "text/x-python",
   "name": "python",
   "nbconvert_exporter": "python",
   "pygments_lexer": "ipython3",
   "version": "3.6.8"
  }
 },
 "nbformat": 4,
 "nbformat_minor": 4
}
