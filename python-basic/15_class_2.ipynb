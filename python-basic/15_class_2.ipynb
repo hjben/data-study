{
 "cells": [
  {
   "cell_type": "markdown",
   "metadata": {},
   "source": [
    "# 15. Class (2)\n",
    "\n",
    "Inheritance and polymorphism\n",
    "\n",
    "1. Structure to reusable code\n",
    "2. Inheritance : gerenate new class with characteristics of pre-existing one\n",
    "3. Polymorphism : In inheretance relationship, all types of child classes with same parent are equal"
   ]
  },
  {
   "cell_type": "markdown",
   "metadata": {},
   "source": [
    "### 1. Inheritance\n",
    "\n",
    "- Syntax <br>\n",
    "&nbsp;&nbsp;&nbsp; class {child_class_name}({parent_class_name}) <br>\n",
    "&nbsp;&nbsp;&nbsp; parent's constructor would be called in child's - super().\\_\\_init__(parameter)<br>\n",
    "- Method overriding\n"
   ]
  },
  {
   "cell_type": "code",
   "execution_count": null,
   "metadata": {},
   "outputs": [],
   "source": []
  },
  {
   "cell_type": "code",
   "execution_count": 1,
   "metadata": {},
   "outputs": [],
   "source": [
    "# parent class\n",
    "class Parent:\n",
    "    def __init__(self, name):\n",
    "        self.name = name\n",
    "        \n",
    "    def get_name(self):\n",
    "        return self.name\n",
    "\n",
    "# child class\n",
    "class Child(Parent):\n",
    "    def __init__(self, name, age):\n",
    "        super().__init__(name)\n",
    "        self.age = age\n",
    "    \n",
    "    def print_all(self):\n",
    "        print(self.name, ' ', str(10))"
   ]
  },
  {
   "cell_type": "code",
   "execution_count": 2,
   "metadata": {},
   "outputs": [],
   "source": [
    "p = Child('jae-seok', 10)"
   ]
  },
  {
   "cell_type": "code",
   "execution_count": 3,
   "metadata": {},
   "outputs": [
    {
     "name": "stdout",
     "output_type": "stream",
     "text": [
      "jae-seok   10\n"
     ]
    }
   ],
   "source": [
    "p.print_all()"
   ]
  },
  {
   "cell_type": "code",
   "execution_count": 4,
   "metadata": {},
   "outputs": [
    {
     "data": {
      "text/plain": [
       "'jae-seok'"
      ]
     },
     "execution_count": 4,
     "metadata": {},
     "output_type": "execute_result"
    }
   ],
   "source": [
    "p.get_name()"
   ]
  },
  {
   "cell_type": "markdown",
   "metadata": {},
   "source": [
    "#### Method overriding"
   ]
  },
  {
   "cell_type": "code",
   "execution_count": 5,
   "metadata": {},
   "outputs": [],
   "source": [
    "class Animal:\n",
    "    def __init__(self, name=\"\"):\n",
    "        self.name = name\n",
    "        \n",
    "    def eat(self):\n",
    "        print('animal eats')\n",
    "        \n",
    "class Dog(Animal):\n",
    "    def __init__(self):\n",
    "        super().__init__()\n",
    "        \n",
    "    # re-definition of eat mathod\n",
    "    def eat(self):\n",
    "        print('dog eats')"
   ]
  },
  {
   "cell_type": "code",
   "execution_count": 6,
   "metadata": {},
   "outputs": [
    {
     "name": "stdout",
     "output_type": "stream",
     "text": [
      "dog eats\n"
     ]
    }
   ],
   "source": [
    "a = Dog()\n",
    "a.eat()"
   ]
  },
  {
   "cell_type": "code",
   "execution_count": 20,
   "metadata": {},
   "outputs": [],
   "source": [
    "class HouseKim:\n",
    "    last_name = \"Kim\"\n",
    "    \n",
    "    def __init__(self, name):\n",
    "        self.full_name = self.last_name + name\n",
    "\n",
    "    def travel(self, where):\n",
    "        print(\"%s, %s go travel.\"% (self.full_name, where))\n",
    "        \n",
    "    def love(self, other):\n",
    "        print(\"%s, %s fall in love each other.\"% (self.full_name, other.full_name))\n",
    "\n",
    "    def fight(self, other):\n",
    "        print(\"%s, %s fight.\"% (self.full_name, other.full_name))\n",
    "\n",
    "    def __add__(self, other):\n",
    "        print(\"%s, %s married\"% (self.full_name, other.full_name))\n",
    "    \n",
    "    def __sub__(self, other):\n",
    "        print(\"%s, %s broke up\"% (self.full_name, other.full_name))\n",
    "\n",
    "        \n",
    "# Class inheritance\n",
    "class HouseJo(HouseKim):    \n",
    "    last_name = \"Jo\"\n",
    "\n",
    "    # Method overriding\n",
    "    # If you want to change the function of a method in inherited class, define method which has same name\n",
    "    def travel(self, where, day):\n",
    "        print(\"%s, %s travel in %d day(s).\"% (self.full_name, where, day))"
   ]
  },
  {
   "cell_type": "code",
   "execution_count": 21,
   "metadata": {},
   "outputs": [
    {
     "name": "stdout",
     "output_type": "stream",
     "text": [
      "Kimhyunjoong, namhae go travel.\n",
      "Joyujin, namhae travel in 3 day(s).\n",
      "Kimhyunjoong, Joyujin fall in love each other.\n",
      "Kimhyunjoong, Joyujin married\n",
      "Kimhyunjoong, Joyujin fight.\n"
     ]
    }
   ],
   "source": [
    "kim = HouseKim(\"hyunjoong\")\n",
    "jo = HouseJo(\"yujin\")\n",
    "\n",
    "kim.travel(\"namhae\")\n",
    "\n",
    "jo.travel(\"namhae\", 3)\n",
    "\n",
    "kim.love(jo)\n",
    "kim + jo\n",
    "kim.fight(jo)"
   ]
  },
  {
   "cell_type": "code",
   "execution_count": 22,
   "metadata": {},
   "outputs": [],
   "source": [
    "class HouseLee(HouseJo):\n",
    "    last_name = \"Lee\"\n",
    "\n",
    "    def travel(self, other, other2, where):\n",
    "        print(\"%s, %s, %s, met in %s travel.\"% (self.full_name, other.full_name, other2.full_name, where))"
   ]
  },
  {
   "cell_type": "code",
   "execution_count": 23,
   "metadata": {},
   "outputs": [
    {
     "name": "stdout",
     "output_type": "stream",
     "text": [
      "Leeyang, Joyujin, Kimhyunjoong, met in busan travel.\n"
     ]
    }
   ],
   "source": [
    "yang = HouseLee(\"yang\")\n",
    "yang.travel(jo, kim, \"busan\")"
   ]
  },
  {
   "cell_type": "code",
   "execution_count": 24,
   "metadata": {},
   "outputs": [],
   "source": [
    "class Employee:\n",
    "    def __init__(self, name, salary):\n",
    "        self.name = name\n",
    "        self.salary = salary\n",
    "        \n",
    "    def get_salary(self):\n",
    "        return salary\n",
    "\n",
    "class Manager(Employee):\n",
    "    def __init__(self, name, salary, bonus):\n",
    "        super().__init__(name, salary)\n",
    "        self.bonus = bonus\n",
    "        \n",
    "    def get_salary(self):\n",
    "        salary = super().get_salary()\n",
    "        return salary + self.bonus\n",
    "\n",
    "    def __str__(self):\n",
    "        return '(%s, %d, %d)' % (self.name, self.salary, self.bonus)"
   ]
  },
  {
   "cell_type": "code",
   "execution_count": 25,
   "metadata": {},
   "outputs": [
    {
     "name": "stdout",
     "output_type": "stream",
     "text": [
      "(hyunjoong, 2000000, 1000000)\n"
     ]
    }
   ],
   "source": [
    "kim = Manager(\"hyunjoong\", 2000000, 1000000)\n",
    "print(kim)"
   ]
  },
  {
   "cell_type": "markdown",
   "metadata": {},
   "source": [
    "### 2. Polymorphism\n",
    "- For simple and reusable code"
   ]
  },
  {
   "cell_type": "code",
   "execution_count": 26,
   "metadata": {},
   "outputs": [
    {
     "name": "stdout",
     "output_type": "stream",
     "text": [
      "dog1: RR!\n",
      "dog2: RR!\n",
      "cat1: Meaw!\n"
     ]
    }
   ],
   "source": [
    "class Animal:\n",
    "    def __init__(self, name):    \n",
    "        self.name = name\n",
    "        \n",
    "    def speak(self):             \n",
    "        return 'Unknown'\n",
    "\n",
    "class Dog(Animal):\n",
    "    def speak(self):\n",
    "        return 'RR!'\n",
    "    \n",
    "class Cat(Animal):\n",
    "    def speak(self):\n",
    "        return 'Meaw!'\n",
    "    \n",
    "animalList = [Dog('dog1'), Dog('dog2'), Cat('cat1')]\n",
    " \n",
    "for a in animalList:\n",
    "    print (a.name + ': ' + a.speak())"
   ]
  }
 ],
 "metadata": {
  "kernelspec": {
   "display_name": "Python 3",
   "language": "python",
   "name": "python3"
  },
  "language_info": {
   "codemirror_mode": {
    "name": "ipython",
    "version": 3
   },
   "file_extension": ".py",
   "mimetype": "text/x-python",
   "name": "python",
   "nbconvert_exporter": "python",
   "pygments_lexer": "ipython3",
   "version": "3.6.8"
  }
 },
 "nbformat": 4,
 "nbformat_minor": 4
}
