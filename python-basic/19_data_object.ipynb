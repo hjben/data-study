{
 "cells": [
  {
   "cell_type": "markdown",
   "metadata": {},
   "source": [
    "# 19. Data object"
   ]
  },
  {
   "cell_type": "markdown",
   "metadata": {},
   "source": [
    "### 1. JSON\n",
    "\n",
    "1. Reason of using JSON\n",
    "- Clear separation of value\n",
    "- Sevice-indepentent\n",
    "- Compatible with all programming languages\n",
    "- Separate data with unique key -> more efficient than CSV format\n",
    "- Client get large amount of data from server with JSON format\n",
    "- Saving format of MongoDB  \n",
    "\n",
    "\n",
    "2. API\n",
    "- Convert python list to JSON : dumps()\n",
    "- Convert JSON data to python object : loads()"
   ]
  },
  {
   "cell_type": "code",
   "execution_count": 1,
   "metadata": {},
   "outputs": [],
   "source": [
    "import json"
   ]
  },
  {
   "cell_type": "code",
   "execution_count": 2,
   "metadata": {},
   "outputs": [],
   "source": [
    "friends = [{'f1':1, 'name':'jo'}, {'f1':2, 'name':'kim'}, {'f1':3, 'name':'park'}]"
   ]
  },
  {
   "cell_type": "code",
   "execution_count": 3,
   "metadata": {},
   "outputs": [
    {
     "data": {
      "text/plain": [
       "'park'"
      ]
     },
     "execution_count": 3,
     "metadata": {},
     "output_type": "execute_result"
    }
   ],
   "source": [
    "friends[2]['name']"
   ]
  },
  {
   "cell_type": "code",
   "execution_count": 4,
   "metadata": {},
   "outputs": [
    {
     "data": {
      "text/plain": [
       "[{'f1': 1, 'name': 'jo'}, {'f1': 2, 'name': 'kim'}, {'f1': 3, 'name': 'park'}]"
      ]
     },
     "execution_count": 4,
     "metadata": {},
     "output_type": "execute_result"
    }
   ],
   "source": [
    "friends"
   ]
  },
  {
   "cell_type": "code",
   "execution_count": 5,
   "metadata": {},
   "outputs": [
    {
     "data": {
      "text/plain": [
       "'[{\"f1\": 1, \"name\": \"jo\"}, {\"f1\": 2, \"name\": \"kim\"}, {\"f1\": 3, \"name\": \"park\"}]'"
      ]
     },
     "execution_count": 5,
     "metadata": {},
     "output_type": "execute_result"
    }
   ],
   "source": [
    "# list to JSON-shape string object\n",
    "json_data = json.dumps(friends, ensure_ascii=False)\n",
    "json_data"
   ]
  },
  {
   "cell_type": "code",
   "execution_count": 6,
   "metadata": {},
   "outputs": [
    {
     "data": {
      "text/plain": [
       "'[\\n  {\\n    \"f1\": 1,\\n    \"name\": \"jo\"\\n  },\\n  {\\n    \"f1\": 2,\\n    \"name\": \"kim\"\\n  },\\n  {\\n    \"f1\": 3,\\n    \"name\": \"park\"\\n  }\\n]'"
      ]
     },
     "execution_count": 6,
     "metadata": {},
     "output_type": "execute_result"
    }
   ],
   "source": [
    "# add indent option\n",
    "json_data = json.dumps(friends, ensure_ascii=False, indent=2)\n",
    "json_data"
   ]
  },
  {
   "cell_type": "code",
   "execution_count": 8,
   "metadata": {},
   "outputs": [
    {
     "name": "stdout",
     "output_type": "stream",
     "text": [
      "<class 'list'>\n",
      "<class 'str'>\n"
     ]
    }
   ],
   "source": [
    "# compare type\n",
    "print(type(friends))\n",
    "print(type(json_data))"
   ]
  },
  {
   "cell_type": "code",
   "execution_count": 9,
   "metadata": {},
   "outputs": [],
   "source": [
    "# write JSON file\n",
    "with open(\"friend.json\", \"w\") as f:\n",
    "    # write json string from list data to file\n",
    "    json.dump(friends, fp=f, ensure_ascii=False)"
   ]
  },
  {
   "cell_type": "code",
   "execution_count": null,
   "metadata": {},
   "outputs": [],
   "source": [
    "# escape character\n",
    "pattern = re.compile(r'\\\\section')"
   ]
  },
  {
   "cell_type": "markdown",
   "metadata": {},
   "source": [
    "### 2. Create JSON convert module"
   ]
  },
  {
   "cell_type": "code",
   "execution_count": 10,
   "metadata": {},
   "outputs": [],
   "source": [
    "def save(filename, data):\n",
    "    with open(filename + \".json\", \"w\") as f:\n",
    "        json.dump(data, fp=f, ensure_ascii=False)\n",
    "    print(\"save finished - filename: \" + filename)\n",
    "\n",
    "def view(filename):\n",
    "    with open(filename + \".json\", \"r\") as f:\n",
    "        data = json.loads(f.read())\n",
    "        print(\"JSON file load finished - filename: \" + filename)\n",
    "\n",
    "        return data"
   ]
  },
  {
   "cell_type": "code",
   "execution_count": 11,
   "metadata": {},
   "outputs": [],
   "source": [
    "x = {\"name\": \"John\", \"age\": 30, \"married\": True, \"divorced\": False, \"children\": (\"Ann\", \"Billy\"), \"pets\": None, \"cars\": [{\"model\": \"BMW 230\", \"mpg\": 27.5}, {\"model\": \"Ford Edge\", \"mpg\": 24.1}]}"
   ]
  },
  {
   "cell_type": "code",
   "execution_count": 13,
   "metadata": {},
   "outputs": [
    {
     "name": "stdout",
     "output_type": "stream",
     "text": [
      "save finished - filename: person\n"
     ]
    }
   ],
   "source": [
    "save(\"person\", x)"
   ]
  },
  {
   "cell_type": "code",
   "execution_count": 14,
   "metadata": {},
   "outputs": [
    {
     "name": "stdout",
     "output_type": "stream",
     "text": [
      "JSON file load finished - filename: person\n"
     ]
    },
    {
     "data": {
      "text/plain": [
       "'John'"
      ]
     },
     "execution_count": 14,
     "metadata": {},
     "output_type": "execute_result"
    }
   ],
   "source": [
    "data = view(\"person\")\n",
    "data[\"name\"]"
   ]
  },
  {
   "cell_type": "markdown",
   "metadata": {},
   "source": [
    "### 3. Managing CSV\n",
    "\n",
    "- CSV: Comma Seperated Value"
   ]
  },
  {
   "cell_type": "code",
   "execution_count": 4,
   "metadata": {},
   "outputs": [
    {
     "data": {
      "text/plain": [
       "'no,name,age'"
      ]
     },
     "execution_count": 4,
     "metadata": {},
     "output_type": "execute_result"
    }
   ],
   "source": [
    "'no,name,age'"
   ]
  },
  {
   "cell_type": "code",
   "execution_count": 3,
   "metadata": {},
   "outputs": [
    {
     "name": "stdout",
     "output_type": "stream",
     "text": [
      "1,heo,60\n",
      "2,shin,80\n"
     ]
    }
   ],
   "source": [
    "# convert list data to csv format\n",
    "print(\",\".join(['1', 'heo', '60']))\n",
    "print(\",\".join(['2', 'shin', '80']))"
   ]
  },
  {
   "cell_type": "code",
   "execution_count": 5,
   "metadata": {},
   "outputs": [],
   "source": [
    "import csv"
   ]
  },
  {
   "cell_type": "code",
   "execution_count": 6,
   "metadata": {},
   "outputs": [],
   "source": [
    "with open(\"history.csv\", \"w\", newline='') as f:\n",
    "    # write CSV file with writer variable\n",
    "    writer = csv.writer(f)\n",
    "\n",
    "    # write CSV header\n",
    "    writer.writerow(['no','name','age'])\n",
    "\n",
    "    # write data\n",
    "    writer.writerows([['1', 'heo', '60'], ['2', 'yeol', '600'], ['3', 'lee', '10']])"
   ]
  }
 ],
 "metadata": {
  "kernelspec": {
   "display_name": "Python 3 (ipykernel)",
   "language": "python",
   "name": "python3"
  },
  "language_info": {
   "codemirror_mode": {
    "name": "ipython",
    "version": 3
   },
   "file_extension": ".py",
   "mimetype": "text/x-python",
   "name": "python",
   "nbconvert_exporter": "python",
   "pygments_lexer": "ipython3",
   "version": "3.9.6"
  }
 },
 "nbformat": 4,
 "nbformat_minor": 4
}
